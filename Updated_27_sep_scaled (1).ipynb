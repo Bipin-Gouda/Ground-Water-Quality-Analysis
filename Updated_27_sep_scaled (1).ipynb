{
 "cells": [
  {
   "cell_type": "raw",
   "metadata": {
    "id": "dpQsiYOd84pB"
   },
   "source": [
    "# DOWNLOADS ( ORIGINAL WALA)"
   ]
  },
  {
   "cell_type": "markdown",
   "metadata": {
    "id": "fP_zGKjE981J"
   },
   "source": []
  },
  {
   "cell_type": "markdown",
   "metadata": {
    "id": "ZOWd8s8NmrAu"
   },
   "source": [
    "# Odisha Ground Water Quality Analysis "
   ]
  },
  {
   "cell_type": "markdown",
   "metadata": {
    "id": "_-bR5wFNmrAz"
   },
   "source": [
    "# 1.Bussiness/Real World Problem"
   ]
  },
  {
   "cell_type": "markdown",
   "metadata": {
    "id": "7mZSVS-omrA1"
   },
   "source": [
    "### 1.1 Problem Statement"
   ]
  },
  {
   "cell_type": "markdown",
   "metadata": {
    "id": "SEY-BxwnmrA3"
   },
   "source": [
    "The chemical quality of ground water of Odisha has been evaluated by chemically analyzing water samples\n",
    "collected from National Hydrograph Network Stations (NHNS). The water samples for\n",
    "these purposes were collected in clean 1.0 litre polyethylene bottles after rinsing 2 to 3 times with the water\n",
    "samples to be collected.\n",
    "<br>\n",
    "<br>\n",
    "The samples were analysed for 14 parameters namely pH, Electrical Conductivity (EC),\n",
    "Total Dissolved Solids (TDS), Total Hardness (TH), Alkalinity, Calcium (Ca), Magnesium (Mg), Sodium (Na),\n",
    "Potassium (K), Carbonate (CO 3 ), Bicarbonate (HCO 3 ), Chloride (Cl), Sulphate (SO 4 ), and Fluoride (F)\n",
    "<br>\n",
    "<br>\n",
    "<br>\n",
    "Problem  - - <b>Odisha Ground Water Quality Analysis <b>\n",
    "    \n",
    "    "
   ]
  },
  {
   "cell_type": "code",
   "execution_count": 5,
   "metadata": {
    "id": "E2_bsrH9mrA5"
   },
   "outputs": [],
   "source": [
    "#from IPython.display import Image\n",
    "#Image(filename =\"1.jpg\", width=600, height=100)"
   ]
  },
  {
   "cell_type": "markdown",
   "metadata": {
    "id": "7lhj1UpDmrA8"
   },
   "source": [
    "Image Source -   http://cgwb.gov.in/Regions/SER/Reports/GROUND%20WATER%20YEAR%20BOOK%202019_2020.pdf"
   ]
  },
  {
   "cell_type": "markdown",
   "metadata": {
    "id": "wzYBrX0NmrA9"
   },
   "source": [
    "### 1.2 Sources / Useful Links"
   ]
  },
  {
   "cell_type": "markdown",
   "metadata": {
    "id": "DKG5Y_RimrA-"
   },
   "source": [
    "To monitor the effect caused by indiscriminate use of this precious resource on groundwater regime, Central Ground\n",
    "Water Board, South Eastern Region, Bhubaneswar has established about 1600 National Hydrograph Network\n",
    "Stations (NHNS) (open / dug wells) and piezometres in the state of Odisha. The water levels are being monitored\n",
    "four times a year. Besides, to study the change in chemical quality of groundwater in time and space, the water\n",
    "samples from these NHNS are being collected once a year (Pre-monsoon) and analysed in the Water Quality\n",
    "Laboratory of the Region.\n",
    "<br>\n",
    "<br>\n",
    "\n",
    "Central Ground Water Year book - \n",
    "<br>\n",
    "<br>\n",
    "The data got extracted from the Report of <br>\n",
    "Govt. of India <br>\n",
    "Ministry of Jal Shakti <br>\n",
    "Department of Water Resources, <br>\n",
    "River Development & Ganga Rejuvenation <br>\n",
    "CENTRAL GROUND WATER BOARD (2019-2020)"
   ]
  },
  {
   "cell_type": "markdown",
   "metadata": {
    "id": "dtBOZqZEmrBA"
   },
   "source": [
    "### 1.3 Real World Bussiness Objective "
   ]
  },
  {
   "cell_type": "markdown",
   "metadata": {
    "id": "OKx3itZ3mrBA"
   },
   "source": [
    "1.Binary Classification <br>\n",
    "2.Multi class Classification <br>\n"
   ]
  },
  {
   "cell_type": "markdown",
   "metadata": {
    "id": "MQRCuDSrmrBB"
   },
   "source": [
    "# 2.MACHINE LEARNING PROBLEM"
   ]
  },
  {
   "cell_type": "markdown",
   "metadata": {
    "id": "Q8sX5ZJkmrBC"
   },
   "source": [
    "## 2.1 Data "
   ]
  },
  {
   "cell_type": "markdown",
   "metadata": {
    "id": "OYSIg4s-mrBD"
   },
   "source": [
    "### 2.1.1 Data Overview "
   ]
  },
  {
   "cell_type": "markdown",
   "metadata": {
    "id": "p1g_GuMLmrBE"
   },
   "source": [
    "<li>PH(potential of hydrogen)</li> pH is a scale used to specify the acidity or basicity of an aqueous solution.\n",
    "\n",
    "<li>Electrical Conductivity (EC)</li>Measurement of the dissolved material in an aqueous solution, which relates to the ability of the material to conduct electrical current through it.\n",
    "\n",
    "<li>Total Dissolved Solids (TDS)</li>used to describe the inorganic salts and small amounts of organic matter present in solution in water.\n",
    "\n",
    "<li>Total Hardness (TH)</li>measurement of calcium and magnesium, and is expressed as calcium carbonate; our body needs both Ca and Mg to remain healthy.\n",
    "\n",
    "<li>Alkalinity</li>Alkalinity is the strength of a buffer solution composed of weak acids and their conjugate bases. \n",
    "\n",
    "<li>Calcium (Ca)</li>\n",
    "<li>Magnesium (Mg)</li>\n",
    "<li>Sodium (Na)</li>\n",
    "<li>Potassium (K)</li>\n",
    "<li>Carbonate (CO 3 )</li>\n",
    "<li>Bicarbonate (HCO 3 )</li>\n",
    "<li>Chloride (Cl)</li>\n",
    "<li>Sulphate (SO 4)</li>\n",
    "<li>Fluoride (F)</li>"
   ]
  },
  {
   "cell_type": "markdown",
   "metadata": {
    "id": "Wnkp4SKgmrBF"
   },
   "source": [
    "### 2.1.2   STANDARDS"
   ]
  },
  {
   "cell_type": "raw",
   "metadata": {
    "id": "kbm4PDdKmrBG"
   },
   "source": [
    "Parameters and Permisible Limits\n",
    "\n",
    "1 . PH level            6.5-8.5\n",
    "\n",
    "2 . Conductivity(EC)    1000\n",
    "\n",
    "3 . TDS                 500    \n",
    "\n",
    "4 . Total Hardness      300 \n",
    "\n",
    "5 . Alkalinity          200\n",
    "\n",
    "6 . Calcium             75\n",
    "\n",
    "7 . Magnesium           30\n",
    "\n",
    "8 . Sodium              200\n",
    "\n",
    "9 . Potassium           12\n",
    "\n",
    "10 .Bicarbonate         350 \n",
    "\n",
    "11 .Chloride            250\n",
    "\n",
    "12 .Sulphate            200\n",
    "\n",
    "13 .Fluoride            1.5\n",
    "\n",
    "(1 ppm = approximately 1 mg/L)"
   ]
  },
  {
   "cell_type": "markdown",
   "metadata": {
    "id": "06boquHAmrBH"
   },
   "source": [
    "## 2.2 Mapping the real-world problem to an ML problem "
   ]
  },
  {
   "cell_type": "markdown",
   "metadata": {
    "id": "nwFPNIJFmrBI"
   },
   "source": [
    "### 2.2.1 Type of Machine Leaning Problem "
   ]
  },
  {
   "cell_type": "markdown",
   "metadata": {
    "id": "ix1yfeKVmrBI"
   },
   "source": [
    "1. It can be a binary class problem where we can check whether all the parameters within permissible limit.\n",
    "2. It can be multiclass classification problem where we calculate the WQI which is a standard way determining        quality of water."
   ]
  },
  {
   "cell_type": "markdown",
   "metadata": {
    "id": "4XGGCzqvmrBI"
   },
   "source": [
    "## 3.EXPLORATORY DATA ANALYSIS "
   ]
  },
  {
   "cell_type": "code",
   "execution_count": 6,
   "metadata": {
    "id": "_ssShPwTmrBJ"
   },
   "outputs": [],
   "source": [
    "import numpy as np\n",
    "import pandas as pd\n",
    "import matplotlib.pyplot as plt\n",
    "import os\n",
    "import re\n",
    "import time\n",
    "import warnings"
   ]
  },
  {
   "cell_type": "markdown",
   "metadata": {
    "id": "B9RI0zKtmrBJ"
   },
   "source": [
    "### 3.1 Importing the Data "
   ]
  },
  {
   "cell_type": "code",
   "execution_count": 7,
   "metadata": {
    "colab": {
     "base_uri": "https://localhost:8080/"
    },
    "id": "76axswW56fFq",
    "outputId": "0d185b29-20e7-4c7d-ccf1-b8192da627d2"
   },
   "outputs": [
    {
     "name": "stdout",
     "output_type": "stream",
     "text": [
      "No:of Unique Districts where water samples are collected: 30\n",
      "No:of Unique Villages where water samples are collected: 1210\n"
     ]
    }
   ],
   "source": [
    "import pandas as pd\n",
    "df= pd.read_csv('water_quality.csv')\n",
    "print('No:of Unique Districts where water samples are collected:',len(df.District.unique()))\n",
    "print('No:of Unique Villages where water samples are collected:',len(df.Village.unique()))"
   ]
  },
  {
   "cell_type": "code",
   "execution_count": 8,
   "metadata": {
    "colab": {
     "base_uri": "https://localhost:8080/"
    },
    "id": "41qcOVPtTEZx",
    "outputId": "ac7c1e7e-7a9d-4959-e8a3-296590e25b01"
   },
   "outputs": [
    {
     "name": "stdout",
     "output_type": "stream",
     "text": [
      "SL NO.         0\n",
      "District       0\n",
      "Village        0\n",
      "pH             0\n",
      "EC             0\n",
      "TDS            0\n",
      "TH             0\n",
      "Alkalinity     0\n",
      "Calcium        0\n",
      "Magnesium      0\n",
      "Sodium         0\n",
      "Potassium      0\n",
      "Carbonate      0\n",
      "Bicarbonate    0\n",
      "Chloride       0\n",
      "Sulphate       0\n",
      "Fluoride       0\n",
      "dtype: int64\n"
     ]
    }
   ],
   "source": [
    "print(df.isna().sum())"
   ]
  },
  {
   "cell_type": "code",
   "execution_count": 9,
   "metadata": {
    "colab": {
     "base_uri": "https://localhost:8080/",
     "height": 364
    },
    "id": "21zJcsfBmrBO",
    "outputId": "70b2e123-50b7-4a45-8bf5-8c5120e0f983"
   },
   "outputs": [
    {
     "data": {
      "text/html": [
       "\n",
       "  <div id=\"df-e4e99a2e-d1f3-4287-add0-c56c719c7411\">\n",
       "    <div class=\"colab-df-container\">\n",
       "      <div>\n",
       "<style scoped>\n",
       "    .dataframe tbody tr th:only-of-type {\n",
       "        vertical-align: middle;\n",
       "    }\n",
       "\n",
       "    .dataframe tbody tr th {\n",
       "        vertical-align: top;\n",
       "    }\n",
       "\n",
       "    .dataframe thead th {\n",
       "        text-align: right;\n",
       "    }\n",
       "</style>\n",
       "<table border=\"1\" class=\"dataframe\">\n",
       "  <thead>\n",
       "    <tr style=\"text-align: right;\">\n",
       "      <th></th>\n",
       "      <th>SL NO.</th>\n",
       "      <th>pH</th>\n",
       "      <th>EC</th>\n",
       "      <th>TDS</th>\n",
       "      <th>TH</th>\n",
       "      <th>Alkalinity</th>\n",
       "      <th>Calcium</th>\n",
       "      <th>Magnesium</th>\n",
       "      <th>Sodium</th>\n",
       "      <th>Potassium</th>\n",
       "      <th>Carbonate</th>\n",
       "      <th>Bicarbonate</th>\n",
       "      <th>Chloride</th>\n",
       "      <th>Sulphate</th>\n",
       "      <th>Fluoride</th>\n",
       "    </tr>\n",
       "  </thead>\n",
       "  <tbody>\n",
       "    <tr>\n",
       "      <th>count</th>\n",
       "      <td>1241.000000</td>\n",
       "      <td>1241.000000</td>\n",
       "      <td>1241.000000</td>\n",
       "      <td>1241.000000</td>\n",
       "      <td>1241.000000</td>\n",
       "      <td>1241.000000</td>\n",
       "      <td>1241.000000</td>\n",
       "      <td>1241.000000</td>\n",
       "      <td>1241.000000</td>\n",
       "      <td>1241.000000</td>\n",
       "      <td>1241.000000</td>\n",
       "      <td>1241.000000</td>\n",
       "      <td>1241.000000</td>\n",
       "      <td>1241.000000</td>\n",
       "      <td>1241.000000</td>\n",
       "    </tr>\n",
       "    <tr>\n",
       "      <th>mean</th>\n",
       "      <td>621.000000</td>\n",
       "      <td>7.828622</td>\n",
       "      <td>695.439283</td>\n",
       "      <td>358.057212</td>\n",
       "      <td>215.015310</td>\n",
       "      <td>178.496374</td>\n",
       "      <td>43.941982</td>\n",
       "      <td>25.617244</td>\n",
       "      <td>49.991942</td>\n",
       "      <td>13.162530</td>\n",
       "      <td>1.258662</td>\n",
       "      <td>215.799355</td>\n",
       "      <td>92.170024</td>\n",
       "      <td>26.223207</td>\n",
       "      <td>0.398517</td>\n",
       "    </tr>\n",
       "    <tr>\n",
       "      <th>std</th>\n",
       "      <td>358.390151</td>\n",
       "      <td>0.399608</td>\n",
       "      <td>536.819062</td>\n",
       "      <td>280.979343</td>\n",
       "      <td>156.787273</td>\n",
       "      <td>104.932014</td>\n",
       "      <td>30.612192</td>\n",
       "      <td>25.835135</td>\n",
       "      <td>61.033544</td>\n",
       "      <td>29.670994</td>\n",
       "      <td>6.597529</td>\n",
       "      <td>126.507379</td>\n",
       "      <td>127.144334</td>\n",
       "      <td>30.662012</td>\n",
       "      <td>0.419844</td>\n",
       "    </tr>\n",
       "    <tr>\n",
       "      <th>min</th>\n",
       "      <td>1.000000</td>\n",
       "      <td>6.460000</td>\n",
       "      <td>7.150000</td>\n",
       "      <td>30.000000</td>\n",
       "      <td>20.000000</td>\n",
       "      <td>15.000000</td>\n",
       "      <td>0.000000</td>\n",
       "      <td>-4.000000</td>\n",
       "      <td>0.000000</td>\n",
       "      <td>0.000000</td>\n",
       "      <td>0.000000</td>\n",
       "      <td>18.000000</td>\n",
       "      <td>0.000000</td>\n",
       "      <td>-3.000000</td>\n",
       "      <td>0.020000</td>\n",
       "    </tr>\n",
       "    <tr>\n",
       "      <th>25%</th>\n",
       "      <td>311.000000</td>\n",
       "      <td>7.580000</td>\n",
       "      <td>360.000000</td>\n",
       "      <td>186.000000</td>\n",
       "      <td>123.000000</td>\n",
       "      <td>105.000000</td>\n",
       "      <td>26.000000</td>\n",
       "      <td>10.000000</td>\n",
       "      <td>17.000000</td>\n",
       "      <td>1.600000</td>\n",
       "      <td>0.000000</td>\n",
       "      <td>128.000000</td>\n",
       "      <td>26.000000</td>\n",
       "      <td>4.000000</td>\n",
       "      <td>0.160000</td>\n",
       "    </tr>\n",
       "    <tr>\n",
       "      <th>50%</th>\n",
       "      <td>621.000000</td>\n",
       "      <td>7.900000</td>\n",
       "      <td>550.000000</td>\n",
       "      <td>277.000000</td>\n",
       "      <td>184.000000</td>\n",
       "      <td>158.000000</td>\n",
       "      <td>39.000000</td>\n",
       "      <td>19.000000</td>\n",
       "      <td>30.000000</td>\n",
       "      <td>3.800000</td>\n",
       "      <td>0.000000</td>\n",
       "      <td>192.000000</td>\n",
       "      <td>55.000000</td>\n",
       "      <td>17.000000</td>\n",
       "      <td>0.270000</td>\n",
       "    </tr>\n",
       "    <tr>\n",
       "      <th>75%</th>\n",
       "      <td>931.000000</td>\n",
       "      <td>8.120000</td>\n",
       "      <td>900.000000</td>\n",
       "      <td>456.000000</td>\n",
       "      <td>267.000000</td>\n",
       "      <td>228.000000</td>\n",
       "      <td>53.000000</td>\n",
       "      <td>34.000000</td>\n",
       "      <td>65.000000</td>\n",
       "      <td>10.100000</td>\n",
       "      <td>0.000000</td>\n",
       "      <td>275.000000</td>\n",
       "      <td>110.000000</td>\n",
       "      <td>38.000000</td>\n",
       "      <td>0.470000</td>\n",
       "    </tr>\n",
       "    <tr>\n",
       "      <th>max</th>\n",
       "      <td>1241.000000</td>\n",
       "      <td>8.780000</td>\n",
       "      <td>5770.000000</td>\n",
       "      <td>2766.000000</td>\n",
       "      <td>1945.000000</td>\n",
       "      <td>765.000000</td>\n",
       "      <td>497.000000</td>\n",
       "      <td>345.000000</td>\n",
       "      <td>820.000000</td>\n",
       "      <td>332.000000</td>\n",
       "      <td>88.000000</td>\n",
       "      <td>933.000000</td>\n",
       "      <td>1753.000000</td>\n",
       "      <td>434.000000</td>\n",
       "      <td>3.940000</td>\n",
       "    </tr>\n",
       "  </tbody>\n",
       "</table>\n",
       "</div>\n",
       "      <button class=\"colab-df-convert\" onclick=\"convertToInteractive('df-e4e99a2e-d1f3-4287-add0-c56c719c7411')\"\n",
       "              title=\"Convert this dataframe to an interactive table.\"\n",
       "              style=\"display:none;\">\n",
       "        \n",
       "  <svg xmlns=\"http://www.w3.org/2000/svg\" height=\"24px\"viewBox=\"0 0 24 24\"\n",
       "       width=\"24px\">\n",
       "    <path d=\"M0 0h24v24H0V0z\" fill=\"none\"/>\n",
       "    <path d=\"M18.56 5.44l.94 2.06.94-2.06 2.06-.94-2.06-.94-.94-2.06-.94 2.06-2.06.94zm-11 1L8.5 8.5l.94-2.06 2.06-.94-2.06-.94L8.5 2.5l-.94 2.06-2.06.94zm10 10l.94 2.06.94-2.06 2.06-.94-2.06-.94-.94-2.06-.94 2.06-2.06.94z\"/><path d=\"M17.41 7.96l-1.37-1.37c-.4-.4-.92-.59-1.43-.59-.52 0-1.04.2-1.43.59L10.3 9.45l-7.72 7.72c-.78.78-.78 2.05 0 2.83L4 21.41c.39.39.9.59 1.41.59.51 0 1.02-.2 1.41-.59l7.78-7.78 2.81-2.81c.8-.78.8-2.07 0-2.86zM5.41 20L4 18.59l7.72-7.72 1.47 1.35L5.41 20z\"/>\n",
       "  </svg>\n",
       "      </button>\n",
       "      \n",
       "  <style>\n",
       "    .colab-df-container {\n",
       "      display:flex;\n",
       "      flex-wrap:wrap;\n",
       "      gap: 12px;\n",
       "    }\n",
       "\n",
       "    .colab-df-convert {\n",
       "      background-color: #E8F0FE;\n",
       "      border: none;\n",
       "      border-radius: 50%;\n",
       "      cursor: pointer;\n",
       "      display: none;\n",
       "      fill: #1967D2;\n",
       "      height: 32px;\n",
       "      padding: 0 0 0 0;\n",
       "      width: 32px;\n",
       "    }\n",
       "\n",
       "    .colab-df-convert:hover {\n",
       "      background-color: #E2EBFA;\n",
       "      box-shadow: 0px 1px 2px rgba(60, 64, 67, 0.3), 0px 1px 3px 1px rgba(60, 64, 67, 0.15);\n",
       "      fill: #174EA6;\n",
       "    }\n",
       "\n",
       "    [theme=dark] .colab-df-convert {\n",
       "      background-color: #3B4455;\n",
       "      fill: #D2E3FC;\n",
       "    }\n",
       "\n",
       "    [theme=dark] .colab-df-convert:hover {\n",
       "      background-color: #434B5C;\n",
       "      box-shadow: 0px 1px 3px 1px rgba(0, 0, 0, 0.15);\n",
       "      filter: drop-shadow(0px 1px 2px rgba(0, 0, 0, 0.3));\n",
       "      fill: #FFFFFF;\n",
       "    }\n",
       "  </style>\n",
       "\n",
       "      <script>\n",
       "        const buttonEl =\n",
       "          document.querySelector('#df-e4e99a2e-d1f3-4287-add0-c56c719c7411 button.colab-df-convert');\n",
       "        buttonEl.style.display =\n",
       "          google.colab.kernel.accessAllowed ? 'block' : 'none';\n",
       "\n",
       "        async function convertToInteractive(key) {\n",
       "          const element = document.querySelector('#df-e4e99a2e-d1f3-4287-add0-c56c719c7411');\n",
       "          const dataTable =\n",
       "            await google.colab.kernel.invokeFunction('convertToInteractive',\n",
       "                                                     [key], {});\n",
       "          if (!dataTable) return;\n",
       "\n",
       "          const docLinkHtml = 'Like what you see? Visit the ' +\n",
       "            '<a target=\"_blank\" href=https://colab.research.google.com/notebooks/data_table.ipynb>data table notebook</a>'\n",
       "            + ' to learn more about interactive tables.';\n",
       "          element.innerHTML = '';\n",
       "          dataTable['output_type'] = 'display_data';\n",
       "          await google.colab.output.renderOutput(dataTable, element);\n",
       "          const docLink = document.createElement('div');\n",
       "          docLink.innerHTML = docLinkHtml;\n",
       "          element.appendChild(docLink);\n",
       "        }\n",
       "      </script>\n",
       "    </div>\n",
       "  </div>\n",
       "  "
      ],
      "text/plain": [
       "            SL NO.           pH           EC          TDS           TH  \\\n",
       "count  1241.000000  1241.000000  1241.000000  1241.000000  1241.000000   \n",
       "mean    621.000000     7.828622   695.439283   358.057212   215.015310   \n",
       "std     358.390151     0.399608   536.819062   280.979343   156.787273   \n",
       "min       1.000000     6.460000     7.150000    30.000000    20.000000   \n",
       "25%     311.000000     7.580000   360.000000   186.000000   123.000000   \n",
       "50%     621.000000     7.900000   550.000000   277.000000   184.000000   \n",
       "75%     931.000000     8.120000   900.000000   456.000000   267.000000   \n",
       "max    1241.000000     8.780000  5770.000000  2766.000000  1945.000000   \n",
       "\n",
       "        Alkalinity      Calcium    Magnesium       Sodium    Potassium  \\\n",
       "count  1241.000000  1241.000000  1241.000000  1241.000000  1241.000000   \n",
       "mean    178.496374    43.941982    25.617244    49.991942    13.162530   \n",
       "std     104.932014    30.612192    25.835135    61.033544    29.670994   \n",
       "min      15.000000     0.000000    -4.000000     0.000000     0.000000   \n",
       "25%     105.000000    26.000000    10.000000    17.000000     1.600000   \n",
       "50%     158.000000    39.000000    19.000000    30.000000     3.800000   \n",
       "75%     228.000000    53.000000    34.000000    65.000000    10.100000   \n",
       "max     765.000000   497.000000   345.000000   820.000000   332.000000   \n",
       "\n",
       "         Carbonate  Bicarbonate     Chloride     Sulphate     Fluoride  \n",
       "count  1241.000000  1241.000000  1241.000000  1241.000000  1241.000000  \n",
       "mean      1.258662   215.799355    92.170024    26.223207     0.398517  \n",
       "std       6.597529   126.507379   127.144334    30.662012     0.419844  \n",
       "min       0.000000    18.000000     0.000000    -3.000000     0.020000  \n",
       "25%       0.000000   128.000000    26.000000     4.000000     0.160000  \n",
       "50%       0.000000   192.000000    55.000000    17.000000     0.270000  \n",
       "75%       0.000000   275.000000   110.000000    38.000000     0.470000  \n",
       "max      88.000000   933.000000  1753.000000   434.000000     3.940000  "
      ]
     },
     "execution_count": 9,
     "metadata": {},
     "output_type": "execute_result"
    }
   ],
   "source": [
    "df.describe()"
   ]
  },
  {
   "cell_type": "markdown",
   "metadata": {
    "id": "qbeoiRkfmrBP"
   },
   "source": [
    "<b>\n",
    "OBSERVATION : \n",
    "\n",
    "1. 50 percentile of the data have pH <= 7.9\n",
    "2. 50 percentile of the data have EC <= 550\n",
    "3. 50 percentile and 75 percentile of the data have Carbonate = 0 (Almost all the data have Carbonate Value 0)\n",
    "    ===> We can drop Carbonate as most of the values are 0 and if there is any value then it may be an outlier.\n",
    "4. Similarly we can observe 25,50 and 75 percentile of the dataset.\n",
    "\n",
    "(Percentiles are used in statistics to give you a number that describes the value that a given percent of the values are lower than.)\n",
    "\n",
    "<b>    "
   ]
  },
  {
   "cell_type": "code",
   "execution_count": 10,
   "metadata": {
    "id": "XQeBdjsM8c7Z"
   },
   "outputs": [],
   "source": [
    "df.drop(['SL NO.','Carbonate'], axis = 1,inplace=True)"
   ]
  },
  {
   "cell_type": "code",
   "execution_count": 11,
   "metadata": {
    "colab": {
     "base_uri": "https://localhost:8080/",
     "height": 520
    },
    "id": "TQbuWK_ni2yx",
    "outputId": "f86677af-fa85-424c-ab9b-d8fbdf131e15"
   },
   "outputs": [
    {
     "data": {
      "text/html": [
       "\n",
       "  <div id=\"df-ed5e81c6-c0e5-4b27-b1a6-ca2e16083658\">\n",
       "    <div class=\"colab-df-container\">\n",
       "      <div>\n",
       "<style scoped>\n",
       "    .dataframe tbody tr th:only-of-type {\n",
       "        vertical-align: middle;\n",
       "    }\n",
       "\n",
       "    .dataframe tbody tr th {\n",
       "        vertical-align: top;\n",
       "    }\n",
       "\n",
       "    .dataframe thead th {\n",
       "        text-align: right;\n",
       "    }\n",
       "</style>\n",
       "<table border=\"1\" class=\"dataframe\">\n",
       "  <thead>\n",
       "    <tr style=\"text-align: right;\">\n",
       "      <th></th>\n",
       "      <th>District</th>\n",
       "      <th>Village</th>\n",
       "      <th>pH</th>\n",
       "      <th>EC</th>\n",
       "      <th>TDS</th>\n",
       "      <th>TH</th>\n",
       "      <th>Alkalinity</th>\n",
       "      <th>Calcium</th>\n",
       "      <th>Magnesium</th>\n",
       "      <th>Sodium</th>\n",
       "      <th>Potassium</th>\n",
       "      <th>Bicarbonate</th>\n",
       "      <th>Chloride</th>\n",
       "      <th>Sulphate</th>\n",
       "      <th>Fluoride</th>\n",
       "    </tr>\n",
       "  </thead>\n",
       "  <tbody>\n",
       "    <tr>\n",
       "      <th>0</th>\n",
       "      <td>Angul</td>\n",
       "      <td>Chauliakata</td>\n",
       "      <td>7.22</td>\n",
       "      <td>210.0</td>\n",
       "      <td>105</td>\n",
       "      <td>85</td>\n",
       "      <td>60</td>\n",
       "      <td>22</td>\n",
       "      <td>7</td>\n",
       "      <td>5</td>\n",
       "      <td>4.2</td>\n",
       "      <td>73</td>\n",
       "      <td>21</td>\n",
       "      <td>10</td>\n",
       "      <td>0.27</td>\n",
       "    </tr>\n",
       "    <tr>\n",
       "      <th>1</th>\n",
       "      <td>Angul</td>\n",
       "      <td>Godibandha</td>\n",
       "      <td>7.54</td>\n",
       "      <td>310.0</td>\n",
       "      <td>157</td>\n",
       "      <td>100</td>\n",
       "      <td>85</td>\n",
       "      <td>20</td>\n",
       "      <td>12</td>\n",
       "      <td>21</td>\n",
       "      <td>4.8</td>\n",
       "      <td>104</td>\n",
       "      <td>43</td>\n",
       "      <td>5</td>\n",
       "      <td>0.12</td>\n",
       "    </tr>\n",
       "    <tr>\n",
       "      <th>2</th>\n",
       "      <td>Angul</td>\n",
       "      <td>Samal</td>\n",
       "      <td>8.08</td>\n",
       "      <td>580.0</td>\n",
       "      <td>282</td>\n",
       "      <td>125</td>\n",
       "      <td>200</td>\n",
       "      <td>20</td>\n",
       "      <td>18</td>\n",
       "      <td>72</td>\n",
       "      <td>3.5</td>\n",
       "      <td>244</td>\n",
       "      <td>21</td>\n",
       "      <td>28</td>\n",
       "      <td>1.52</td>\n",
       "    </tr>\n",
       "    <tr>\n",
       "      <th>3</th>\n",
       "      <td>Angul</td>\n",
       "      <td>Sipur</td>\n",
       "      <td>8.25</td>\n",
       "      <td>390.0</td>\n",
       "      <td>191</td>\n",
       "      <td>150</td>\n",
       "      <td>145</td>\n",
       "      <td>34</td>\n",
       "      <td>16</td>\n",
       "      <td>16</td>\n",
       "      <td>5.7</td>\n",
       "      <td>177</td>\n",
       "      <td>30</td>\n",
       "      <td>3</td>\n",
       "      <td>0.31</td>\n",
       "    </tr>\n",
       "    <tr>\n",
       "      <th>4</th>\n",
       "      <td>Angul</td>\n",
       "      <td>Khamar-1</td>\n",
       "      <td>7.64</td>\n",
       "      <td>460.0</td>\n",
       "      <td>234</td>\n",
       "      <td>165</td>\n",
       "      <td>125</td>\n",
       "      <td>42</td>\n",
       "      <td>15</td>\n",
       "      <td>26</td>\n",
       "      <td>5.0</td>\n",
       "      <td>153</td>\n",
       "      <td>71</td>\n",
       "      <td>0</td>\n",
       "      <td>0.15</td>\n",
       "    </tr>\n",
       "    <tr>\n",
       "      <th>...</th>\n",
       "      <td>...</td>\n",
       "      <td>...</td>\n",
       "      <td>...</td>\n",
       "      <td>...</td>\n",
       "      <td>...</td>\n",
       "      <td>...</td>\n",
       "      <td>...</td>\n",
       "      <td>...</td>\n",
       "      <td>...</td>\n",
       "      <td>...</td>\n",
       "      <td>...</td>\n",
       "      <td>...</td>\n",
       "      <td>...</td>\n",
       "      <td>...</td>\n",
       "      <td>...</td>\n",
       "    </tr>\n",
       "    <tr>\n",
       "      <th>1236</th>\n",
       "      <td>Sundargarh</td>\n",
       "      <td>R-33 Sector 18</td>\n",
       "      <td>8.22</td>\n",
       "      <td>340.0</td>\n",
       "      <td>176</td>\n",
       "      <td>93</td>\n",
       "      <td>82</td>\n",
       "      <td>31</td>\n",
       "      <td>4</td>\n",
       "      <td>31</td>\n",
       "      <td>4.4</td>\n",
       "      <td>100</td>\n",
       "      <td>34</td>\n",
       "      <td>23</td>\n",
       "      <td>0.14</td>\n",
       "    </tr>\n",
       "    <tr>\n",
       "      <th>1237</th>\n",
       "      <td>Sundargarh</td>\n",
       "      <td>R-34 Sector-17</td>\n",
       "      <td>7.90</td>\n",
       "      <td>240.0</td>\n",
       "      <td>118</td>\n",
       "      <td>93</td>\n",
       "      <td>49</td>\n",
       "      <td>18</td>\n",
       "      <td>12</td>\n",
       "      <td>8</td>\n",
       "      <td>4.5</td>\n",
       "      <td>60</td>\n",
       "      <td>41</td>\n",
       "      <td>5</td>\n",
       "      <td>0.14</td>\n",
       "    </tr>\n",
       "    <tr>\n",
       "      <th>1238</th>\n",
       "      <td>Sundargarh</td>\n",
       "      <td>R-36 Sector-15</td>\n",
       "      <td>8.27</td>\n",
       "      <td>340.0</td>\n",
       "      <td>156</td>\n",
       "      <td>147</td>\n",
       "      <td>131</td>\n",
       "      <td>29</td>\n",
       "      <td>18</td>\n",
       "      <td>9</td>\n",
       "      <td>2.2</td>\n",
       "      <td>160</td>\n",
       "      <td>14</td>\n",
       "      <td>5</td>\n",
       "      <td>0.26</td>\n",
       "    </tr>\n",
       "    <tr>\n",
       "      <th>1239</th>\n",
       "      <td>Sundargarh</td>\n",
       "      <td>R-37 Vedvyas</td>\n",
       "      <td>8.26</td>\n",
       "      <td>740.0</td>\n",
       "      <td>378</td>\n",
       "      <td>270</td>\n",
       "      <td>126</td>\n",
       "      <td>77</td>\n",
       "      <td>19</td>\n",
       "      <td>44</td>\n",
       "      <td>1.5</td>\n",
       "      <td>154</td>\n",
       "      <td>156</td>\n",
       "      <td>5</td>\n",
       "      <td>0.21</td>\n",
       "    </tr>\n",
       "    <tr>\n",
       "      <th>1240</th>\n",
       "      <td>Sundargarh</td>\n",
       "      <td>R-38 Kalunga</td>\n",
       "      <td>8.24</td>\n",
       "      <td>340.0</td>\n",
       "      <td>173</td>\n",
       "      <td>152</td>\n",
       "      <td>77</td>\n",
       "      <td>51</td>\n",
       "      <td>6</td>\n",
       "      <td>6</td>\n",
       "      <td>2.4</td>\n",
       "      <td>94</td>\n",
       "      <td>53</td>\n",
       "      <td>9</td>\n",
       "      <td>0.23</td>\n",
       "    </tr>\n",
       "  </tbody>\n",
       "</table>\n",
       "<p>1241 rows × 15 columns</p>\n",
       "</div>\n",
       "      <button class=\"colab-df-convert\" onclick=\"convertToInteractive('df-ed5e81c6-c0e5-4b27-b1a6-ca2e16083658')\"\n",
       "              title=\"Convert this dataframe to an interactive table.\"\n",
       "              style=\"display:none;\">\n",
       "        \n",
       "  <svg xmlns=\"http://www.w3.org/2000/svg\" height=\"24px\"viewBox=\"0 0 24 24\"\n",
       "       width=\"24px\">\n",
       "    <path d=\"M0 0h24v24H0V0z\" fill=\"none\"/>\n",
       "    <path d=\"M18.56 5.44l.94 2.06.94-2.06 2.06-.94-2.06-.94-.94-2.06-.94 2.06-2.06.94zm-11 1L8.5 8.5l.94-2.06 2.06-.94-2.06-.94L8.5 2.5l-.94 2.06-2.06.94zm10 10l.94 2.06.94-2.06 2.06-.94-2.06-.94-.94-2.06-.94 2.06-2.06.94z\"/><path d=\"M17.41 7.96l-1.37-1.37c-.4-.4-.92-.59-1.43-.59-.52 0-1.04.2-1.43.59L10.3 9.45l-7.72 7.72c-.78.78-.78 2.05 0 2.83L4 21.41c.39.39.9.59 1.41.59.51 0 1.02-.2 1.41-.59l7.78-7.78 2.81-2.81c.8-.78.8-2.07 0-2.86zM5.41 20L4 18.59l7.72-7.72 1.47 1.35L5.41 20z\"/>\n",
       "  </svg>\n",
       "      </button>\n",
       "      \n",
       "  <style>\n",
       "    .colab-df-container {\n",
       "      display:flex;\n",
       "      flex-wrap:wrap;\n",
       "      gap: 12px;\n",
       "    }\n",
       "\n",
       "    .colab-df-convert {\n",
       "      background-color: #E8F0FE;\n",
       "      border: none;\n",
       "      border-radius: 50%;\n",
       "      cursor: pointer;\n",
       "      display: none;\n",
       "      fill: #1967D2;\n",
       "      height: 32px;\n",
       "      padding: 0 0 0 0;\n",
       "      width: 32px;\n",
       "    }\n",
       "\n",
       "    .colab-df-convert:hover {\n",
       "      background-color: #E2EBFA;\n",
       "      box-shadow: 0px 1px 2px rgba(60, 64, 67, 0.3), 0px 1px 3px 1px rgba(60, 64, 67, 0.15);\n",
       "      fill: #174EA6;\n",
       "    }\n",
       "\n",
       "    [theme=dark] .colab-df-convert {\n",
       "      background-color: #3B4455;\n",
       "      fill: #D2E3FC;\n",
       "    }\n",
       "\n",
       "    [theme=dark] .colab-df-convert:hover {\n",
       "      background-color: #434B5C;\n",
       "      box-shadow: 0px 1px 3px 1px rgba(0, 0, 0, 0.15);\n",
       "      filter: drop-shadow(0px 1px 2px rgba(0, 0, 0, 0.3));\n",
       "      fill: #FFFFFF;\n",
       "    }\n",
       "  </style>\n",
       "\n",
       "      <script>\n",
       "        const buttonEl =\n",
       "          document.querySelector('#df-ed5e81c6-c0e5-4b27-b1a6-ca2e16083658 button.colab-df-convert');\n",
       "        buttonEl.style.display =\n",
       "          google.colab.kernel.accessAllowed ? 'block' : 'none';\n",
       "\n",
       "        async function convertToInteractive(key) {\n",
       "          const element = document.querySelector('#df-ed5e81c6-c0e5-4b27-b1a6-ca2e16083658');\n",
       "          const dataTable =\n",
       "            await google.colab.kernel.invokeFunction('convertToInteractive',\n",
       "                                                     [key], {});\n",
       "          if (!dataTable) return;\n",
       "\n",
       "          const docLinkHtml = 'Like what you see? Visit the ' +\n",
       "            '<a target=\"_blank\" href=https://colab.research.google.com/notebooks/data_table.ipynb>data table notebook</a>'\n",
       "            + ' to learn more about interactive tables.';\n",
       "          element.innerHTML = '';\n",
       "          dataTable['output_type'] = 'display_data';\n",
       "          await google.colab.output.renderOutput(dataTable, element);\n",
       "          const docLink = document.createElement('div');\n",
       "          docLink.innerHTML = docLinkHtml;\n",
       "          element.appendChild(docLink);\n",
       "        }\n",
       "      </script>\n",
       "    </div>\n",
       "  </div>\n",
       "  "
      ],
      "text/plain": [
       "        District         Village    pH     EC  TDS   TH  Alkalinity  Calcium  \\\n",
       "0          Angul     Chauliakata  7.22  210.0  105   85          60       22   \n",
       "1          Angul      Godibandha  7.54  310.0  157  100          85       20   \n",
       "2          Angul           Samal  8.08  580.0  282  125         200       20   \n",
       "3          Angul           Sipur  8.25  390.0  191  150         145       34   \n",
       "4          Angul        Khamar-1  7.64  460.0  234  165         125       42   \n",
       "...          ...             ...   ...    ...  ...  ...         ...      ...   \n",
       "1236  Sundargarh  R-33 Sector 18  8.22  340.0  176   93          82       31   \n",
       "1237  Sundargarh  R-34 Sector-17  7.90  240.0  118   93          49       18   \n",
       "1238  Sundargarh  R-36 Sector-15  8.27  340.0  156  147         131       29   \n",
       "1239  Sundargarh    R-37 Vedvyas  8.26  740.0  378  270         126       77   \n",
       "1240  Sundargarh    R-38 Kalunga  8.24  340.0  173  152          77       51   \n",
       "\n",
       "      Magnesium  Sodium  Potassium  Bicarbonate  Chloride  Sulphate  Fluoride  \n",
       "0             7       5        4.2           73        21        10      0.27  \n",
       "1            12      21        4.8          104        43         5      0.12  \n",
       "2            18      72        3.5          244        21        28      1.52  \n",
       "3            16      16        5.7          177        30         3      0.31  \n",
       "4            15      26        5.0          153        71         0      0.15  \n",
       "...         ...     ...        ...          ...       ...       ...       ...  \n",
       "1236          4      31        4.4          100        34        23      0.14  \n",
       "1237         12       8        4.5           60        41         5      0.14  \n",
       "1238         18       9        2.2          160        14         5      0.26  \n",
       "1239         19      44        1.5          154       156         5      0.21  \n",
       "1240          6       6        2.4           94        53         9      0.23  \n",
       "\n",
       "[1241 rows x 15 columns]"
      ]
     },
     "execution_count": 11,
     "metadata": {},
     "output_type": "execute_result"
    }
   ],
   "source": [
    "df"
   ]
  },
  {
   "cell_type": "code",
   "execution_count": 12,
   "metadata": {
    "colab": {
     "base_uri": "https://localhost:8080/",
     "height": 364
    },
    "id": "wfOy34b3fgSh",
    "outputId": "953db21f-80b9-4239-a36d-2aa2354efe76"
   },
   "outputs": [
    {
     "data": {
      "text/html": [
       "\n",
       "  <div id=\"df-20c41fe4-df32-438f-bbbe-d71659ab1394\">\n",
       "    <div class=\"colab-df-container\">\n",
       "      <div>\n",
       "<style scoped>\n",
       "    .dataframe tbody tr th:only-of-type {\n",
       "        vertical-align: middle;\n",
       "    }\n",
       "\n",
       "    .dataframe tbody tr th {\n",
       "        vertical-align: top;\n",
       "    }\n",
       "\n",
       "    .dataframe thead th {\n",
       "        text-align: right;\n",
       "    }\n",
       "</style>\n",
       "<table border=\"1\" class=\"dataframe\">\n",
       "  <thead>\n",
       "    <tr style=\"text-align: right;\">\n",
       "      <th></th>\n",
       "      <th>pH</th>\n",
       "      <th>EC</th>\n",
       "      <th>TDS</th>\n",
       "      <th>TH</th>\n",
       "      <th>Alkalinity</th>\n",
       "      <th>Calcium</th>\n",
       "      <th>Magnesium</th>\n",
       "      <th>Sodium</th>\n",
       "      <th>Potassium</th>\n",
       "      <th>Bicarbonate</th>\n",
       "      <th>Chloride</th>\n",
       "      <th>Sulphate</th>\n",
       "      <th>Fluoride</th>\n",
       "    </tr>\n",
       "  </thead>\n",
       "  <tbody>\n",
       "    <tr>\n",
       "      <th>count</th>\n",
       "      <td>1241.000000</td>\n",
       "      <td>1241.000000</td>\n",
       "      <td>1241.000000</td>\n",
       "      <td>1241.000000</td>\n",
       "      <td>1241.000000</td>\n",
       "      <td>1241.000000</td>\n",
       "      <td>1241.000000</td>\n",
       "      <td>1241.000000</td>\n",
       "      <td>1241.000000</td>\n",
       "      <td>1241.000000</td>\n",
       "      <td>1241.000000</td>\n",
       "      <td>1241.000000</td>\n",
       "      <td>1241.000000</td>\n",
       "    </tr>\n",
       "    <tr>\n",
       "      <th>mean</th>\n",
       "      <td>7.828622</td>\n",
       "      <td>695.439283</td>\n",
       "      <td>358.057212</td>\n",
       "      <td>215.015310</td>\n",
       "      <td>178.496374</td>\n",
       "      <td>43.941982</td>\n",
       "      <td>25.617244</td>\n",
       "      <td>49.991942</td>\n",
       "      <td>13.162530</td>\n",
       "      <td>215.799355</td>\n",
       "      <td>92.170024</td>\n",
       "      <td>26.223207</td>\n",
       "      <td>0.398517</td>\n",
       "    </tr>\n",
       "    <tr>\n",
       "      <th>std</th>\n",
       "      <td>0.399608</td>\n",
       "      <td>536.819062</td>\n",
       "      <td>280.979343</td>\n",
       "      <td>156.787273</td>\n",
       "      <td>104.932014</td>\n",
       "      <td>30.612192</td>\n",
       "      <td>25.835135</td>\n",
       "      <td>61.033544</td>\n",
       "      <td>29.670994</td>\n",
       "      <td>126.507379</td>\n",
       "      <td>127.144334</td>\n",
       "      <td>30.662012</td>\n",
       "      <td>0.419844</td>\n",
       "    </tr>\n",
       "    <tr>\n",
       "      <th>min</th>\n",
       "      <td>6.460000</td>\n",
       "      <td>7.150000</td>\n",
       "      <td>30.000000</td>\n",
       "      <td>20.000000</td>\n",
       "      <td>15.000000</td>\n",
       "      <td>0.000000</td>\n",
       "      <td>-4.000000</td>\n",
       "      <td>0.000000</td>\n",
       "      <td>0.000000</td>\n",
       "      <td>18.000000</td>\n",
       "      <td>0.000000</td>\n",
       "      <td>-3.000000</td>\n",
       "      <td>0.020000</td>\n",
       "    </tr>\n",
       "    <tr>\n",
       "      <th>25%</th>\n",
       "      <td>7.580000</td>\n",
       "      <td>360.000000</td>\n",
       "      <td>186.000000</td>\n",
       "      <td>123.000000</td>\n",
       "      <td>105.000000</td>\n",
       "      <td>26.000000</td>\n",
       "      <td>10.000000</td>\n",
       "      <td>17.000000</td>\n",
       "      <td>1.600000</td>\n",
       "      <td>128.000000</td>\n",
       "      <td>26.000000</td>\n",
       "      <td>4.000000</td>\n",
       "      <td>0.160000</td>\n",
       "    </tr>\n",
       "    <tr>\n",
       "      <th>50%</th>\n",
       "      <td>7.900000</td>\n",
       "      <td>550.000000</td>\n",
       "      <td>277.000000</td>\n",
       "      <td>184.000000</td>\n",
       "      <td>158.000000</td>\n",
       "      <td>39.000000</td>\n",
       "      <td>19.000000</td>\n",
       "      <td>30.000000</td>\n",
       "      <td>3.800000</td>\n",
       "      <td>192.000000</td>\n",
       "      <td>55.000000</td>\n",
       "      <td>17.000000</td>\n",
       "      <td>0.270000</td>\n",
       "    </tr>\n",
       "    <tr>\n",
       "      <th>75%</th>\n",
       "      <td>8.120000</td>\n",
       "      <td>900.000000</td>\n",
       "      <td>456.000000</td>\n",
       "      <td>267.000000</td>\n",
       "      <td>228.000000</td>\n",
       "      <td>53.000000</td>\n",
       "      <td>34.000000</td>\n",
       "      <td>65.000000</td>\n",
       "      <td>10.100000</td>\n",
       "      <td>275.000000</td>\n",
       "      <td>110.000000</td>\n",
       "      <td>38.000000</td>\n",
       "      <td>0.470000</td>\n",
       "    </tr>\n",
       "    <tr>\n",
       "      <th>max</th>\n",
       "      <td>8.780000</td>\n",
       "      <td>5770.000000</td>\n",
       "      <td>2766.000000</td>\n",
       "      <td>1945.000000</td>\n",
       "      <td>765.000000</td>\n",
       "      <td>497.000000</td>\n",
       "      <td>345.000000</td>\n",
       "      <td>820.000000</td>\n",
       "      <td>332.000000</td>\n",
       "      <td>933.000000</td>\n",
       "      <td>1753.000000</td>\n",
       "      <td>434.000000</td>\n",
       "      <td>3.940000</td>\n",
       "    </tr>\n",
       "  </tbody>\n",
       "</table>\n",
       "</div>\n",
       "      <button class=\"colab-df-convert\" onclick=\"convertToInteractive('df-20c41fe4-df32-438f-bbbe-d71659ab1394')\"\n",
       "              title=\"Convert this dataframe to an interactive table.\"\n",
       "              style=\"display:none;\">\n",
       "        \n",
       "  <svg xmlns=\"http://www.w3.org/2000/svg\" height=\"24px\"viewBox=\"0 0 24 24\"\n",
       "       width=\"24px\">\n",
       "    <path d=\"M0 0h24v24H0V0z\" fill=\"none\"/>\n",
       "    <path d=\"M18.56 5.44l.94 2.06.94-2.06 2.06-.94-2.06-.94-.94-2.06-.94 2.06-2.06.94zm-11 1L8.5 8.5l.94-2.06 2.06-.94-2.06-.94L8.5 2.5l-.94 2.06-2.06.94zm10 10l.94 2.06.94-2.06 2.06-.94-2.06-.94-.94-2.06-.94 2.06-2.06.94z\"/><path d=\"M17.41 7.96l-1.37-1.37c-.4-.4-.92-.59-1.43-.59-.52 0-1.04.2-1.43.59L10.3 9.45l-7.72 7.72c-.78.78-.78 2.05 0 2.83L4 21.41c.39.39.9.59 1.41.59.51 0 1.02-.2 1.41-.59l7.78-7.78 2.81-2.81c.8-.78.8-2.07 0-2.86zM5.41 20L4 18.59l7.72-7.72 1.47 1.35L5.41 20z\"/>\n",
       "  </svg>\n",
       "      </button>\n",
       "      \n",
       "  <style>\n",
       "    .colab-df-container {\n",
       "      display:flex;\n",
       "      flex-wrap:wrap;\n",
       "      gap: 12px;\n",
       "    }\n",
       "\n",
       "    .colab-df-convert {\n",
       "      background-color: #E8F0FE;\n",
       "      border: none;\n",
       "      border-radius: 50%;\n",
       "      cursor: pointer;\n",
       "      display: none;\n",
       "      fill: #1967D2;\n",
       "      height: 32px;\n",
       "      padding: 0 0 0 0;\n",
       "      width: 32px;\n",
       "    }\n",
       "\n",
       "    .colab-df-convert:hover {\n",
       "      background-color: #E2EBFA;\n",
       "      box-shadow: 0px 1px 2px rgba(60, 64, 67, 0.3), 0px 1px 3px 1px rgba(60, 64, 67, 0.15);\n",
       "      fill: #174EA6;\n",
       "    }\n",
       "\n",
       "    [theme=dark] .colab-df-convert {\n",
       "      background-color: #3B4455;\n",
       "      fill: #D2E3FC;\n",
       "    }\n",
       "\n",
       "    [theme=dark] .colab-df-convert:hover {\n",
       "      background-color: #434B5C;\n",
       "      box-shadow: 0px 1px 3px 1px rgba(0, 0, 0, 0.15);\n",
       "      filter: drop-shadow(0px 1px 2px rgba(0, 0, 0, 0.3));\n",
       "      fill: #FFFFFF;\n",
       "    }\n",
       "  </style>\n",
       "\n",
       "      <script>\n",
       "        const buttonEl =\n",
       "          document.querySelector('#df-20c41fe4-df32-438f-bbbe-d71659ab1394 button.colab-df-convert');\n",
       "        buttonEl.style.display =\n",
       "          google.colab.kernel.accessAllowed ? 'block' : 'none';\n",
       "\n",
       "        async function convertToInteractive(key) {\n",
       "          const element = document.querySelector('#df-20c41fe4-df32-438f-bbbe-d71659ab1394');\n",
       "          const dataTable =\n",
       "            await google.colab.kernel.invokeFunction('convertToInteractive',\n",
       "                                                     [key], {});\n",
       "          if (!dataTable) return;\n",
       "\n",
       "          const docLinkHtml = 'Like what you see? Visit the ' +\n",
       "            '<a target=\"_blank\" href=https://colab.research.google.com/notebooks/data_table.ipynb>data table notebook</a>'\n",
       "            + ' to learn more about interactive tables.';\n",
       "          element.innerHTML = '';\n",
       "          dataTable['output_type'] = 'display_data';\n",
       "          await google.colab.output.renderOutput(dataTable, element);\n",
       "          const docLink = document.createElement('div');\n",
       "          docLink.innerHTML = docLinkHtml;\n",
       "          element.appendChild(docLink);\n",
       "        }\n",
       "      </script>\n",
       "    </div>\n",
       "  </div>\n",
       "  "
      ],
      "text/plain": [
       "                pH           EC          TDS           TH   Alkalinity  \\\n",
       "count  1241.000000  1241.000000  1241.000000  1241.000000  1241.000000   \n",
       "mean      7.828622   695.439283   358.057212   215.015310   178.496374   \n",
       "std       0.399608   536.819062   280.979343   156.787273   104.932014   \n",
       "min       6.460000     7.150000    30.000000    20.000000    15.000000   \n",
       "25%       7.580000   360.000000   186.000000   123.000000   105.000000   \n",
       "50%       7.900000   550.000000   277.000000   184.000000   158.000000   \n",
       "75%       8.120000   900.000000   456.000000   267.000000   228.000000   \n",
       "max       8.780000  5770.000000  2766.000000  1945.000000   765.000000   \n",
       "\n",
       "           Calcium    Magnesium       Sodium    Potassium  Bicarbonate  \\\n",
       "count  1241.000000  1241.000000  1241.000000  1241.000000  1241.000000   \n",
       "mean     43.941982    25.617244    49.991942    13.162530   215.799355   \n",
       "std      30.612192    25.835135    61.033544    29.670994   126.507379   \n",
       "min       0.000000    -4.000000     0.000000     0.000000    18.000000   \n",
       "25%      26.000000    10.000000    17.000000     1.600000   128.000000   \n",
       "50%      39.000000    19.000000    30.000000     3.800000   192.000000   \n",
       "75%      53.000000    34.000000    65.000000    10.100000   275.000000   \n",
       "max     497.000000   345.000000   820.000000   332.000000   933.000000   \n",
       "\n",
       "          Chloride     Sulphate     Fluoride  \n",
       "count  1241.000000  1241.000000  1241.000000  \n",
       "mean     92.170024    26.223207     0.398517  \n",
       "std     127.144334    30.662012     0.419844  \n",
       "min       0.000000    -3.000000     0.020000  \n",
       "25%      26.000000     4.000000     0.160000  \n",
       "50%      55.000000    17.000000     0.270000  \n",
       "75%     110.000000    38.000000     0.470000  \n",
       "max    1753.000000   434.000000     3.940000  "
      ]
     },
     "execution_count": 12,
     "metadata": {},
     "output_type": "execute_result"
    }
   ],
   "source": [
    "df.describe()"
   ]
  },
  {
   "cell_type": "markdown",
   "metadata": {
    "id": "cUQm7lg4mrBS"
   },
   "source": [
    "\n",
    "    "
   ]
  },
  {
   "cell_type": "code",
   "execution_count": 13,
   "metadata": {
    "id": "BXPxMf7s9elQ"
   },
   "outputs": [],
   "source": [
    "pH=[]\n",
    "for i in range(len(df)):\n",
    "  if (df['pH'][i]>=6.5 and df['pH'][i]<=8.5):\n",
    "    pH.append(1)\n",
    "  else:\n",
    "    pH.append(0)"
   ]
  },
  {
   "cell_type": "code",
   "execution_count": 14,
   "metadata": {
    "colab": {
     "base_uri": "https://localhost:8080/"
    },
    "id": "-TyhH9n6kzq3",
    "outputId": "77d41e5b-41cc-4b33-bbba-200e8c14755b"
   },
   "outputs": [
    {
     "name": "stdout",
     "output_type": "stream",
     "text": [
      "1223\n"
     ]
    }
   ],
   "source": [
    "count=0\n",
    "for i in range(len(pH)):\n",
    "  if pH[i]==1:\n",
    "    count+=1\n",
    "print(count)"
   ]
  },
  {
   "cell_type": "code",
   "execution_count": 15,
   "metadata": {
    "id": "qnoLl_xYdT8J"
   },
   "outputs": [],
   "source": [
    "EC=[]\n",
    "for i in range(len(df)):\n",
    "  if df['EC'][i]<=1000:\n",
    "    EC.append(1)\n",
    "  else:\n",
    "    EC.append(0)"
   ]
  },
  {
   "cell_type": "code",
   "execution_count": 16,
   "metadata": {
    "colab": {
     "base_uri": "https://localhost:8080/"
    },
    "id": "5OxB_uRElBOJ",
    "outputId": "eb0a6afd-ea69-48f9-b984-6b8fb5c49d00"
   },
   "outputs": [
    {
     "name": "stdout",
     "output_type": "stream",
     "text": [
      "1001\n"
     ]
    }
   ],
   "source": [
    "count=0\n",
    "for i in range(len(EC)):\n",
    "  if EC[i]==1:\n",
    "    count+=1\n",
    "print(count)"
   ]
  },
  {
   "cell_type": "code",
   "execution_count": 17,
   "metadata": {
    "id": "RDD0I0K4eMDr"
   },
   "outputs": [],
   "source": [
    "TDS=[]\n",
    "for i in range(len(df)):\n",
    "  if df['TDS'][i]<=500:\n",
    "    TDS.append(1)\n",
    "  else:\n",
    "    TDS.append(0)"
   ]
  },
  {
   "cell_type": "code",
   "execution_count": 18,
   "metadata": {
    "colab": {
     "base_uri": "https://localhost:8080/"
    },
    "id": "DhKsZoQBlEf9",
    "outputId": "b87aa0b0-09a2-4e2c-e0d3-179e12098c59"
   },
   "outputs": [
    {
     "name": "stdout",
     "output_type": "stream",
     "text": [
      "984\n"
     ]
    }
   ],
   "source": [
    "count=0\n",
    "for i in range(len(TDS)):\n",
    "  if TDS[i]==1:\n",
    "    count+=1\n",
    "print(count)"
   ]
  },
  {
   "cell_type": "code",
   "execution_count": 19,
   "metadata": {
    "id": "u06O9hpmeYQ8"
   },
   "outputs": [],
   "source": [
    "TH=[]\n",
    "for i in range(len(df)):\n",
    "  if df['TH'][i]<=300:\n",
    "    TH.append(1)\n",
    "  else:\n",
    "    TH.append(0)"
   ]
  },
  {
   "cell_type": "code",
   "execution_count": 20,
   "metadata": {
    "colab": {
     "base_uri": "https://localhost:8080/"
    },
    "id": "eQY0TrZ0lIpl",
    "outputId": "cc686495-dd7d-41f5-9d34-ccb607d2c1d2"
   },
   "outputs": [
    {
     "name": "stdout",
     "output_type": "stream",
     "text": [
      "1000\n"
     ]
    }
   ],
   "source": [
    "count=0\n",
    "for i in range(len(TH)):\n",
    "  if TH[i]==1:\n",
    "    count+=1\n",
    "print(count)"
   ]
  },
  {
   "cell_type": "code",
   "execution_count": 21,
   "metadata": {
    "id": "9Sazx9NOefog"
   },
   "outputs": [],
   "source": [
    "Alkalinity=[]\n",
    "for i in range(len(df)):\n",
    "  if df['Alkalinity'][i]<=200:\n",
    "    Alkalinity.append(1)\n",
    "  else:\n",
    "    Alkalinity.append(0)"
   ]
  },
  {
   "cell_type": "code",
   "execution_count": 22,
   "metadata": {
    "colab": {
     "base_uri": "https://localhost:8080/"
    },
    "id": "CZyTuBbVlMB1",
    "outputId": "768430b8-3eb3-4ee3-87e8-f20322a816b2"
   },
   "outputs": [
    {
     "name": "stdout",
     "output_type": "stream",
     "text": [
      "838\n"
     ]
    }
   ],
   "source": [
    "count=0\n",
    "for i in range(len(Alkalinity)):\n",
    "  if Alkalinity[i]==1:\n",
    "    count+=1\n",
    "print(count)"
   ]
  },
  {
   "cell_type": "code",
   "execution_count": 23,
   "metadata": {
    "id": "lJ-bObCEeoU8"
   },
   "outputs": [],
   "source": [
    "Calcium  =[]\n",
    "for i in range(len(df)):\n",
    "  if df['Calcium'][i]<=75:\n",
    "    Calcium.append(1)\n",
    "  else:\n",
    "    Calcium.append(0)"
   ]
  },
  {
   "cell_type": "code",
   "execution_count": 24,
   "metadata": {
    "colab": {
     "base_uri": "https://localhost:8080/"
    },
    "id": "iINST-H_lRao",
    "outputId": "2fa6a6a1-a551-4686-939b-816a1929c09f"
   },
   "outputs": [
    {
     "name": "stdout",
     "output_type": "stream",
     "text": [
      "1127\n"
     ]
    }
   ],
   "source": [
    "count=0\n",
    "for i in range(len(Calcium)):\n",
    "  if Calcium[i]==1:\n",
    "    count+=1\n",
    "print(count)"
   ]
  },
  {
   "cell_type": "code",
   "execution_count": 25,
   "metadata": {
    "id": "iOUejyDkeuCl"
   },
   "outputs": [],
   "source": [
    "Magnesium = []\n",
    "for i in range(len(df)):\n",
    "  if df['Magnesium'][i]<=50:\n",
    "    Magnesium.append(1)\n",
    "  else:\n",
    "    Magnesium.append(0)"
   ]
  },
  {
   "cell_type": "code",
   "execution_count": 26,
   "metadata": {
    "colab": {
     "base_uri": "https://localhost:8080/"
    },
    "id": "3575Qc5hlV9l",
    "outputId": "2d5d16df-9fb1-4239-adfe-67fd3d0a9e0a"
   },
   "outputs": [
    {
     "name": "stdout",
     "output_type": "stream",
     "text": [
      "1112\n"
     ]
    }
   ],
   "source": [
    "count=0\n",
    "for i in range(len(Magnesium)):\n",
    "  if Magnesium[i]==1:\n",
    "    count+=1\n",
    "print(count)"
   ]
  },
  {
   "cell_type": "code",
   "execution_count": 27,
   "metadata": {
    "id": "N2JKAIY9ewTl"
   },
   "outputs": [],
   "source": [
    "Sodium   = []\n",
    "for i in range(len(df)):\n",
    "  if df['Sodium'][i]<=200:\n",
    "    Sodium.append(1)\n",
    "  else:\n",
    "    Sodium.append(0)"
   ]
  },
  {
   "cell_type": "code",
   "execution_count": 28,
   "metadata": {
    "colab": {
     "base_uri": "https://localhost:8080/"
    },
    "id": "uGHqQMrOlZ2r",
    "outputId": "980aa5a4-8058-4daf-98ff-69695b603cdf"
   },
   "outputs": [
    {
     "name": "stdout",
     "output_type": "stream",
     "text": [
      "1207\n"
     ]
    }
   ],
   "source": [
    "count=0\n",
    "for i in range(len(Sodium)):\n",
    "  if Sodium[i]==1:\n",
    "    count+=1\n",
    "print(count)"
   ]
  },
  {
   "cell_type": "code",
   "execution_count": 29,
   "metadata": {
    "id": "lwgDBaUTeyou"
   },
   "outputs": [],
   "source": [
    "Potassium = []\n",
    "for i in range(len(df)):\n",
    "  if df['Potassium'][i]<=12:\n",
    "    Potassium.append(1)\n",
    "  else:\n",
    "    Potassium.append(0)"
   ]
  },
  {
   "cell_type": "code",
   "execution_count": 30,
   "metadata": {
    "colab": {
     "base_uri": "https://localhost:8080/"
    },
    "id": "_HpuDyo9ldzb",
    "outputId": "30d31f96-0ac5-4449-adc6-4c1e4ef99893"
   },
   "outputs": [
    {
     "name": "stdout",
     "output_type": "stream",
     "text": [
      "973\n"
     ]
    }
   ],
   "source": [
    "count=0\n",
    "for i in range(len(Potassium)):\n",
    "  if Potassium[i]==1:\n",
    "    count+=1\n",
    "print(count)"
   ]
  },
  {
   "cell_type": "code",
   "execution_count": 31,
   "metadata": {
    "id": "WrXwMPc-e3Hn"
   },
   "outputs": [],
   "source": [
    "Bicarbonate = []\n",
    "for i in range(len(df)):\n",
    "  #if (df['Bicarbonate'][i]>=110 and df['Bicarbonate'][i]<=350) :\n",
    "  if (df['Bicarbonate'][i]<=350) :\n",
    "    Bicarbonate.append(1)\n",
    "  else:\n",
    "    Bicarbonate.append(0)"
   ]
  },
  {
   "cell_type": "code",
   "execution_count": 32,
   "metadata": {
    "colab": {
     "base_uri": "https://localhost:8080/"
    },
    "id": "lof1rfZsllTA",
    "outputId": "400739b2-9425-45dc-d28d-04e45d05bf64"
   },
   "outputs": [
    {
     "name": "stdout",
     "output_type": "stream",
     "text": [
      "1075\n"
     ]
    }
   ],
   "source": [
    "count=0\n",
    "for i in range(len(Bicarbonate)):\n",
    "  if Bicarbonate[i]==1:\n",
    "    count+=1\n",
    "print(count)\n",
    "#848"
   ]
  },
  {
   "cell_type": "code",
   "execution_count": 33,
   "metadata": {
    "id": "bfDLViWDe5Kv"
   },
   "outputs": [],
   "source": [
    "Chloride = []  \n",
    "for i in range(len(df)):\n",
    "  if df['Chloride'][i]<= 250 :\n",
    "    Chloride.append(1)\n",
    "  else:\n",
    "    Chloride.append(0)    "
   ]
  },
  {
   "cell_type": "code",
   "execution_count": 34,
   "metadata": {
    "colab": {
     "base_uri": "https://localhost:8080/"
    },
    "id": "DarydYLFlpnM",
    "outputId": "cb4a5baf-bca1-4003-9cc8-81b5e797f103"
   },
   "outputs": [
    {
     "name": "stdout",
     "output_type": "stream",
     "text": [
      "1157\n"
     ]
    }
   ],
   "source": [
    "count=0\n",
    "for i in range(len(Chloride)):\n",
    "  if Chloride[i]==1:\n",
    "    count+=1\n",
    "print(count)"
   ]
  },
  {
   "cell_type": "code",
   "execution_count": 35,
   "metadata": {
    "id": "y-FOMyLoe7Gk"
   },
   "outputs": [],
   "source": [
    "Sulphate = []      \n",
    "for i in range(len(df)):\n",
    "  if df['Sulphate'][i]<= 200 :\n",
    "    Sulphate.append(1)\n",
    "  else:\n",
    "    Sulphate.append(0)    "
   ]
  },
  {
   "cell_type": "code",
   "execution_count": 36,
   "metadata": {
    "colab": {
     "base_uri": "https://localhost:8080/"
    },
    "id": "NZpqX0gAlt2d",
    "outputId": "fd375c8e-5f42-4e70-c102-a9f801bb2c6f"
   },
   "outputs": [
    {
     "name": "stdout",
     "output_type": "stream",
     "text": [
      "1238\n"
     ]
    }
   ],
   "source": [
    "count=0\n",
    "for i in range(len(Sulphate)):\n",
    "  if Sulphate[i]==1:\n",
    "    count+=1\n",
    "print(count)"
   ]
  },
  {
   "cell_type": "code",
   "execution_count": 37,
   "metadata": {
    "id": "3Ri_griJe8jD"
   },
   "outputs": [],
   "source": [
    "Fluoride = []\n",
    "\n",
    "for i in range(len(df)):\n",
    "  if  df['Fluoride'][i]<=1.5 :\n",
    "    Fluoride.append(1)\n",
    "  else:\n",
    "    Fluoride.append(0)"
   ]
  },
  {
   "cell_type": "code",
   "execution_count": 38,
   "metadata": {
    "colab": {
     "base_uri": "https://localhost:8080/"
    },
    "id": "6HSD0T1wl0BV",
    "outputId": "62d8cbc2-e048-4b24-d83f-016210e88f40"
   },
   "outputs": [
    {
     "name": "stdout",
     "output_type": "stream",
     "text": [
      "1205\n"
     ]
    }
   ],
   "source": [
    "count=0\n",
    "for i in range(len(Fluoride)):\n",
    "  if Fluoride[i]==1:\n",
    "    count+=1\n",
    "print(count)"
   ]
  },
  {
   "cell_type": "code",
   "execution_count": 39,
   "metadata": {
    "id": "_BnkUrkCgvcN"
   },
   "outputs": [],
   "source": [
    "is_drinkable=[]\n",
    "for i in range(len(df)):\n",
    "  if (pH[i]==EC[i]==TDS[i]==TH[i]==Alkalinity[i]==Calcium[i]==Magnesium[i]==Sodium[i]==Potassium[i]==Bicarbonate[i]==Chloride[i]==Sulphate[i]==Fluoride[i]):\n",
    "    is_drinkable.append(1)\n",
    "  else:\n",
    "    is_drinkable.append(0)\n"
   ]
  },
  {
   "cell_type": "code",
   "execution_count": 40,
   "metadata": {
    "colab": {
     "base_uri": "https://localhost:8080/"
    },
    "id": "A8uHVfFViP2h",
    "outputId": "53f9ddec-b779-4be6-b35a-91f9ae632a7a"
   },
   "outputs": [
    {
     "name": "stdout",
     "output_type": "stream",
     "text": [
      "656\n"
     ]
    }
   ],
   "source": [
    "count = 0\n",
    "for i in range(len(is_drinkable)):\n",
    "  if is_drinkable[i] == 1:\n",
    "    count+=1\n",
    "print(count)\n",
    "#406"
   ]
  },
  {
   "cell_type": "code",
   "execution_count": 41,
   "metadata": {
    "id": "ZSKetyV1fCn4"
   },
   "outputs": [],
   "source": [
    "df['is_drinkable'] = is_drinkable"
   ]
  },
  {
   "cell_type": "code",
   "execution_count": 42,
   "metadata": {
    "colab": {
     "base_uri": "https://localhost:8080/",
     "height": 574
    },
    "id": "5IeLK_MyV2sv",
    "outputId": "eb38f675-80e2-458d-c5b5-c4a27dbc05fd"
   },
   "outputs": [
    {
     "data": {
      "text/html": [
       "\n",
       "  <div id=\"df-24bfd1a7-0128-4125-9eb0-e4a4f8fa94e2\">\n",
       "    <div class=\"colab-df-container\">\n",
       "      <div>\n",
       "<style scoped>\n",
       "    .dataframe tbody tr th:only-of-type {\n",
       "        vertical-align: middle;\n",
       "    }\n",
       "\n",
       "    .dataframe tbody tr th {\n",
       "        vertical-align: top;\n",
       "    }\n",
       "\n",
       "    .dataframe thead th {\n",
       "        text-align: right;\n",
       "    }\n",
       "</style>\n",
       "<table border=\"1\" class=\"dataframe\">\n",
       "  <thead>\n",
       "    <tr style=\"text-align: right;\">\n",
       "      <th></th>\n",
       "      <th>District</th>\n",
       "      <th>Village</th>\n",
       "      <th>pH</th>\n",
       "      <th>EC</th>\n",
       "      <th>TDS</th>\n",
       "      <th>TH</th>\n",
       "      <th>Alkalinity</th>\n",
       "      <th>Calcium</th>\n",
       "      <th>Magnesium</th>\n",
       "      <th>Sodium</th>\n",
       "      <th>Potassium</th>\n",
       "      <th>Bicarbonate</th>\n",
       "      <th>Chloride</th>\n",
       "      <th>Sulphate</th>\n",
       "      <th>Fluoride</th>\n",
       "      <th>is_drinkable</th>\n",
       "    </tr>\n",
       "  </thead>\n",
       "  <tbody>\n",
       "    <tr>\n",
       "      <th>0</th>\n",
       "      <td>Angul</td>\n",
       "      <td>Chauliakata</td>\n",
       "      <td>7.22</td>\n",
       "      <td>210.0</td>\n",
       "      <td>105</td>\n",
       "      <td>85</td>\n",
       "      <td>60</td>\n",
       "      <td>22</td>\n",
       "      <td>7</td>\n",
       "      <td>5</td>\n",
       "      <td>4.2</td>\n",
       "      <td>73</td>\n",
       "      <td>21</td>\n",
       "      <td>10</td>\n",
       "      <td>0.27</td>\n",
       "      <td>1</td>\n",
       "    </tr>\n",
       "    <tr>\n",
       "      <th>1</th>\n",
       "      <td>Angul</td>\n",
       "      <td>Godibandha</td>\n",
       "      <td>7.54</td>\n",
       "      <td>310.0</td>\n",
       "      <td>157</td>\n",
       "      <td>100</td>\n",
       "      <td>85</td>\n",
       "      <td>20</td>\n",
       "      <td>12</td>\n",
       "      <td>21</td>\n",
       "      <td>4.8</td>\n",
       "      <td>104</td>\n",
       "      <td>43</td>\n",
       "      <td>5</td>\n",
       "      <td>0.12</td>\n",
       "      <td>1</td>\n",
       "    </tr>\n",
       "    <tr>\n",
       "      <th>2</th>\n",
       "      <td>Angul</td>\n",
       "      <td>Samal</td>\n",
       "      <td>8.08</td>\n",
       "      <td>580.0</td>\n",
       "      <td>282</td>\n",
       "      <td>125</td>\n",
       "      <td>200</td>\n",
       "      <td>20</td>\n",
       "      <td>18</td>\n",
       "      <td>72</td>\n",
       "      <td>3.5</td>\n",
       "      <td>244</td>\n",
       "      <td>21</td>\n",
       "      <td>28</td>\n",
       "      <td>1.52</td>\n",
       "      <td>0</td>\n",
       "    </tr>\n",
       "    <tr>\n",
       "      <th>3</th>\n",
       "      <td>Angul</td>\n",
       "      <td>Sipur</td>\n",
       "      <td>8.25</td>\n",
       "      <td>390.0</td>\n",
       "      <td>191</td>\n",
       "      <td>150</td>\n",
       "      <td>145</td>\n",
       "      <td>34</td>\n",
       "      <td>16</td>\n",
       "      <td>16</td>\n",
       "      <td>5.7</td>\n",
       "      <td>177</td>\n",
       "      <td>30</td>\n",
       "      <td>3</td>\n",
       "      <td>0.31</td>\n",
       "      <td>1</td>\n",
       "    </tr>\n",
       "    <tr>\n",
       "      <th>4</th>\n",
       "      <td>Angul</td>\n",
       "      <td>Khamar-1</td>\n",
       "      <td>7.64</td>\n",
       "      <td>460.0</td>\n",
       "      <td>234</td>\n",
       "      <td>165</td>\n",
       "      <td>125</td>\n",
       "      <td>42</td>\n",
       "      <td>15</td>\n",
       "      <td>26</td>\n",
       "      <td>5.0</td>\n",
       "      <td>153</td>\n",
       "      <td>71</td>\n",
       "      <td>0</td>\n",
       "      <td>0.15</td>\n",
       "      <td>1</td>\n",
       "    </tr>\n",
       "    <tr>\n",
       "      <th>...</th>\n",
       "      <td>...</td>\n",
       "      <td>...</td>\n",
       "      <td>...</td>\n",
       "      <td>...</td>\n",
       "      <td>...</td>\n",
       "      <td>...</td>\n",
       "      <td>...</td>\n",
       "      <td>...</td>\n",
       "      <td>...</td>\n",
       "      <td>...</td>\n",
       "      <td>...</td>\n",
       "      <td>...</td>\n",
       "      <td>...</td>\n",
       "      <td>...</td>\n",
       "      <td>...</td>\n",
       "      <td>...</td>\n",
       "    </tr>\n",
       "    <tr>\n",
       "      <th>1236</th>\n",
       "      <td>Sundargarh</td>\n",
       "      <td>R-33 Sector 18</td>\n",
       "      <td>8.22</td>\n",
       "      <td>340.0</td>\n",
       "      <td>176</td>\n",
       "      <td>93</td>\n",
       "      <td>82</td>\n",
       "      <td>31</td>\n",
       "      <td>4</td>\n",
       "      <td>31</td>\n",
       "      <td>4.4</td>\n",
       "      <td>100</td>\n",
       "      <td>34</td>\n",
       "      <td>23</td>\n",
       "      <td>0.14</td>\n",
       "      <td>1</td>\n",
       "    </tr>\n",
       "    <tr>\n",
       "      <th>1237</th>\n",
       "      <td>Sundargarh</td>\n",
       "      <td>R-34 Sector-17</td>\n",
       "      <td>7.90</td>\n",
       "      <td>240.0</td>\n",
       "      <td>118</td>\n",
       "      <td>93</td>\n",
       "      <td>49</td>\n",
       "      <td>18</td>\n",
       "      <td>12</td>\n",
       "      <td>8</td>\n",
       "      <td>4.5</td>\n",
       "      <td>60</td>\n",
       "      <td>41</td>\n",
       "      <td>5</td>\n",
       "      <td>0.14</td>\n",
       "      <td>1</td>\n",
       "    </tr>\n",
       "    <tr>\n",
       "      <th>1238</th>\n",
       "      <td>Sundargarh</td>\n",
       "      <td>R-36 Sector-15</td>\n",
       "      <td>8.27</td>\n",
       "      <td>340.0</td>\n",
       "      <td>156</td>\n",
       "      <td>147</td>\n",
       "      <td>131</td>\n",
       "      <td>29</td>\n",
       "      <td>18</td>\n",
       "      <td>9</td>\n",
       "      <td>2.2</td>\n",
       "      <td>160</td>\n",
       "      <td>14</td>\n",
       "      <td>5</td>\n",
       "      <td>0.26</td>\n",
       "      <td>1</td>\n",
       "    </tr>\n",
       "    <tr>\n",
       "      <th>1239</th>\n",
       "      <td>Sundargarh</td>\n",
       "      <td>R-37 Vedvyas</td>\n",
       "      <td>8.26</td>\n",
       "      <td>740.0</td>\n",
       "      <td>378</td>\n",
       "      <td>270</td>\n",
       "      <td>126</td>\n",
       "      <td>77</td>\n",
       "      <td>19</td>\n",
       "      <td>44</td>\n",
       "      <td>1.5</td>\n",
       "      <td>154</td>\n",
       "      <td>156</td>\n",
       "      <td>5</td>\n",
       "      <td>0.21</td>\n",
       "      <td>0</td>\n",
       "    </tr>\n",
       "    <tr>\n",
       "      <th>1240</th>\n",
       "      <td>Sundargarh</td>\n",
       "      <td>R-38 Kalunga</td>\n",
       "      <td>8.24</td>\n",
       "      <td>340.0</td>\n",
       "      <td>173</td>\n",
       "      <td>152</td>\n",
       "      <td>77</td>\n",
       "      <td>51</td>\n",
       "      <td>6</td>\n",
       "      <td>6</td>\n",
       "      <td>2.4</td>\n",
       "      <td>94</td>\n",
       "      <td>53</td>\n",
       "      <td>9</td>\n",
       "      <td>0.23</td>\n",
       "      <td>1</td>\n",
       "    </tr>\n",
       "  </tbody>\n",
       "</table>\n",
       "<p>1241 rows × 16 columns</p>\n",
       "</div>\n",
       "      <button class=\"colab-df-convert\" onclick=\"convertToInteractive('df-24bfd1a7-0128-4125-9eb0-e4a4f8fa94e2')\"\n",
       "              title=\"Convert this dataframe to an interactive table.\"\n",
       "              style=\"display:none;\">\n",
       "        \n",
       "  <svg xmlns=\"http://www.w3.org/2000/svg\" height=\"24px\"viewBox=\"0 0 24 24\"\n",
       "       width=\"24px\">\n",
       "    <path d=\"M0 0h24v24H0V0z\" fill=\"none\"/>\n",
       "    <path d=\"M18.56 5.44l.94 2.06.94-2.06 2.06-.94-2.06-.94-.94-2.06-.94 2.06-2.06.94zm-11 1L8.5 8.5l.94-2.06 2.06-.94-2.06-.94L8.5 2.5l-.94 2.06-2.06.94zm10 10l.94 2.06.94-2.06 2.06-.94-2.06-.94-.94-2.06-.94 2.06-2.06.94z\"/><path d=\"M17.41 7.96l-1.37-1.37c-.4-.4-.92-.59-1.43-.59-.52 0-1.04.2-1.43.59L10.3 9.45l-7.72 7.72c-.78.78-.78 2.05 0 2.83L4 21.41c.39.39.9.59 1.41.59.51 0 1.02-.2 1.41-.59l7.78-7.78 2.81-2.81c.8-.78.8-2.07 0-2.86zM5.41 20L4 18.59l7.72-7.72 1.47 1.35L5.41 20z\"/>\n",
       "  </svg>\n",
       "      </button>\n",
       "      \n",
       "  <style>\n",
       "    .colab-df-container {\n",
       "      display:flex;\n",
       "      flex-wrap:wrap;\n",
       "      gap: 12px;\n",
       "    }\n",
       "\n",
       "    .colab-df-convert {\n",
       "      background-color: #E8F0FE;\n",
       "      border: none;\n",
       "      border-radius: 50%;\n",
       "      cursor: pointer;\n",
       "      display: none;\n",
       "      fill: #1967D2;\n",
       "      height: 32px;\n",
       "      padding: 0 0 0 0;\n",
       "      width: 32px;\n",
       "    }\n",
       "\n",
       "    .colab-df-convert:hover {\n",
       "      background-color: #E2EBFA;\n",
       "      box-shadow: 0px 1px 2px rgba(60, 64, 67, 0.3), 0px 1px 3px 1px rgba(60, 64, 67, 0.15);\n",
       "      fill: #174EA6;\n",
       "    }\n",
       "\n",
       "    [theme=dark] .colab-df-convert {\n",
       "      background-color: #3B4455;\n",
       "      fill: #D2E3FC;\n",
       "    }\n",
       "\n",
       "    [theme=dark] .colab-df-convert:hover {\n",
       "      background-color: #434B5C;\n",
       "      box-shadow: 0px 1px 3px 1px rgba(0, 0, 0, 0.15);\n",
       "      filter: drop-shadow(0px 1px 2px rgba(0, 0, 0, 0.3));\n",
       "      fill: #FFFFFF;\n",
       "    }\n",
       "  </style>\n",
       "\n",
       "      <script>\n",
       "        const buttonEl =\n",
       "          document.querySelector('#df-24bfd1a7-0128-4125-9eb0-e4a4f8fa94e2 button.colab-df-convert');\n",
       "        buttonEl.style.display =\n",
       "          google.colab.kernel.accessAllowed ? 'block' : 'none';\n",
       "\n",
       "        async function convertToInteractive(key) {\n",
       "          const element = document.querySelector('#df-24bfd1a7-0128-4125-9eb0-e4a4f8fa94e2');\n",
       "          const dataTable =\n",
       "            await google.colab.kernel.invokeFunction('convertToInteractive',\n",
       "                                                     [key], {});\n",
       "          if (!dataTable) return;\n",
       "\n",
       "          const docLinkHtml = 'Like what you see? Visit the ' +\n",
       "            '<a target=\"_blank\" href=https://colab.research.google.com/notebooks/data_table.ipynb>data table notebook</a>'\n",
       "            + ' to learn more about interactive tables.';\n",
       "          element.innerHTML = '';\n",
       "          dataTable['output_type'] = 'display_data';\n",
       "          await google.colab.output.renderOutput(dataTable, element);\n",
       "          const docLink = document.createElement('div');\n",
       "          docLink.innerHTML = docLinkHtml;\n",
       "          element.appendChild(docLink);\n",
       "        }\n",
       "      </script>\n",
       "    </div>\n",
       "  </div>\n",
       "  "
      ],
      "text/plain": [
       "        District         Village    pH     EC  TDS   TH  Alkalinity  Calcium  \\\n",
       "0          Angul     Chauliakata  7.22  210.0  105   85          60       22   \n",
       "1          Angul      Godibandha  7.54  310.0  157  100          85       20   \n",
       "2          Angul           Samal  8.08  580.0  282  125         200       20   \n",
       "3          Angul           Sipur  8.25  390.0  191  150         145       34   \n",
       "4          Angul        Khamar-1  7.64  460.0  234  165         125       42   \n",
       "...          ...             ...   ...    ...  ...  ...         ...      ...   \n",
       "1236  Sundargarh  R-33 Sector 18  8.22  340.0  176   93          82       31   \n",
       "1237  Sundargarh  R-34 Sector-17  7.90  240.0  118   93          49       18   \n",
       "1238  Sundargarh  R-36 Sector-15  8.27  340.0  156  147         131       29   \n",
       "1239  Sundargarh    R-37 Vedvyas  8.26  740.0  378  270         126       77   \n",
       "1240  Sundargarh    R-38 Kalunga  8.24  340.0  173  152          77       51   \n",
       "\n",
       "      Magnesium  Sodium  Potassium  Bicarbonate  Chloride  Sulphate  Fluoride  \\\n",
       "0             7       5        4.2           73        21        10      0.27   \n",
       "1            12      21        4.8          104        43         5      0.12   \n",
       "2            18      72        3.5          244        21        28      1.52   \n",
       "3            16      16        5.7          177        30         3      0.31   \n",
       "4            15      26        5.0          153        71         0      0.15   \n",
       "...         ...     ...        ...          ...       ...       ...       ...   \n",
       "1236          4      31        4.4          100        34        23      0.14   \n",
       "1237         12       8        4.5           60        41         5      0.14   \n",
       "1238         18       9        2.2          160        14         5      0.26   \n",
       "1239         19      44        1.5          154       156         5      0.21   \n",
       "1240          6       6        2.4           94        53         9      0.23   \n",
       "\n",
       "      is_drinkable  \n",
       "0                1  \n",
       "1                1  \n",
       "2                0  \n",
       "3                1  \n",
       "4                1  \n",
       "...            ...  \n",
       "1236             1  \n",
       "1237             1  \n",
       "1238             1  \n",
       "1239             0  \n",
       "1240             1  \n",
       "\n",
       "[1241 rows x 16 columns]"
      ]
     },
     "execution_count": 42,
     "metadata": {},
     "output_type": "execute_result"
    }
   ],
   "source": [
    "df"
   ]
  },
  {
   "cell_type": "code",
   "execution_count": 43,
   "metadata": {
    "colab": {
     "base_uri": "https://localhost:8080/"
    },
    "id": "2m1zMS5gCrUt",
    "outputId": "2fbac412-eaf9-4c68-cc6b-2dc87d065170"
   },
   "outputs": [
    {
     "data": {
      "text/plain": [
       "1    656\n",
       "0    585\n",
       "Name: is_drinkable, dtype: int64"
      ]
     },
     "execution_count": 43,
     "metadata": {},
     "output_type": "execute_result"
    }
   ],
   "source": [
    "df['is_drinkable'].value_counts()"
   ]
  },
  {
   "cell_type": "code",
   "execution_count": 44,
   "metadata": {
    "colab": {
     "base_uri": "https://localhost:8080/"
    },
    "id": "HoEJD_hJEAj8",
    "outputId": "813a4543-e912-48e6-d816-513f2f73fbe6"
   },
   "outputs": [
    {
     "data": {
      "text/plain": [
       "(1241, 16)"
      ]
     },
     "execution_count": 44,
     "metadata": {},
     "output_type": "execute_result"
    }
   ],
   "source": [
    "df.shape"
   ]
  },
  {
   "cell_type": "code",
   "execution_count": 45,
   "metadata": {
    "colab": {
     "base_uri": "https://localhost:8080/"
    },
    "id": "XO8j2xxbEDK5",
    "outputId": "7cc08db4-e620-4ebe-8bf2-6c862dce8de4"
   },
   "outputs": [
    {
     "data": {
      "text/plain": [
       "<bound method DataFrame.info of         District         Village    pH     EC  TDS   TH  Alkalinity  Calcium  \\\n",
       "0          Angul     Chauliakata  7.22  210.0  105   85          60       22   \n",
       "1          Angul      Godibandha  7.54  310.0  157  100          85       20   \n",
       "2          Angul           Samal  8.08  580.0  282  125         200       20   \n",
       "3          Angul           Sipur  8.25  390.0  191  150         145       34   \n",
       "4          Angul        Khamar-1  7.64  460.0  234  165         125       42   \n",
       "...          ...             ...   ...    ...  ...  ...         ...      ...   \n",
       "1236  Sundargarh  R-33 Sector 18  8.22  340.0  176   93          82       31   \n",
       "1237  Sundargarh  R-34 Sector-17  7.90  240.0  118   93          49       18   \n",
       "1238  Sundargarh  R-36 Sector-15  8.27  340.0  156  147         131       29   \n",
       "1239  Sundargarh    R-37 Vedvyas  8.26  740.0  378  270         126       77   \n",
       "1240  Sundargarh    R-38 Kalunga  8.24  340.0  173  152          77       51   \n",
       "\n",
       "      Magnesium  Sodium  Potassium  Bicarbonate  Chloride  Sulphate  Fluoride  \\\n",
       "0             7       5        4.2           73        21        10      0.27   \n",
       "1            12      21        4.8          104        43         5      0.12   \n",
       "2            18      72        3.5          244        21        28      1.52   \n",
       "3            16      16        5.7          177        30         3      0.31   \n",
       "4            15      26        5.0          153        71         0      0.15   \n",
       "...         ...     ...        ...          ...       ...       ...       ...   \n",
       "1236          4      31        4.4          100        34        23      0.14   \n",
       "1237         12       8        4.5           60        41         5      0.14   \n",
       "1238         18       9        2.2          160        14         5      0.26   \n",
       "1239         19      44        1.5          154       156         5      0.21   \n",
       "1240          6       6        2.4           94        53         9      0.23   \n",
       "\n",
       "      is_drinkable  \n",
       "0                1  \n",
       "1                1  \n",
       "2                0  \n",
       "3                1  \n",
       "4                1  \n",
       "...            ...  \n",
       "1236             1  \n",
       "1237             1  \n",
       "1238             1  \n",
       "1239             0  \n",
       "1240             1  \n",
       "\n",
       "[1241 rows x 16 columns]>"
      ]
     },
     "execution_count": 45,
     "metadata": {},
     "output_type": "execute_result"
    }
   ],
   "source": [
    "df.info"
   ]
  },
  {
   "cell_type": "code",
   "execution_count": 46,
   "metadata": {
    "colab": {
     "base_uri": "https://localhost:8080/"
    },
    "id": "sDXLTpxLELLT",
    "outputId": "a860f0ef-e2d1-4653-c8eb-3d6b4bcc5cf8"
   },
   "outputs": [
    {
     "data": {
      "text/plain": [
       "Index(['District', 'Village', 'pH', 'EC', 'TDS', 'TH', 'Alkalinity', 'Calcium',\n",
       "       'Magnesium', 'Sodium', 'Potassium', 'Bicarbonate', 'Chloride',\n",
       "       'Sulphate', 'Fluoride', 'is_drinkable'],\n",
       "      dtype='object')"
      ]
     },
     "execution_count": 46,
     "metadata": {},
     "output_type": "execute_result"
    }
   ],
   "source": [
    "df.columns"
   ]
  },
  {
   "cell_type": "code",
   "execution_count": 47,
   "metadata": {
    "colab": {
     "base_uri": "https://localhost:8080/"
    },
    "id": "iZVK113UMIkb",
    "outputId": "cc64dcac-0092-4c86-b9c6-469c9e024dd9"
   },
   "outputs": [
    {
     "name": "stdout",
     "output_type": "stream",
     "text": [
      "Looking in indexes: https://pypi.org/simple, https://us-python.pkg.dev/colab-wheels/public/simple/\n",
      "Collecting pandasql\n",
      "  Downloading pandasql-0.7.3.tar.gz (26 kB)\n",
      "Requirement already satisfied: numpy in /usr/local/lib/python3.7/dist-packages (from pandasql) (1.21.6)\n",
      "Requirement already satisfied: pandas in /usr/local/lib/python3.7/dist-packages (from pandasql) (1.3.5)\n",
      "Requirement already satisfied: sqlalchemy in /usr/local/lib/python3.7/dist-packages (from pandasql) (1.4.41)\n",
      "Requirement already satisfied: pytz>=2017.3 in /usr/local/lib/python3.7/dist-packages (from pandas->pandasql) (2022.4)\n",
      "Requirement already satisfied: python-dateutil>=2.7.3 in /usr/local/lib/python3.7/dist-packages (from pandas->pandasql) (2.8.2)\n",
      "Requirement already satisfied: six>=1.5 in /usr/local/lib/python3.7/dist-packages (from python-dateutil>=2.7.3->pandas->pandasql) (1.15.0)\n",
      "Requirement already satisfied: greenlet!=0.4.17 in /usr/local/lib/python3.7/dist-packages (from sqlalchemy->pandasql) (1.1.3)\n",
      "Requirement already satisfied: importlib-metadata in /usr/local/lib/python3.7/dist-packages (from sqlalchemy->pandasql) (5.0.0)\n",
      "Requirement already satisfied: zipp>=0.5 in /usr/local/lib/python3.7/dist-packages (from importlib-metadata->sqlalchemy->pandasql) (3.8.1)\n",
      "Requirement already satisfied: typing-extensions>=3.6.4 in /usr/local/lib/python3.7/dist-packages (from importlib-metadata->sqlalchemy->pandasql) (4.1.1)\n",
      "Building wheels for collected packages: pandasql\n",
      "  Building wheel for pandasql (setup.py) ... \u001b[?25l\u001b[?25hdone\n",
      "  Created wheel for pandasql: filename=pandasql-0.7.3-py3-none-any.whl size=26784 sha256=677473954b2e76b25096d371128b3570a984a5788ca39f0f7fe6c5304fb4697b\n",
      "  Stored in directory: /root/.cache/pip/wheels/5c/4b/ec/41f4e116c8053c3654e2c2a47c62b4fca34cc67ef7b55deb7f\n",
      "Successfully built pandasql\n",
      "Installing collected packages: pandasql\n",
      "Successfully installed pandasql-0.7.3\n"
     ]
    }
   ],
   "source": [
    "#pip install pandasql"
   ]
  },
  {
   "cell_type": "code",
   "execution_count": 48,
   "metadata": {
    "id": "fVbdgNoHMI5x"
   },
   "outputs": [],
   "source": [
    "import pandasql\n",
    "sub_data = pandasql.sqldf(\"SELECT District,is_drinkable, COUNT(District) FROM df GROUP BY District,is_drinkable \", globals())\n",
    "#sub_data"
   ]
  },
  {
   "cell_type": "code",
   "execution_count": 49,
   "metadata": {
    "colab": {
     "base_uri": "https://localhost:8080/"
    },
    "id": "mqnqKaZzMJIB",
    "outputId": "6a29fe70-97da-4aaf-ce01-8442ce33e2d5"
   },
   "outputs": [
    {
     "name": "stdout",
     "output_type": "stream",
     "text": [
      "3127.0\n",
      "0.0003197953309881676\n"
     ]
    }
   ],
   "source": [
    "#  standard value recommended for parameter\n",
    "si= 8.5+1000+500+300+200+75+30+200+12+350+250+200+1.5\n",
    "print(si)\n",
    "k=1/si\n",
    "print(k)"
   ]
  },
  {
   "cell_type": "code",
   "execution_count": 50,
   "metadata": {
    "id": "59AoKOe9MJKk"
   },
   "outputs": [],
   "source": [
    "values=[8.5,1000,500,300,200,75,30,200,12,350,250,200,1.5]\n",
    "wi=[]\n",
    "for i in values:\n",
    "  wi.append(k/i)\n",
    "#wi"
   ]
  },
  {
   "cell_type": "code",
   "execution_count": 51,
   "metadata": {
    "id": "8n1-LmCeMJW8"
   },
   "outputs": [],
   "source": [
    "pHn=[]\n",
    "for i in df['pH']:\n",
    "  pHn.append(100*((i-7.0)/(8.5-7.0)))\n",
    "#pHn"
   ]
  },
  {
   "cell_type": "code",
   "execution_count": 52,
   "metadata": {
    "id": "P7LTsT8cMJaH"
   },
   "outputs": [],
   "source": [
    "ECn=[]\n",
    "for i in df['EC']:\n",
    "  ECn.append(100*((i)/(1000)))\n",
    "#ECn"
   ]
  },
  {
   "cell_type": "code",
   "execution_count": 53,
   "metadata": {
    "id": "tB4PiF1LbByN"
   },
   "outputs": [],
   "source": [
    "TDSn=[]\n",
    "for i in df['TDS']:\n",
    "  TDSn.append(100*((i)/(500)))\n",
    "#TDSn"
   ]
  },
  {
   "cell_type": "code",
   "execution_count": 54,
   "metadata": {
    "id": "6bT4MLMhViFr"
   },
   "outputs": [],
   "source": [
    "THn=[]\n",
    "for i in df['TH']:\n",
    "  THn.append(100*((i)/(300)))\n",
    "#THn"
   ]
  },
  {
   "cell_type": "code",
   "execution_count": 55,
   "metadata": {
    "id": "Xou4rTWGViJ_"
   },
   "outputs": [],
   "source": [
    "Alkalinityn=[]\n",
    "for i in df['Alkalinity']:\n",
    "  Alkalinityn.append(100*((i)/(200)))\n",
    "#Alkalinityn"
   ]
  },
  {
   "cell_type": "code",
   "execution_count": 56,
   "metadata": {
    "id": "FQNrwwiFV29Q"
   },
   "outputs": [],
   "source": [
    "Calciumn=[]\n",
    "for i in df['Calcium']:\n",
    "  Calciumn.append(100*((i)/(75)))\n",
    "#Calciumn"
   ]
  },
  {
   "cell_type": "code",
   "execution_count": 57,
   "metadata": {
    "id": "rfexgtrtV3cY"
   },
   "outputs": [],
   "source": [
    "Magnesiumn=[]\n",
    "for i in df['Magnesium']:\n",
    "  Magnesiumn.append(100*((i)/(50)))\n",
    "#Magnesiumn"
   ]
  },
  {
   "cell_type": "code",
   "execution_count": 58,
   "metadata": {
    "id": "zC0jO9JJV3uy"
   },
   "outputs": [],
   "source": [
    "Sodiumn=[]\n",
    "for i in df['Sodium']:\n",
    "  Sodiumn.append(100*((i)/(200)))\n",
    "#Sodiumn"
   ]
  },
  {
   "cell_type": "code",
   "execution_count": 59,
   "metadata": {
    "id": "BwmV1iSZWQds"
   },
   "outputs": [],
   "source": [
    "Potassiumn=[]\n",
    "for i in df['Potassium']:\n",
    "  Potassiumn.append(100*((i)/(12)))\n",
    "#Potassiumn"
   ]
  },
  {
   "cell_type": "code",
   "execution_count": 60,
   "metadata": {
    "id": "li1EY_teWRow"
   },
   "outputs": [],
   "source": [
    "Bicarbonaten=[]\n",
    "for i in df['Bicarbonate']:\n",
    "  Bicarbonaten.append(100*((i)/(350)))\n",
    "#Bicarbonaten"
   ]
  },
  {
   "cell_type": "code",
   "execution_count": 61,
   "metadata": {
    "id": "0NGJWslvW3Bh"
   },
   "outputs": [],
   "source": [
    "Chloriden=[]\n",
    "for i in df['Chloride']:\n",
    "  Chloriden.append(100*((i)/(250)))\n",
    "#Chloriden"
   ]
  },
  {
   "cell_type": "code",
   "execution_count": 62,
   "metadata": {
    "id": "YiuKe0zxW-DV"
   },
   "outputs": [],
   "source": [
    "Sulphaten=[]\n",
    "for i in df['Sulphate']:\n",
    "  Sulphaten.append(100*((i)/(200)))\n",
    "#Sulphaten"
   ]
  },
  {
   "cell_type": "code",
   "execution_count": 63,
   "metadata": {
    "id": "a2hvlXI0W-UN"
   },
   "outputs": [],
   "source": [
    "Fluoriden=[]\n",
    "for i in df['Fluoride']:\n",
    "  Fluoriden.append(100*((i)/(1.5)))\n",
    "#Fluoriden"
   ]
  },
  {
   "cell_type": "code",
   "execution_count": 64,
   "metadata": {
    "id": "XgRrmMfSVg8j"
   },
   "outputs": [],
   "source": [
    "wqi=[]\n",
    "for i in range(len(df)):\n",
    "  wqi.append( (   (pHn[i]*wi[0]) + (ECn[i]*wi[1]) +(TDSn[i]*wi[2])  +(THn[i]*wi[3])  +(Alkalinityn[i]*wi[4])  +(Calciumn[i]*wi[5])  +(Magnesiumn[i]*wi[6])  +(Sodiumn[i]*wi[7])  +(Potassiumn[i]*wi[8])  +(Bicarbonaten[i]*wi[9])  +(Chloriden[i]*wi[10]) +(Sulphaten[i]*wi[11])  +(Fluoriden[i]*wi[12])  )  /    ( wi[0]+wi[1]+wi[2]+wi[3]+wi[4]+wi[5]+wi[6]+wi[7]+wi[8]+wi[9]+wi[10]+wi[11]+wi[12]  ) )"
   ]
  },
  {
   "cell_type": "code",
   "execution_count": 65,
   "metadata": {
    "colab": {
     "base_uri": "https://localhost:8080/"
    },
    "id": "oA905TnwiGee",
    "outputId": "329adffc-5335-4bc8-a8e1-4aea5936e869"
   },
   "outputs": [
    {
     "data": {
      "text/plain": [
       "1241"
      ]
     },
     "execution_count": 65,
     "metadata": {},
     "output_type": "execute_result"
    }
   ],
   "source": [
    "len(wqi)"
   ]
  },
  {
   "cell_type": "code",
   "execution_count": 66,
   "metadata": {
    "id": "91tDWXswh833"
   },
   "outputs": [],
   "source": [
    "df['WQI'] = wqi"
   ]
  },
  {
   "cell_type": "code",
   "execution_count": 67,
   "metadata": {
    "id": "nl4ke3jdhdda"
   },
   "outputs": [],
   "source": [
    "#for i in range(len(df)):\n",
    "#  if df['WQI'][i] > 51:\n",
    "  #  print(df.iloc[i])\n",
    "#df.iloc[2]"
   ]
  },
  {
   "cell_type": "code",
   "execution_count": 68,
   "metadata": {
    "id": "B-TM-NamFrjg"
   },
   "outputs": [],
   "source": [
    "wqc=[]\n",
    "for i in range(len(df)):\n",
    "    res = \"\"\n",
    "    if df[\"WQI\"][i] >= 0 and df[\"WQI\"][i] <= 25:\n",
    "        res = \"Excellent\"\n",
    "    elif df[\"WQI\"][i] > 25 and df[\"WQI\"][i] <= 50:\n",
    "        res = \"Good\"\n",
    "    elif df[\"WQI\"][i] >50 and df[\"WQI\"][i] <= 75:\n",
    "        res = \"Poor\"\n",
    "    elif df[\"WQI\"][i] >75 :\n",
    "        res = \"Very Poor\"\n",
    "   \n",
    "        \n",
    "    wqc.append(res)"
   ]
  },
  {
   "cell_type": "code",
   "execution_count": 69,
   "metadata": {
    "id": "5jgJOInXmrBw"
   },
   "outputs": [],
   "source": [
    "df['WQC'] = wqc"
   ]
  },
  {
   "cell_type": "code",
   "execution_count": 69,
   "metadata": {
    "id": "U2_Agp1nmrBw"
   },
   "outputs": [],
   "source": []
  },
  {
   "cell_type": "code",
   "execution_count": 70,
   "metadata": {
    "colab": {
     "base_uri": "https://localhost:8080/"
    },
    "id": "w69zXyaoF75W",
    "outputId": "55d5f5db-67e6-4657-b548-65a6ffd96ef6"
   },
   "outputs": [
    {
     "data": {
      "text/plain": [
       "Good         513\n",
       "Excellent    436\n",
       "Poor         173\n",
       "Very Poor    119\n",
       "Name: WQC, dtype: int64"
      ]
     },
     "execution_count": 70,
     "metadata": {},
     "output_type": "execute_result"
    }
   ],
   "source": [
    "df['WQC'].value_counts()"
   ]
  },
  {
   "cell_type": "code",
   "execution_count": 71,
   "metadata": {
    "colab": {
     "base_uri": "https://localhost:8080/",
     "height": 462
    },
    "id": "8WSkgeZ7mrBx",
    "outputId": "bc2eb382-2b1b-4a6c-a543-55ca271af691"
   },
   "outputs": [
    {
     "data": {
      "text/html": [
       "\n",
       "  <div id=\"df-c31a02e6-580e-4735-ad2d-83f2c0a27099\">\n",
       "    <div class=\"colab-df-container\">\n",
       "      <div>\n",
       "<style scoped>\n",
       "    .dataframe tbody tr th:only-of-type {\n",
       "        vertical-align: middle;\n",
       "    }\n",
       "\n",
       "    .dataframe tbody tr th {\n",
       "        vertical-align: top;\n",
       "    }\n",
       "\n",
       "    .dataframe thead th {\n",
       "        text-align: right;\n",
       "    }\n",
       "</style>\n",
       "<table border=\"1\" class=\"dataframe\">\n",
       "  <thead>\n",
       "    <tr style=\"text-align: right;\">\n",
       "      <th></th>\n",
       "      <th>District</th>\n",
       "      <th>Village</th>\n",
       "      <th>pH</th>\n",
       "      <th>EC</th>\n",
       "      <th>TDS</th>\n",
       "      <th>TH</th>\n",
       "      <th>Alkalinity</th>\n",
       "      <th>Calcium</th>\n",
       "      <th>Magnesium</th>\n",
       "      <th>Sodium</th>\n",
       "      <th>Potassium</th>\n",
       "      <th>Bicarbonate</th>\n",
       "      <th>Chloride</th>\n",
       "      <th>Sulphate</th>\n",
       "      <th>Fluoride</th>\n",
       "      <th>is_drinkable</th>\n",
       "      <th>WQI</th>\n",
       "      <th>WQC</th>\n",
       "    </tr>\n",
       "  </thead>\n",
       "  <tbody>\n",
       "    <tr>\n",
       "      <th>0</th>\n",
       "      <td>Angul</td>\n",
       "      <td>Chauliakata</td>\n",
       "      <td>7.22</td>\n",
       "      <td>210.0</td>\n",
       "      <td>105</td>\n",
       "      <td>85</td>\n",
       "      <td>60</td>\n",
       "      <td>22</td>\n",
       "      <td>7</td>\n",
       "      <td>5</td>\n",
       "      <td>4.2</td>\n",
       "      <td>73</td>\n",
       "      <td>21</td>\n",
       "      <td>10</td>\n",
       "      <td>0.27</td>\n",
       "      <td>1</td>\n",
       "      <td>19.032351</td>\n",
       "      <td>Excellent</td>\n",
       "    </tr>\n",
       "    <tr>\n",
       "      <th>1</th>\n",
       "      <td>Angul</td>\n",
       "      <td>Godibandha</td>\n",
       "      <td>7.54</td>\n",
       "      <td>310.0</td>\n",
       "      <td>157</td>\n",
       "      <td>100</td>\n",
       "      <td>85</td>\n",
       "      <td>20</td>\n",
       "      <td>12</td>\n",
       "      <td>21</td>\n",
       "      <td>4.8</td>\n",
       "      <td>104</td>\n",
       "      <td>43</td>\n",
       "      <td>5</td>\n",
       "      <td>0.12</td>\n",
       "      <td>1</td>\n",
       "      <td>15.589984</td>\n",
       "      <td>Excellent</td>\n",
       "    </tr>\n",
       "    <tr>\n",
       "      <th>2</th>\n",
       "      <td>Angul</td>\n",
       "      <td>Samal</td>\n",
       "      <td>8.08</td>\n",
       "      <td>580.0</td>\n",
       "      <td>282</td>\n",
       "      <td>125</td>\n",
       "      <td>200</td>\n",
       "      <td>20</td>\n",
       "      <td>18</td>\n",
       "      <td>72</td>\n",
       "      <td>3.5</td>\n",
       "      <td>244</td>\n",
       "      <td>21</td>\n",
       "      <td>28</td>\n",
       "      <td>1.52</td>\n",
       "      <td>0</td>\n",
       "      <td>86.264578</td>\n",
       "      <td>Very Poor</td>\n",
       "    </tr>\n",
       "    <tr>\n",
       "      <th>3</th>\n",
       "      <td>Angul</td>\n",
       "      <td>Sipur</td>\n",
       "      <td>8.25</td>\n",
       "      <td>390.0</td>\n",
       "      <td>191</td>\n",
       "      <td>150</td>\n",
       "      <td>145</td>\n",
       "      <td>34</td>\n",
       "      <td>16</td>\n",
       "      <td>16</td>\n",
       "      <td>5.7</td>\n",
       "      <td>177</td>\n",
       "      <td>30</td>\n",
       "      <td>3</td>\n",
       "      <td>0.31</td>\n",
       "      <td>1</td>\n",
       "      <td>31.931635</td>\n",
       "      <td>Good</td>\n",
       "    </tr>\n",
       "    <tr>\n",
       "      <th>4</th>\n",
       "      <td>Angul</td>\n",
       "      <td>Khamar-1</td>\n",
       "      <td>7.64</td>\n",
       "      <td>460.0</td>\n",
       "      <td>234</td>\n",
       "      <td>165</td>\n",
       "      <td>125</td>\n",
       "      <td>42</td>\n",
       "      <td>15</td>\n",
       "      <td>26</td>\n",
       "      <td>5.0</td>\n",
       "      <td>153</td>\n",
       "      <td>71</td>\n",
       "      <td>0</td>\n",
       "      <td>0.15</td>\n",
       "      <td>1</td>\n",
       "      <td>18.932642</td>\n",
       "      <td>Excellent</td>\n",
       "    </tr>\n",
       "    <tr>\n",
       "      <th>5</th>\n",
       "      <td>Angul</td>\n",
       "      <td>Srirampur</td>\n",
       "      <td>7.88</td>\n",
       "      <td>390.0</td>\n",
       "      <td>196</td>\n",
       "      <td>160</td>\n",
       "      <td>105</td>\n",
       "      <td>36</td>\n",
       "      <td>17</td>\n",
       "      <td>15</td>\n",
       "      <td>1.2</td>\n",
       "      <td>128</td>\n",
       "      <td>60</td>\n",
       "      <td>4</td>\n",
       "      <td>0.27</td>\n",
       "      <td>1</td>\n",
       "      <td>23.675539</td>\n",
       "      <td>Excellent</td>\n",
       "    </tr>\n",
       "    <tr>\n",
       "      <th>6</th>\n",
       "      <td>Angul</td>\n",
       "      <td>Pallahara</td>\n",
       "      <td>7.99</td>\n",
       "      <td>480.0</td>\n",
       "      <td>244</td>\n",
       "      <td>145</td>\n",
       "      <td>110</td>\n",
       "      <td>34</td>\n",
       "      <td>15</td>\n",
       "      <td>41</td>\n",
       "      <td>1.8</td>\n",
       "      <td>134</td>\n",
       "      <td>72</td>\n",
       "      <td>15</td>\n",
       "      <td>0.11</td>\n",
       "      <td>1</td>\n",
       "      <td>17.458106</td>\n",
       "      <td>Excellent</td>\n",
       "    </tr>\n",
       "    <tr>\n",
       "      <th>7</th>\n",
       "      <td>Angul</td>\n",
       "      <td>Jamardihi</td>\n",
       "      <td>7.62</td>\n",
       "      <td>90.0</td>\n",
       "      <td>43</td>\n",
       "      <td>40</td>\n",
       "      <td>25</td>\n",
       "      <td>10</td>\n",
       "      <td>4</td>\n",
       "      <td>1</td>\n",
       "      <td>0.7</td>\n",
       "      <td>31</td>\n",
       "      <td>10</td>\n",
       "      <td>2</td>\n",
       "      <td>0.13</td>\n",
       "      <td>1</td>\n",
       "      <td>12.470002</td>\n",
       "      <td>Excellent</td>\n",
       "    </tr>\n",
       "    <tr>\n",
       "      <th>8</th>\n",
       "      <td>Angul</td>\n",
       "      <td>Sendhogram</td>\n",
       "      <td>7.81</td>\n",
       "      <td>820.0</td>\n",
       "      <td>428</td>\n",
       "      <td>200</td>\n",
       "      <td>245</td>\n",
       "      <td>24</td>\n",
       "      <td>34</td>\n",
       "      <td>95</td>\n",
       "      <td>2.2</td>\n",
       "      <td>299</td>\n",
       "      <td>82</td>\n",
       "      <td>44</td>\n",
       "      <td>1.59</td>\n",
       "      <td>0</td>\n",
       "      <td>88.117828</td>\n",
       "      <td>Very Poor</td>\n",
       "    </tr>\n",
       "    <tr>\n",
       "      <th>9</th>\n",
       "      <td>Angul</td>\n",
       "      <td>Bhogabereni</td>\n",
       "      <td>7.42</td>\n",
       "      <td>2440.0</td>\n",
       "      <td>1292</td>\n",
       "      <td>515</td>\n",
       "      <td>425</td>\n",
       "      <td>78</td>\n",
       "      <td>78</td>\n",
       "      <td>312</td>\n",
       "      <td>20.6</td>\n",
       "      <td>519</td>\n",
       "      <td>363</td>\n",
       "      <td>186</td>\n",
       "      <td>0.94</td>\n",
       "      <td>0</td>\n",
       "      <td>74.916497</td>\n",
       "      <td>Poor</td>\n",
       "    </tr>\n",
       "  </tbody>\n",
       "</table>\n",
       "</div>\n",
       "      <button class=\"colab-df-convert\" onclick=\"convertToInteractive('df-c31a02e6-580e-4735-ad2d-83f2c0a27099')\"\n",
       "              title=\"Convert this dataframe to an interactive table.\"\n",
       "              style=\"display:none;\">\n",
       "        \n",
       "  <svg xmlns=\"http://www.w3.org/2000/svg\" height=\"24px\"viewBox=\"0 0 24 24\"\n",
       "       width=\"24px\">\n",
       "    <path d=\"M0 0h24v24H0V0z\" fill=\"none\"/>\n",
       "    <path d=\"M18.56 5.44l.94 2.06.94-2.06 2.06-.94-2.06-.94-.94-2.06-.94 2.06-2.06.94zm-11 1L8.5 8.5l.94-2.06 2.06-.94-2.06-.94L8.5 2.5l-.94 2.06-2.06.94zm10 10l.94 2.06.94-2.06 2.06-.94-2.06-.94-.94-2.06-.94 2.06-2.06.94z\"/><path d=\"M17.41 7.96l-1.37-1.37c-.4-.4-.92-.59-1.43-.59-.52 0-1.04.2-1.43.59L10.3 9.45l-7.72 7.72c-.78.78-.78 2.05 0 2.83L4 21.41c.39.39.9.59 1.41.59.51 0 1.02-.2 1.41-.59l7.78-7.78 2.81-2.81c.8-.78.8-2.07 0-2.86zM5.41 20L4 18.59l7.72-7.72 1.47 1.35L5.41 20z\"/>\n",
       "  </svg>\n",
       "      </button>\n",
       "      \n",
       "  <style>\n",
       "    .colab-df-container {\n",
       "      display:flex;\n",
       "      flex-wrap:wrap;\n",
       "      gap: 12px;\n",
       "    }\n",
       "\n",
       "    .colab-df-convert {\n",
       "      background-color: #E8F0FE;\n",
       "      border: none;\n",
       "      border-radius: 50%;\n",
       "      cursor: pointer;\n",
       "      display: none;\n",
       "      fill: #1967D2;\n",
       "      height: 32px;\n",
       "      padding: 0 0 0 0;\n",
       "      width: 32px;\n",
       "    }\n",
       "\n",
       "    .colab-df-convert:hover {\n",
       "      background-color: #E2EBFA;\n",
       "      box-shadow: 0px 1px 2px rgba(60, 64, 67, 0.3), 0px 1px 3px 1px rgba(60, 64, 67, 0.15);\n",
       "      fill: #174EA6;\n",
       "    }\n",
       "\n",
       "    [theme=dark] .colab-df-convert {\n",
       "      background-color: #3B4455;\n",
       "      fill: #D2E3FC;\n",
       "    }\n",
       "\n",
       "    [theme=dark] .colab-df-convert:hover {\n",
       "      background-color: #434B5C;\n",
       "      box-shadow: 0px 1px 3px 1px rgba(0, 0, 0, 0.15);\n",
       "      filter: drop-shadow(0px 1px 2px rgba(0, 0, 0, 0.3));\n",
       "      fill: #FFFFFF;\n",
       "    }\n",
       "  </style>\n",
       "\n",
       "      <script>\n",
       "        const buttonEl =\n",
       "          document.querySelector('#df-c31a02e6-580e-4735-ad2d-83f2c0a27099 button.colab-df-convert');\n",
       "        buttonEl.style.display =\n",
       "          google.colab.kernel.accessAllowed ? 'block' : 'none';\n",
       "\n",
       "        async function convertToInteractive(key) {\n",
       "          const element = document.querySelector('#df-c31a02e6-580e-4735-ad2d-83f2c0a27099');\n",
       "          const dataTable =\n",
       "            await google.colab.kernel.invokeFunction('convertToInteractive',\n",
       "                                                     [key], {});\n",
       "          if (!dataTable) return;\n",
       "\n",
       "          const docLinkHtml = 'Like what you see? Visit the ' +\n",
       "            '<a target=\"_blank\" href=https://colab.research.google.com/notebooks/data_table.ipynb>data table notebook</a>'\n",
       "            + ' to learn more about interactive tables.';\n",
       "          element.innerHTML = '';\n",
       "          dataTable['output_type'] = 'display_data';\n",
       "          await google.colab.output.renderOutput(dataTable, element);\n",
       "          const docLink = document.createElement('div');\n",
       "          docLink.innerHTML = docLinkHtml;\n",
       "          element.appendChild(docLink);\n",
       "        }\n",
       "      </script>\n",
       "    </div>\n",
       "  </div>\n",
       "  "
      ],
      "text/plain": [
       "  District      Village    pH      EC   TDS   TH  Alkalinity  Calcium  \\\n",
       "0    Angul  Chauliakata  7.22   210.0   105   85          60       22   \n",
       "1    Angul   Godibandha  7.54   310.0   157  100          85       20   \n",
       "2    Angul        Samal  8.08   580.0   282  125         200       20   \n",
       "3    Angul        Sipur  8.25   390.0   191  150         145       34   \n",
       "4    Angul     Khamar-1  7.64   460.0   234  165         125       42   \n",
       "5    Angul    Srirampur  7.88   390.0   196  160         105       36   \n",
       "6    Angul    Pallahara  7.99   480.0   244  145         110       34   \n",
       "7    Angul    Jamardihi  7.62    90.0    43   40          25       10   \n",
       "8    Angul   Sendhogram  7.81   820.0   428  200         245       24   \n",
       "9    Angul  Bhogabereni  7.42  2440.0  1292  515         425       78   \n",
       "\n",
       "   Magnesium  Sodium  Potassium  Bicarbonate  Chloride  Sulphate  Fluoride  \\\n",
       "0          7       5        4.2           73        21        10      0.27   \n",
       "1         12      21        4.8          104        43         5      0.12   \n",
       "2         18      72        3.5          244        21        28      1.52   \n",
       "3         16      16        5.7          177        30         3      0.31   \n",
       "4         15      26        5.0          153        71         0      0.15   \n",
       "5         17      15        1.2          128        60         4      0.27   \n",
       "6         15      41        1.8          134        72        15      0.11   \n",
       "7          4       1        0.7           31        10         2      0.13   \n",
       "8         34      95        2.2          299        82        44      1.59   \n",
       "9         78     312       20.6          519       363       186      0.94   \n",
       "\n",
       "   is_drinkable        WQI        WQC  \n",
       "0             1  19.032351  Excellent  \n",
       "1             1  15.589984  Excellent  \n",
       "2             0  86.264578  Very Poor  \n",
       "3             1  31.931635       Good  \n",
       "4             1  18.932642  Excellent  \n",
       "5             1  23.675539  Excellent  \n",
       "6             1  17.458106  Excellent  \n",
       "7             1  12.470002  Excellent  \n",
       "8             0  88.117828  Very Poor  \n",
       "9             0  74.916497       Poor  "
      ]
     },
     "execution_count": 71,
     "metadata": {},
     "output_type": "execute_result"
    }
   ],
   "source": [
    "df.head(10)"
   ]
  },
  {
   "cell_type": "code",
   "execution_count": 72,
   "metadata": {
    "colab": {
     "base_uri": "https://localhost:8080/"
    },
    "id": "uc4rHHJLmrBx",
    "outputId": "84b97c4b-64c6-4e41-a2e9-e9f232a4ee27"
   },
   "outputs": [
    {
     "data": {
      "text/plain": [
       "(1241, 14)"
      ]
     },
     "execution_count": 72,
     "metadata": {},
     "output_type": "execute_result"
    }
   ],
   "source": [
    "df2=df.drop(['District','Village','WQC','is_drinkable'], axis =1)\n",
    "df3=df.drop(['District','Village','WQC','is_drinkable'], axis =1)\n",
    "df3.shape"
   ]
  },
  {
   "cell_type": "code",
   "execution_count": 73,
   "metadata": {
    "colab": {
     "base_uri": "https://localhost:8080/",
     "height": 424
    },
    "id": "dnVue910mrBx",
    "outputId": "6030fe3b-661e-4777-c42b-da4c9e99640a"
   },
   "outputs": [
    {
     "data": {
      "text/html": [
       "\n",
       "  <div id=\"df-c549e3da-e7ec-40aa-ac7f-4365c9f22b69\">\n",
       "    <div class=\"colab-df-container\">\n",
       "      <div>\n",
       "<style scoped>\n",
       "    .dataframe tbody tr th:only-of-type {\n",
       "        vertical-align: middle;\n",
       "    }\n",
       "\n",
       "    .dataframe tbody tr th {\n",
       "        vertical-align: top;\n",
       "    }\n",
       "\n",
       "    .dataframe thead th {\n",
       "        text-align: right;\n",
       "    }\n",
       "</style>\n",
       "<table border=\"1\" class=\"dataframe\">\n",
       "  <thead>\n",
       "    <tr style=\"text-align: right;\">\n",
       "      <th></th>\n",
       "      <th>pH</th>\n",
       "      <th>EC</th>\n",
       "      <th>TDS</th>\n",
       "      <th>TH</th>\n",
       "      <th>Alkalinity</th>\n",
       "      <th>Calcium</th>\n",
       "      <th>Magnesium</th>\n",
       "      <th>Sodium</th>\n",
       "      <th>Potassium</th>\n",
       "      <th>Bicarbonate</th>\n",
       "      <th>Chloride</th>\n",
       "      <th>Sulphate</th>\n",
       "      <th>Fluoride</th>\n",
       "      <th>WQI</th>\n",
       "    </tr>\n",
       "  </thead>\n",
       "  <tbody>\n",
       "    <tr>\n",
       "      <th>0</th>\n",
       "      <td>7.22</td>\n",
       "      <td>210.0</td>\n",
       "      <td>105</td>\n",
       "      <td>85</td>\n",
       "      <td>60</td>\n",
       "      <td>22</td>\n",
       "      <td>7</td>\n",
       "      <td>5</td>\n",
       "      <td>4.2</td>\n",
       "      <td>73</td>\n",
       "      <td>21</td>\n",
       "      <td>10</td>\n",
       "      <td>0.27</td>\n",
       "      <td>19.032351</td>\n",
       "    </tr>\n",
       "    <tr>\n",
       "      <th>1</th>\n",
       "      <td>7.54</td>\n",
       "      <td>310.0</td>\n",
       "      <td>157</td>\n",
       "      <td>100</td>\n",
       "      <td>85</td>\n",
       "      <td>20</td>\n",
       "      <td>12</td>\n",
       "      <td>21</td>\n",
       "      <td>4.8</td>\n",
       "      <td>104</td>\n",
       "      <td>43</td>\n",
       "      <td>5</td>\n",
       "      <td>0.12</td>\n",
       "      <td>15.589984</td>\n",
       "    </tr>\n",
       "    <tr>\n",
       "      <th>2</th>\n",
       "      <td>8.08</td>\n",
       "      <td>580.0</td>\n",
       "      <td>282</td>\n",
       "      <td>125</td>\n",
       "      <td>200</td>\n",
       "      <td>20</td>\n",
       "      <td>18</td>\n",
       "      <td>72</td>\n",
       "      <td>3.5</td>\n",
       "      <td>244</td>\n",
       "      <td>21</td>\n",
       "      <td>28</td>\n",
       "      <td>1.52</td>\n",
       "      <td>86.264578</td>\n",
       "    </tr>\n",
       "    <tr>\n",
       "      <th>3</th>\n",
       "      <td>8.25</td>\n",
       "      <td>390.0</td>\n",
       "      <td>191</td>\n",
       "      <td>150</td>\n",
       "      <td>145</td>\n",
       "      <td>34</td>\n",
       "      <td>16</td>\n",
       "      <td>16</td>\n",
       "      <td>5.7</td>\n",
       "      <td>177</td>\n",
       "      <td>30</td>\n",
       "      <td>3</td>\n",
       "      <td>0.31</td>\n",
       "      <td>31.931635</td>\n",
       "    </tr>\n",
       "    <tr>\n",
       "      <th>4</th>\n",
       "      <td>7.64</td>\n",
       "      <td>460.0</td>\n",
       "      <td>234</td>\n",
       "      <td>165</td>\n",
       "      <td>125</td>\n",
       "      <td>42</td>\n",
       "      <td>15</td>\n",
       "      <td>26</td>\n",
       "      <td>5.0</td>\n",
       "      <td>153</td>\n",
       "      <td>71</td>\n",
       "      <td>0</td>\n",
       "      <td>0.15</td>\n",
       "      <td>18.932642</td>\n",
       "    </tr>\n",
       "    <tr>\n",
       "      <th>...</th>\n",
       "      <td>...</td>\n",
       "      <td>...</td>\n",
       "      <td>...</td>\n",
       "      <td>...</td>\n",
       "      <td>...</td>\n",
       "      <td>...</td>\n",
       "      <td>...</td>\n",
       "      <td>...</td>\n",
       "      <td>...</td>\n",
       "      <td>...</td>\n",
       "      <td>...</td>\n",
       "      <td>...</td>\n",
       "      <td>...</td>\n",
       "      <td>...</td>\n",
       "    </tr>\n",
       "    <tr>\n",
       "      <th>1236</th>\n",
       "      <td>8.22</td>\n",
       "      <td>340.0</td>\n",
       "      <td>176</td>\n",
       "      <td>93</td>\n",
       "      <td>82</td>\n",
       "      <td>31</td>\n",
       "      <td>4</td>\n",
       "      <td>31</td>\n",
       "      <td>4.4</td>\n",
       "      <td>100</td>\n",
       "      <td>34</td>\n",
       "      <td>23</td>\n",
       "      <td>0.14</td>\n",
       "      <td>21.589240</td>\n",
       "    </tr>\n",
       "    <tr>\n",
       "      <th>1237</th>\n",
       "      <td>7.90</td>\n",
       "      <td>240.0</td>\n",
       "      <td>118</td>\n",
       "      <td>93</td>\n",
       "      <td>49</td>\n",
       "      <td>18</td>\n",
       "      <td>12</td>\n",
       "      <td>8</td>\n",
       "      <td>4.5</td>\n",
       "      <td>60</td>\n",
       "      <td>41</td>\n",
       "      <td>5</td>\n",
       "      <td>0.14</td>\n",
       "      <td>19.066396</td>\n",
       "    </tr>\n",
       "    <tr>\n",
       "      <th>1238</th>\n",
       "      <td>8.27</td>\n",
       "      <td>340.0</td>\n",
       "      <td>156</td>\n",
       "      <td>147</td>\n",
       "      <td>131</td>\n",
       "      <td>29</td>\n",
       "      <td>18</td>\n",
       "      <td>9</td>\n",
       "      <td>2.2</td>\n",
       "      <td>160</td>\n",
       "      <td>14</td>\n",
       "      <td>5</td>\n",
       "      <td>0.26</td>\n",
       "      <td>27.092631</td>\n",
       "    </tr>\n",
       "    <tr>\n",
       "      <th>1239</th>\n",
       "      <td>8.26</td>\n",
       "      <td>740.0</td>\n",
       "      <td>378</td>\n",
       "      <td>270</td>\n",
       "      <td>126</td>\n",
       "      <td>77</td>\n",
       "      <td>19</td>\n",
       "      <td>44</td>\n",
       "      <td>1.5</td>\n",
       "      <td>154</td>\n",
       "      <td>156</td>\n",
       "      <td>5</td>\n",
       "      <td>0.21</td>\n",
       "      <td>25.709087</td>\n",
       "    </tr>\n",
       "    <tr>\n",
       "      <th>1240</th>\n",
       "      <td>8.24</td>\n",
       "      <td>340.0</td>\n",
       "      <td>173</td>\n",
       "      <td>152</td>\n",
       "      <td>77</td>\n",
       "      <td>51</td>\n",
       "      <td>6</td>\n",
       "      <td>6</td>\n",
       "      <td>2.4</td>\n",
       "      <td>94</td>\n",
       "      <td>53</td>\n",
       "      <td>9</td>\n",
       "      <td>0.23</td>\n",
       "      <td>25.023410</td>\n",
       "    </tr>\n",
       "  </tbody>\n",
       "</table>\n",
       "<p>1241 rows × 14 columns</p>\n",
       "</div>\n",
       "      <button class=\"colab-df-convert\" onclick=\"convertToInteractive('df-c549e3da-e7ec-40aa-ac7f-4365c9f22b69')\"\n",
       "              title=\"Convert this dataframe to an interactive table.\"\n",
       "              style=\"display:none;\">\n",
       "        \n",
       "  <svg xmlns=\"http://www.w3.org/2000/svg\" height=\"24px\"viewBox=\"0 0 24 24\"\n",
       "       width=\"24px\">\n",
       "    <path d=\"M0 0h24v24H0V0z\" fill=\"none\"/>\n",
       "    <path d=\"M18.56 5.44l.94 2.06.94-2.06 2.06-.94-2.06-.94-.94-2.06-.94 2.06-2.06.94zm-11 1L8.5 8.5l.94-2.06 2.06-.94-2.06-.94L8.5 2.5l-.94 2.06-2.06.94zm10 10l.94 2.06.94-2.06 2.06-.94-2.06-.94-.94-2.06-.94 2.06-2.06.94z\"/><path d=\"M17.41 7.96l-1.37-1.37c-.4-.4-.92-.59-1.43-.59-.52 0-1.04.2-1.43.59L10.3 9.45l-7.72 7.72c-.78.78-.78 2.05 0 2.83L4 21.41c.39.39.9.59 1.41.59.51 0 1.02-.2 1.41-.59l7.78-7.78 2.81-2.81c.8-.78.8-2.07 0-2.86zM5.41 20L4 18.59l7.72-7.72 1.47 1.35L5.41 20z\"/>\n",
       "  </svg>\n",
       "      </button>\n",
       "      \n",
       "  <style>\n",
       "    .colab-df-container {\n",
       "      display:flex;\n",
       "      flex-wrap:wrap;\n",
       "      gap: 12px;\n",
       "    }\n",
       "\n",
       "    .colab-df-convert {\n",
       "      background-color: #E8F0FE;\n",
       "      border: none;\n",
       "      border-radius: 50%;\n",
       "      cursor: pointer;\n",
       "      display: none;\n",
       "      fill: #1967D2;\n",
       "      height: 32px;\n",
       "      padding: 0 0 0 0;\n",
       "      width: 32px;\n",
       "    }\n",
       "\n",
       "    .colab-df-convert:hover {\n",
       "      background-color: #E2EBFA;\n",
       "      box-shadow: 0px 1px 2px rgba(60, 64, 67, 0.3), 0px 1px 3px 1px rgba(60, 64, 67, 0.15);\n",
       "      fill: #174EA6;\n",
       "    }\n",
       "\n",
       "    [theme=dark] .colab-df-convert {\n",
       "      background-color: #3B4455;\n",
       "      fill: #D2E3FC;\n",
       "    }\n",
       "\n",
       "    [theme=dark] .colab-df-convert:hover {\n",
       "      background-color: #434B5C;\n",
       "      box-shadow: 0px 1px 3px 1px rgba(0, 0, 0, 0.15);\n",
       "      filter: drop-shadow(0px 1px 2px rgba(0, 0, 0, 0.3));\n",
       "      fill: #FFFFFF;\n",
       "    }\n",
       "  </style>\n",
       "\n",
       "      <script>\n",
       "        const buttonEl =\n",
       "          document.querySelector('#df-c549e3da-e7ec-40aa-ac7f-4365c9f22b69 button.colab-df-convert');\n",
       "        buttonEl.style.display =\n",
       "          google.colab.kernel.accessAllowed ? 'block' : 'none';\n",
       "\n",
       "        async function convertToInteractive(key) {\n",
       "          const element = document.querySelector('#df-c549e3da-e7ec-40aa-ac7f-4365c9f22b69');\n",
       "          const dataTable =\n",
       "            await google.colab.kernel.invokeFunction('convertToInteractive',\n",
       "                                                     [key], {});\n",
       "          if (!dataTable) return;\n",
       "\n",
       "          const docLinkHtml = 'Like what you see? Visit the ' +\n",
       "            '<a target=\"_blank\" href=https://colab.research.google.com/notebooks/data_table.ipynb>data table notebook</a>'\n",
       "            + ' to learn more about interactive tables.';\n",
       "          element.innerHTML = '';\n",
       "          dataTable['output_type'] = 'display_data';\n",
       "          await google.colab.output.renderOutput(dataTable, element);\n",
       "          const docLink = document.createElement('div');\n",
       "          docLink.innerHTML = docLinkHtml;\n",
       "          element.appendChild(docLink);\n",
       "        }\n",
       "      </script>\n",
       "    </div>\n",
       "  </div>\n",
       "  "
      ],
      "text/plain": [
       "        pH     EC  TDS   TH  Alkalinity  Calcium  Magnesium  Sodium  \\\n",
       "0     7.22  210.0  105   85          60       22          7       5   \n",
       "1     7.54  310.0  157  100          85       20         12      21   \n",
       "2     8.08  580.0  282  125         200       20         18      72   \n",
       "3     8.25  390.0  191  150         145       34         16      16   \n",
       "4     7.64  460.0  234  165         125       42         15      26   \n",
       "...    ...    ...  ...  ...         ...      ...        ...     ...   \n",
       "1236  8.22  340.0  176   93          82       31          4      31   \n",
       "1237  7.90  240.0  118   93          49       18         12       8   \n",
       "1238  8.27  340.0  156  147         131       29         18       9   \n",
       "1239  8.26  740.0  378  270         126       77         19      44   \n",
       "1240  8.24  340.0  173  152          77       51          6       6   \n",
       "\n",
       "      Potassium  Bicarbonate  Chloride  Sulphate  Fluoride        WQI  \n",
       "0           4.2           73        21        10      0.27  19.032351  \n",
       "1           4.8          104        43         5      0.12  15.589984  \n",
       "2           3.5          244        21        28      1.52  86.264578  \n",
       "3           5.7          177        30         3      0.31  31.931635  \n",
       "4           5.0          153        71         0      0.15  18.932642  \n",
       "...         ...          ...       ...       ...       ...        ...  \n",
       "1236        4.4          100        34        23      0.14  21.589240  \n",
       "1237        4.5           60        41         5      0.14  19.066396  \n",
       "1238        2.2          160        14         5      0.26  27.092631  \n",
       "1239        1.5          154       156         5      0.21  25.709087  \n",
       "1240        2.4           94        53         9      0.23  25.023410  \n",
       "\n",
       "[1241 rows x 14 columns]"
      ]
     },
     "execution_count": 73,
     "metadata": {},
     "output_type": "execute_result"
    }
   ],
   "source": [
    "df3"
   ]
  },
  {
   "cell_type": "code",
   "execution_count": 73,
   "metadata": {
    "id": "xNJg0bH2mrBy"
   },
   "outputs": [],
   "source": []
  },
  {
   "cell_type": "markdown",
   "metadata": {
    "id": "O_pwiIAUmrBy"
   },
   "source": [
    "# EDA part  ..... (To be shifted to top before model implementation)......"
   ]
  },
  {
   "cell_type": "markdown",
   "metadata": {
    "id": "LfZU8FBPmrBy"
   },
   "source": [
    "## Outlier Detection"
   ]
  },
  {
   "cell_type": "code",
   "execution_count": 74,
   "metadata": {
    "colab": {
     "base_uri": "https://localhost:8080/"
    },
    "id": "jzT1O04MmrBy",
    "outputId": "9e3fb67b-1536-41cb-a8ec-1e575e3ad10d"
   },
   "outputs": [
    {
     "name": "stdout",
     "output_type": "stream",
     "text": [
      "/bin/bash: conda: command not found\n"
     ]
    }
   ],
   "source": [
    "#!conda install seaborn"
   ]
  },
  {
   "cell_type": "code",
   "execution_count": 75,
   "metadata": {
    "colab": {
     "base_uri": "https://localhost:8080/"
    },
    "id": "_HGyU_8umrBz",
    "outputId": "9fc81e9b-2a3b-4c63-9831-912ccdbfd979"
   },
   "outputs": [
    {
     "data": {
      "text/plain": [
       "<function matplotlib.pyplot.boxplot(x, notch=None, sym=None, vert=None, whis=None, positions=None, widths=None, patch_artist=None, bootstrap=None, usermedians=None, conf_intervals=None, meanline=None, showmeans=None, showcaps=None, showbox=None, showfliers=None, boxprops=None, labels=None, flierprops=None, medianprops=None, meanprops=None, capprops=None, whiskerprops=None, manage_ticks=True, autorange=False, zorder=None, *, data=None)>"
      ]
     },
     "execution_count": 75,
     "metadata": {},
     "output_type": "execute_result"
    }
   ],
   "source": [
    "plt.boxplot"
   ]
  },
  {
   "cell_type": "code",
   "execution_count": 76,
   "metadata": {
    "colab": {
     "base_uri": "https://localhost:8080/",
     "height": 279
    },
    "id": "RKGaTAI1mrBz",
    "outputId": "9d465f60-d9b1-4824-bd96-bb66b01e29fd"
   },
   "outputs": [
    {
     "data": {
      "image/png": "[encoded data removed]",
      "text/plain": [
       "<Figure size 432x288 with 1 Axes>"
      ]
     },
     "metadata": {
      "needs_background": "light"
     },
     "output_type": "display_data"
    }
   ],
   "source": [
    "import seaborn as sns\n",
    "sns.boxplot(x='WQC',y='pH', data=df)\n",
    "plt.show()"
   ]
  },
  {
   "cell_type": "code",
   "execution_count": 77,
   "metadata": {
    "colab": {
     "base_uri": "https://localhost:8080/",
     "height": 281
    },
    "id": "G3hUxrwkmrBz",
    "outputId": "82d905fd-831f-4ee0-bd8b-d0c31fa7e582"
   },
   "outputs": [
    {
     "data": {
      "image/png": "[encoded data removed]",
      "text/plain": [
       "<Figure size 432x288 with 1 Axes>"
      ]
     },
     "metadata": {
      "needs_background": "light"
     },
     "output_type": "display_data"
    }
   ],
   "source": [
    "import seaborn as sns\n",
    "sns.boxplot(x='WQC',y='EC', data=df)\n",
    "plt.show()"
   ]
  },
  {
   "cell_type": "code",
   "execution_count": 78,
   "metadata": {
    "colab": {
     "base_uri": "https://localhost:8080/",
     "height": 279
    },
    "id": "CKzIbBmCmrBz",
    "outputId": "367e9946-fc5f-4075-c043-3e7424867118"
   },
   "outputs": [
    {
     "data": {
      "image/png": "[encoded data removed]",
      "text/plain": [
       "<Figure size 432x288 with 1 Axes>"
      ]
     },
     "metadata": {
      "needs_background": "light"
     },
     "output_type": "display_data"
    }
   ],
   "source": [
    "import seaborn as sns\n",
    "sns.boxplot(x='WQC',y='TDS', data=df)\n",
    "plt.show()"
   ]
  },
  {
   "cell_type": "code",
   "execution_count": 79,
   "metadata": {
    "colab": {
     "base_uri": "https://localhost:8080/",
     "height": 279
    },
    "id": "TEvMp4zqmrB0",
    "outputId": "769781b9-0737-4799-9533-2383dc27fa5e"
   },
   "outputs": [
    {
     "data": {
      "image/png": "[encoded data removed]",
      "text/plain": [
       "<Figure size 432x288 with 1 Axes>"
      ]
     },
     "metadata": {
      "needs_background": "light"
     },
     "output_type": "display_data"
    }
   ],
   "source": [
    "import seaborn as sns\n",
    "sns.boxplot(x='WQC',y='Fluoride', data=df)\n",
    "plt.show()"
   ]
  },
  {
   "cell_type": "code",
   "execution_count": 80,
   "metadata": {
    "colab": {
     "base_uri": "https://localhost:8080/",
     "height": 584
    },
    "id": "ymmQ4Wq4mrB0",
    "outputId": "a2790986-31a6-4dfd-8ff4-44f30b27ca03"
   },
   "outputs": [
    {
     "data": {
      "text/html": [
       "\n",
       "  <div id=\"df-c3a60ade-66fd-4060-a83a-5e6f1f0efea3\">\n",
       "    <div class=\"colab-df-container\">\n",
       "      <div>\n",
       "<style scoped>\n",
       "    .dataframe tbody tr th:only-of-type {\n",
       "        vertical-align: middle;\n",
       "    }\n",
       "\n",
       "    .dataframe tbody tr th {\n",
       "        vertical-align: top;\n",
       "    }\n",
       "\n",
       "    .dataframe thead th {\n",
       "        text-align: right;\n",
       "    }\n",
       "</style>\n",
       "<table border=\"1\" class=\"dataframe\">\n",
       "  <thead>\n",
       "    <tr style=\"text-align: right;\">\n",
       "      <th></th>\n",
       "      <th>pH</th>\n",
       "      <th>EC</th>\n",
       "      <th>TDS</th>\n",
       "      <th>TH</th>\n",
       "      <th>Alkalinity</th>\n",
       "      <th>Calcium</th>\n",
       "      <th>Magnesium</th>\n",
       "      <th>Sodium</th>\n",
       "      <th>Potassium</th>\n",
       "      <th>Bicarbonate</th>\n",
       "      <th>Chloride</th>\n",
       "      <th>Sulphate</th>\n",
       "      <th>Fluoride</th>\n",
       "      <th>is_drinkable</th>\n",
       "      <th>WQI</th>\n",
       "    </tr>\n",
       "  </thead>\n",
       "  <tbody>\n",
       "    <tr>\n",
       "      <th>pH</th>\n",
       "      <td>1.000000</td>\n",
       "      <td>0.151216</td>\n",
       "      <td>0.161410</td>\n",
       "      <td>0.107877</td>\n",
       "      <td>0.298009</td>\n",
       "      <td>0.049762</td>\n",
       "      <td>0.123624</td>\n",
       "      <td>0.137161</td>\n",
       "      <td>0.150997</td>\n",
       "      <td>0.273391</td>\n",
       "      <td>0.039890</td>\n",
       "      <td>0.136458</td>\n",
       "      <td>0.265736</td>\n",
       "      <td>-0.177312</td>\n",
       "      <td>0.400070</td>\n",
       "    </tr>\n",
       "    <tr>\n",
       "      <th>EC</th>\n",
       "      <td>0.151216</td>\n",
       "      <td>1.000000</td>\n",
       "      <td>0.985947</td>\n",
       "      <td>0.852030</td>\n",
       "      <td>0.676578</td>\n",
       "      <td>0.650262</td>\n",
       "      <td>0.789482</td>\n",
       "      <td>0.807153</td>\n",
       "      <td>0.405042</td>\n",
       "      <td>0.678108</td>\n",
       "      <td>0.890348</td>\n",
       "      <td>0.659697</td>\n",
       "      <td>0.291466</td>\n",
       "      <td>-0.618706</td>\n",
       "      <td>0.580675</td>\n",
       "    </tr>\n",
       "    <tr>\n",
       "      <th>TDS</th>\n",
       "      <td>0.161410</td>\n",
       "      <td>0.985947</td>\n",
       "      <td>1.000000</td>\n",
       "      <td>0.826257</td>\n",
       "      <td>0.676252</td>\n",
       "      <td>0.641328</td>\n",
       "      <td>0.757618</td>\n",
       "      <td>0.833648</td>\n",
       "      <td>0.443433</td>\n",
       "      <td>0.677087</td>\n",
       "      <td>0.901407</td>\n",
       "      <td>0.679796</td>\n",
       "      <td>0.281660</td>\n",
       "      <td>-0.610951</td>\n",
       "      <td>0.600764</td>\n",
       "    </tr>\n",
       "    <tr>\n",
       "      <th>TH</th>\n",
       "      <td>0.107877</td>\n",
       "      <td>0.852030</td>\n",
       "      <td>0.826257</td>\n",
       "      <td>1.000000</td>\n",
       "      <td>0.512589</td>\n",
       "      <td>0.796832</td>\n",
       "      <td>0.901382</td>\n",
       "      <td>0.438834</td>\n",
       "      <td>0.184382</td>\n",
       "      <td>0.516758</td>\n",
       "      <td>0.816914</td>\n",
       "      <td>0.535142</td>\n",
       "      <td>0.219161</td>\n",
       "      <td>-0.538213</td>\n",
       "      <td>0.377814</td>\n",
       "    </tr>\n",
       "    <tr>\n",
       "      <th>Alkalinity</th>\n",
       "      <td>0.298009</td>\n",
       "      <td>0.676578</td>\n",
       "      <td>0.676252</td>\n",
       "      <td>0.512589</td>\n",
       "      <td>1.000000</td>\n",
       "      <td>0.335106</td>\n",
       "      <td>0.515389</td>\n",
       "      <td>0.607893</td>\n",
       "      <td>0.406312</td>\n",
       "      <td>0.996108</td>\n",
       "      <td>0.331832</td>\n",
       "      <td>0.425314</td>\n",
       "      <td>0.402246</td>\n",
       "      <td>-0.655714</td>\n",
       "      <td>0.640992</td>\n",
       "    </tr>\n",
       "    <tr>\n",
       "      <th>Calcium</th>\n",
       "      <td>0.049762</td>\n",
       "      <td>0.650262</td>\n",
       "      <td>0.641328</td>\n",
       "      <td>0.796832</td>\n",
       "      <td>0.335106</td>\n",
       "      <td>1.000000</td>\n",
       "      <td>0.456872</td>\n",
       "      <td>0.274097</td>\n",
       "      <td>0.177394</td>\n",
       "      <td>0.337272</td>\n",
       "      <td>0.649724</td>\n",
       "      <td>0.403362</td>\n",
       "      <td>0.065860</td>\n",
       "      <td>-0.416380</td>\n",
       "      <td>0.238792</td>\n",
       "    </tr>\n",
       "    <tr>\n",
       "      <th>Magnesium</th>\n",
       "      <td>0.123624</td>\n",
       "      <td>0.789482</td>\n",
       "      <td>0.757618</td>\n",
       "      <td>0.901382</td>\n",
       "      <td>0.515389</td>\n",
       "      <td>0.456872</td>\n",
       "      <td>1.000000</td>\n",
       "      <td>0.450607</td>\n",
       "      <td>0.144815</td>\n",
       "      <td>0.519994</td>\n",
       "      <td>0.737350</td>\n",
       "      <td>0.499691</td>\n",
       "      <td>0.276124</td>\n",
       "      <td>-0.495182</td>\n",
       "      <td>0.385981</td>\n",
       "    </tr>\n",
       "    <tr>\n",
       "      <th>Sodium</th>\n",
       "      <td>0.137161</td>\n",
       "      <td>0.807153</td>\n",
       "      <td>0.833648</td>\n",
       "      <td>0.438834</td>\n",
       "      <td>0.607893</td>\n",
       "      <td>0.274097</td>\n",
       "      <td>0.450607</td>\n",
       "      <td>1.000000</td>\n",
       "      <td>0.283461</td>\n",
       "      <td>0.607977</td>\n",
       "      <td>0.697448</td>\n",
       "      <td>0.594887</td>\n",
       "      <td>0.348391</td>\n",
       "      <td>-0.475173</td>\n",
       "      <td>0.497639</td>\n",
       "    </tr>\n",
       "    <tr>\n",
       "      <th>Potassium</th>\n",
       "      <td>0.150997</td>\n",
       "      <td>0.405042</td>\n",
       "      <td>0.443433</td>\n",
       "      <td>0.184382</td>\n",
       "      <td>0.406312</td>\n",
       "      <td>0.177394</td>\n",
       "      <td>0.144815</td>\n",
       "      <td>0.283461</td>\n",
       "      <td>1.000000</td>\n",
       "      <td>0.398840</td>\n",
       "      <td>0.276782</td>\n",
       "      <td>0.315489</td>\n",
       "      <td>-0.077269</td>\n",
       "      <td>-0.345361</td>\n",
       "      <td>0.699994</td>\n",
       "    </tr>\n",
       "    <tr>\n",
       "      <th>Bicarbonate</th>\n",
       "      <td>0.273391</td>\n",
       "      <td>0.678108</td>\n",
       "      <td>0.677087</td>\n",
       "      <td>0.516758</td>\n",
       "      <td>0.996108</td>\n",
       "      <td>0.337272</td>\n",
       "      <td>0.519994</td>\n",
       "      <td>0.607977</td>\n",
       "      <td>0.398840</td>\n",
       "      <td>1.000000</td>\n",
       "      <td>0.335917</td>\n",
       "      <td>0.422975</td>\n",
       "      <td>0.395374</td>\n",
       "      <td>-0.652450</td>\n",
       "      <td>0.628981</td>\n",
       "    </tr>\n",
       "    <tr>\n",
       "      <th>Chloride</th>\n",
       "      <td>0.039890</td>\n",
       "      <td>0.890348</td>\n",
       "      <td>0.901407</td>\n",
       "      <td>0.816914</td>\n",
       "      <td>0.331832</td>\n",
       "      <td>0.649724</td>\n",
       "      <td>0.737350</td>\n",
       "      <td>0.697448</td>\n",
       "      <td>0.276782</td>\n",
       "      <td>0.335917</td>\n",
       "      <td>1.000000</td>\n",
       "      <td>0.511848</td>\n",
       "      <td>0.140171</td>\n",
       "      <td>-0.418337</td>\n",
       "      <td>0.372371</td>\n",
       "    </tr>\n",
       "    <tr>\n",
       "      <th>Sulphate</th>\n",
       "      <td>0.136458</td>\n",
       "      <td>0.659697</td>\n",
       "      <td>0.679796</td>\n",
       "      <td>0.535142</td>\n",
       "      <td>0.425314</td>\n",
       "      <td>0.403362</td>\n",
       "      <td>0.499691</td>\n",
       "      <td>0.594887</td>\n",
       "      <td>0.315489</td>\n",
       "      <td>0.422975</td>\n",
       "      <td>0.511848</td>\n",
       "      <td>1.000000</td>\n",
       "      <td>0.242005</td>\n",
       "      <td>-0.444064</td>\n",
       "      <td>0.452372</td>\n",
       "    </tr>\n",
       "    <tr>\n",
       "      <th>Fluoride</th>\n",
       "      <td>0.265736</td>\n",
       "      <td>0.291466</td>\n",
       "      <td>0.281660</td>\n",
       "      <td>0.219161</td>\n",
       "      <td>0.402246</td>\n",
       "      <td>0.065860</td>\n",
       "      <td>0.276124</td>\n",
       "      <td>0.348391</td>\n",
       "      <td>-0.077269</td>\n",
       "      <td>0.395374</td>\n",
       "      <td>0.140171</td>\n",
       "      <td>0.242005</td>\n",
       "      <td>1.000000</td>\n",
       "      <td>-0.300280</td>\n",
       "      <td>0.644513</td>\n",
       "    </tr>\n",
       "    <tr>\n",
       "      <th>is_drinkable</th>\n",
       "      <td>-0.177312</td>\n",
       "      <td>-0.618706</td>\n",
       "      <td>-0.610951</td>\n",
       "      <td>-0.538213</td>\n",
       "      <td>-0.655714</td>\n",
       "      <td>-0.416380</td>\n",
       "      <td>-0.495182</td>\n",
       "      <td>-0.475173</td>\n",
       "      <td>-0.345361</td>\n",
       "      <td>-0.652450</td>\n",
       "      <td>-0.418337</td>\n",
       "      <td>-0.444064</td>\n",
       "      <td>-0.300280</td>\n",
       "      <td>1.000000</td>\n",
       "      <td>-0.515129</td>\n",
       "    </tr>\n",
       "    <tr>\n",
       "      <th>WQI</th>\n",
       "      <td>0.400070</td>\n",
       "      <td>0.580675</td>\n",
       "      <td>0.600764</td>\n",
       "      <td>0.377814</td>\n",
       "      <td>0.640992</td>\n",
       "      <td>0.238792</td>\n",
       "      <td>0.385981</td>\n",
       "      <td>0.497639</td>\n",
       "      <td>0.699994</td>\n",
       "      <td>0.628981</td>\n",
       "      <td>0.372371</td>\n",
       "      <td>0.452372</td>\n",
       "      <td>0.644513</td>\n",
       "      <td>-0.515129</td>\n",
       "      <td>1.000000</td>\n",
       "    </tr>\n",
       "  </tbody>\n",
       "</table>\n",
       "</div>\n",
       "      <button class=\"colab-df-convert\" onclick=\"convertToInteractive('df-c3a60ade-66fd-4060-a83a-5e6f1f0efea3')\"\n",
       "              title=\"Convert this dataframe to an interactive table.\"\n",
       "              style=\"display:none;\">\n",
       "        \n",
       "  <svg xmlns=\"http://www.w3.org/2000/svg\" height=\"24px\"viewBox=\"0 0 24 24\"\n",
       "       width=\"24px\">\n",
       "    <path d=\"M0 0h24v24H0V0z\" fill=\"none\"/>\n",
       "    <path d=\"M18.56 5.44l.94 2.06.94-2.06 2.06-.94-2.06-.94-.94-2.06-.94 2.06-2.06.94zm-11 1L8.5 8.5l.94-2.06 2.06-.94-2.06-.94L8.5 2.5l-.94 2.06-2.06.94zm10 10l.94 2.06.94-2.06 2.06-.94-2.06-.94-.94-2.06-.94 2.06-2.06.94z\"/><path d=\"M17.41 7.96l-1.37-1.37c-.4-.4-.92-.59-1.43-.59-.52 0-1.04.2-1.43.59L10.3 9.45l-7.72 7.72c-.78.78-.78 2.05 0 2.83L4 21.41c.39.39.9.59 1.41.59.51 0 1.02-.2 1.41-.59l7.78-7.78 2.81-2.81c.8-.78.8-2.07 0-2.86zM5.41 20L4 18.59l7.72-7.72 1.47 1.35L5.41 20z\"/>\n",
       "  </svg>\n",
       "      </button>\n",
       "      \n",
       "  <style>\n",
       "    .colab-df-container {\n",
       "      display:flex;\n",
       "      flex-wrap:wrap;\n",
       "      gap: 12px;\n",
       "    }\n",
       "\n",
       "    .colab-df-convert {\n",
       "      background-color: #E8F0FE;\n",
       "      border: none;\n",
       "      border-radius: 50%;\n",
       "      cursor: pointer;\n",
       "      display: none;\n",
       "      fill: #1967D2;\n",
       "      height: 32px;\n",
       "      padding: 0 0 0 0;\n",
       "      width: 32px;\n",
       "    }\n",
       "\n",
       "    .colab-df-convert:hover {\n",
       "      background-color: #E2EBFA;\n",
       "      box-shadow: 0px 1px 2px rgba(60, 64, 67, 0.3), 0px 1px 3px 1px rgba(60, 64, 67, 0.15);\n",
       "      fill: #174EA6;\n",
       "    }\n",
       "\n",
       "    [theme=dark] .colab-df-convert {\n",
       "      background-color: #3B4455;\n",
       "      fill: #D2E3FC;\n",
       "    }\n",
       "\n",
       "    [theme=dark] .colab-df-convert:hover {\n",
       "      background-color: #434B5C;\n",
       "      box-shadow: 0px 1px 3px 1px rgba(0, 0, 0, 0.15);\n",
       "      filter: drop-shadow(0px 1px 2px rgba(0, 0, 0, 0.3));\n",
       "      fill: #FFFFFF;\n",
       "    }\n",
       "  </style>\n",
       "\n",
       "      <script>\n",
       "        const buttonEl =\n",
       "          document.querySelector('#df-c3a60ade-66fd-4060-a83a-5e6f1f0efea3 button.colab-df-convert');\n",
       "        buttonEl.style.display =\n",
       "          google.colab.kernel.accessAllowed ? 'block' : 'none';\n",
       "\n",
       "        async function convertToInteractive(key) {\n",
       "          const element = document.querySelector('#df-c3a60ade-66fd-4060-a83a-5e6f1f0efea3');\n",
       "          const dataTable =\n",
       "            await google.colab.kernel.invokeFunction('convertToInteractive',\n",
       "                                                     [key], {});\n",
       "          if (!dataTable) return;\n",
       "\n",
       "          const docLinkHtml = 'Like what you see? Visit the ' +\n",
       "            '<a target=\"_blank\" href=https://colab.research.google.com/notebooks/data_table.ipynb>data table notebook</a>'\n",
       "            + ' to learn more about interactive tables.';\n",
       "          element.innerHTML = '';\n",
       "          dataTable['output_type'] = 'display_data';\n",
       "          await google.colab.output.renderOutput(dataTable, element);\n",
       "          const docLink = document.createElement('div');\n",
       "          docLink.innerHTML = docLinkHtml;\n",
       "          element.appendChild(docLink);\n",
       "        }\n",
       "      </script>\n",
       "    </div>\n",
       "  </div>\n",
       "  "
      ],
      "text/plain": [
       "                    pH        EC       TDS        TH  Alkalinity   Calcium  \\\n",
       "pH            1.000000  0.151216  0.161410  0.107877    0.298009  0.049762   \n",
       "EC            0.151216  1.000000  0.985947  0.852030    0.676578  0.650262   \n",
       "TDS           0.161410  0.985947  1.000000  0.826257    0.676252  0.641328   \n",
       "TH            0.107877  0.852030  0.826257  1.000000    0.512589  0.796832   \n",
       "Alkalinity    0.298009  0.676578  0.676252  0.512589    1.000000  0.335106   \n",
       "Calcium       0.049762  0.650262  0.641328  0.796832    0.335106  1.000000   \n",
       "Magnesium     0.123624  0.789482  0.757618  0.901382    0.515389  0.456872   \n",
       "Sodium        0.137161  0.807153  0.833648  0.438834    0.607893  0.274097   \n",
       "Potassium     0.150997  0.405042  0.443433  0.184382    0.406312  0.177394   \n",
       "Bicarbonate   0.273391  0.678108  0.677087  0.516758    0.996108  0.337272   \n",
       "Chloride      0.039890  0.890348  0.901407  0.816914    0.331832  0.649724   \n",
       "Sulphate      0.136458  0.659697  0.679796  0.535142    0.425314  0.403362   \n",
       "Fluoride      0.265736  0.291466  0.281660  0.219161    0.402246  0.065860   \n",
       "is_drinkable -0.177312 -0.618706 -0.610951 -0.538213   -0.655714 -0.416380   \n",
       "WQI           0.400070  0.580675  0.600764  0.377814    0.640992  0.238792   \n",
       "\n",
       "              Magnesium    Sodium  Potassium  Bicarbonate  Chloride  Sulphate  \\\n",
       "pH             0.123624  0.137161   0.150997     0.273391  0.039890  0.136458   \n",
       "EC             0.789482  0.807153   0.405042     0.678108  0.890348  0.659697   \n",
       "TDS            0.757618  0.833648   0.443433     0.677087  0.901407  0.679796   \n",
       "TH             0.901382  0.438834   0.184382     0.516758  0.816914  0.535142   \n",
       "Alkalinity     0.515389  0.607893   0.406312     0.996108  0.331832  0.425314   \n",
       "Calcium        0.456872  0.274097   0.177394     0.337272  0.649724  0.403362   \n",
       "Magnesium      1.000000  0.450607   0.144815     0.519994  0.737350  0.499691   \n",
       "Sodium         0.450607  1.000000   0.283461     0.607977  0.697448  0.594887   \n",
       "Potassium      0.144815  0.283461   1.000000     0.398840  0.276782  0.315489   \n",
       "Bicarbonate    0.519994  0.607977   0.398840     1.000000  0.335917  0.422975   \n",
       "Chloride       0.737350  0.697448   0.276782     0.335917  1.000000  0.511848   \n",
       "Sulphate       0.499691  0.594887   0.315489     0.422975  0.511848  1.000000   \n",
       "Fluoride       0.276124  0.348391  -0.077269     0.395374  0.140171  0.242005   \n",
       "is_drinkable  -0.495182 -0.475173  -0.345361    -0.652450 -0.418337 -0.444064   \n",
       "WQI            0.385981  0.497639   0.699994     0.628981  0.372371  0.452372   \n",
       "\n",
       "              Fluoride  is_drinkable       WQI  \n",
       "pH            0.265736     -0.177312  0.400070  \n",
       "EC            0.291466     -0.618706  0.580675  \n",
       "TDS           0.281660     -0.610951  0.600764  \n",
       "TH            0.219161     -0.538213  0.377814  \n",
       "Alkalinity    0.402246     -0.655714  0.640992  \n",
       "Calcium       0.065860     -0.416380  0.238792  \n",
       "Magnesium     0.276124     -0.495182  0.385981  \n",
       "Sodium        0.348391     -0.475173  0.497639  \n",
       "Potassium    -0.077269     -0.345361  0.699994  \n",
       "Bicarbonate   0.395374     -0.652450  0.628981  \n",
       "Chloride      0.140171     -0.418337  0.372371  \n",
       "Sulphate      0.242005     -0.444064  0.452372  \n",
       "Fluoride      1.000000     -0.300280  0.644513  \n",
       "is_drinkable -0.300280      1.000000 -0.515129  \n",
       "WQI           0.644513     -0.515129  1.000000  "
      ]
     },
     "execution_count": 80,
     "metadata": {},
     "output_type": "execute_result"
    }
   ],
   "source": [
    "df.corr()"
   ]
  },
  {
   "cell_type": "raw",
   "metadata": {
    "id": "3jxwvW1imrB0"
   },
   "source": [
    "Observations noted from Correlation matrix\n",
    "\n",
    "1. Calcium and Magnesium are corelated to TH (Total Hardness) it is because TH is measurement of calcium, magnesium and   chloride, as hardness is caused due to  chlorides of magnesium and calcium; our body needs both Ca and Mg to remain healthy.\n",
    "\n",
    "2. Sodium and Magnesium are correlated to Chloride-\n",
    "   which means we can conclude that generally in water we have  Sodium and Magnesium as SodiumChloride and MagnesiumChloride      and both the salts are essential requirements fo our body.\n"
   ]
  },
  {
   "cell_type": "code",
   "execution_count": 80,
   "metadata": {
    "id": "LYdaIBPHmrB1"
   },
   "outputs": [],
   "source": []
  },
  {
   "cell_type": "markdown",
   "metadata": {
    "id": "t1IJMaYLmrB1"
   },
   "source": [
    "## UNivariate analysis (Scatter plot to visualize Outliers)"
   ]
  },
  {
   "cell_type": "code",
   "execution_count": 80,
   "metadata": {
    "id": "Ei3NzegMmrB1"
   },
   "outputs": [],
   "source": []
  },
  {
   "cell_type": "code",
   "execution_count": 81,
   "metadata": {
    "colab": {
     "base_uri": "https://localhost:8080/",
     "height": 282
    },
    "id": "AdjZRL-VmrB1",
    "outputId": "055f10b1-5131-48fa-ebd7-ce477905238b"
   },
   "outputs": [
    {
     "data": {
      "text/plain": [
       "<matplotlib.axes._subplots.AxesSubplot at 0x7ffbc61e4e50>"
      ]
     },
     "execution_count": 81,
     "metadata": {},
     "output_type": "execute_result"
    },
    {
     "data": {
      "image/png": "[encoded data removed]",
      "text/plain": [
       "<Figure size 432x288 with 1 Axes>"
      ]
     },
     "metadata": {
      "needs_background": "light"
     },
     "output_type": "display_data"
    }
   ],
   "source": [
    "import seaborn as sns\n",
    "sns.scatterplot(data=df, x=df.index, y= df[\"Fluoride\"])\n"
   ]
  },
  {
   "cell_type": "code",
   "execution_count": 82,
   "metadata": {
    "colab": {
     "base_uri": "https://localhost:8080/",
     "height": 282
    },
    "id": "5ZdrgdwQmrB2",
    "outputId": "00fe6d2b-c7dd-4a34-ee4d-6bb9114313e8"
   },
   "outputs": [
    {
     "data": {
      "text/plain": [
       "<matplotlib.axes._subplots.AxesSubplot at 0x7ffbc61e8850>"
      ]
     },
     "execution_count": 82,
     "metadata": {},
     "output_type": "execute_result"
    },
    {
     "data": {
      "image/png": "[encoded data removed]",
      "text/plain": [
       "<Figure size 432x288 with 1 Axes>"
      ]
     },
     "metadata": {
      "needs_background": "light"
     },
     "output_type": "display_data"
    }
   ],
   "source": [
    "sns.scatterplot(data=df, x=df.index, y= df[\"Sulphate\"])"
   ]
  },
  {
   "cell_type": "code",
   "execution_count": 83,
   "metadata": {
    "colab": {
     "base_uri": "https://localhost:8080/",
     "height": 282
    },
    "id": "6qJs8gZtmrB2",
    "outputId": "5814abec-8921-4f59-8323-09c81c8369b4"
   },
   "outputs": [
    {
     "data": {
      "text/plain": [
       "<matplotlib.axes._subplots.AxesSubplot at 0x7ffbc6290910>"
      ]
     },
     "execution_count": 83,
     "metadata": {},
     "output_type": "execute_result"
    },
    {
     "data": {
      "image/png": "[encoded data removed]",
      "text/plain": [
       "<Figure size 432x288 with 1 Axes>"
      ]
     },
     "metadata": {
      "needs_background": "light"
     },
     "output_type": "display_data"
    }
   ],
   "source": [
    "sns.scatterplot(data=df, x=df.index, y= df[\"Bicarbonate\"])"
   ]
  },
  {
   "cell_type": "code",
   "execution_count": 84,
   "metadata": {
    "colab": {
     "base_uri": "https://localhost:8080/",
     "height": 282
    },
    "id": "zkgnsz9VmrB2",
    "outputId": "ca86d056-6315-4c38-8725-da49c95f0117"
   },
   "outputs": [
    {
     "data": {
      "text/plain": [
       "<matplotlib.axes._subplots.AxesSubplot at 0x7ffbc63f1890>"
      ]
     },
     "execution_count": 84,
     "metadata": {},
     "output_type": "execute_result"
    },
    {
     "data": {
      "image/png": "[encoded data removed]",
      "text/plain": [
       "<Figure size 432x288 with 1 Axes>"
      ]
     },
     "metadata": {
      "needs_background": "light"
     },
     "output_type": "display_data"
    }
   ],
   "source": [
    "sns.scatterplot(data=df, x=df.index, y= df[\"pH\"])"
   ]
  },
  {
   "cell_type": "markdown",
   "metadata": {
    "id": "cltFEDoioJUV"
   },
   "source": [
    "ph > 8.5, ph< 6.5 are outliers"
   ]
  },
  {
   "cell_type": "code",
   "execution_count": 85,
   "metadata": {
    "colab": {
     "base_uri": "https://localhost:8080/",
     "height": 282
    },
    "id": "0Qf48aVsmrB2",
    "outputId": "bc89193f-037d-4d59-ce7e-aaa79f5c4b9a"
   },
   "outputs": [
    {
     "data": {
      "text/plain": [
       "<matplotlib.axes._subplots.AxesSubplot at 0x7ffbc6921890>"
      ]
     },
     "execution_count": 85,
     "metadata": {},
     "output_type": "execute_result"
    },
    {
     "data": {
      "image/png": "[encoded data removed]",
      "text/plain": [
       "<Figure size 432x288 with 1 Axes>"
      ]
     },
     "metadata": {
      "needs_background": "light"
     },
     "output_type": "display_data"
    }
   ],
   "source": [
    "sns.scatterplot(data=df, x=df.index, y= df[\"WQI\"])"
   ]
  },
  {
   "cell_type": "code",
   "execution_count": 85,
   "metadata": {
    "id": "duWviS-PmrB3"
   },
   "outputs": [],
   "source": []
  },
  {
   "cell_type": "code",
   "execution_count": 123,
   "metadata": {
    "colab": {
     "base_uri": "https://localhost:8080/",
     "height": 364
    },
    "id": "l7npT5ljmrB3",
    "outputId": "442578a5-00cd-4b04-8754-957b5a64b4ff"
   },
   "outputs": [
    {
     "data": {
      "text/html": [
       "\n",
       "  <div id=\"df-d74ab3e4-2267-4f1c-807b-dd8834fd143e\">\n",
       "    <div class=\"colab-df-container\">\n",
       "      <div>\n",
       "<style scoped>\n",
       "    .dataframe tbody tr th:only-of-type {\n",
       "        vertical-align: middle;\n",
       "    }\n",
       "\n",
       "    .dataframe tbody tr th {\n",
       "        vertical-align: top;\n",
       "    }\n",
       "\n",
       "    .dataframe thead th {\n",
       "        text-align: right;\n",
       "    }\n",
       "</style>\n",
       "<table border=\"1\" class=\"dataframe\">\n",
       "  <thead>\n",
       "    <tr style=\"text-align: right;\">\n",
       "      <th></th>\n",
       "      <th>pH</th>\n",
       "      <th>EC</th>\n",
       "      <th>TDS</th>\n",
       "      <th>TH</th>\n",
       "      <th>Alkalinity</th>\n",
       "      <th>Calcium</th>\n",
       "      <th>Magnesium</th>\n",
       "      <th>Sodium</th>\n",
       "      <th>Potassium</th>\n",
       "      <th>Bicarbonate</th>\n",
       "      <th>Chloride</th>\n",
       "      <th>Sulphate</th>\n",
       "      <th>Fluoride</th>\n",
       "      <th>is_drinkable</th>\n",
       "      <th>WQI</th>\n",
       "    </tr>\n",
       "  </thead>\n",
       "  <tbody>\n",
       "    <tr>\n",
       "      <th>count</th>\n",
       "      <td>1241.000000</td>\n",
       "      <td>1241.000000</td>\n",
       "      <td>1241.000000</td>\n",
       "      <td>1241.000000</td>\n",
       "      <td>1241.000000</td>\n",
       "      <td>1241.000000</td>\n",
       "      <td>1241.000000</td>\n",
       "      <td>1241.000000</td>\n",
       "      <td>1241.000000</td>\n",
       "      <td>1241.000000</td>\n",
       "      <td>1241.000000</td>\n",
       "      <td>1241.000000</td>\n",
       "      <td>1241.000000</td>\n",
       "      <td>1241.000000</td>\n",
       "      <td>1241.000000</td>\n",
       "    </tr>\n",
       "    <tr>\n",
       "      <th>mean</th>\n",
       "      <td>7.828622</td>\n",
       "      <td>695.439283</td>\n",
       "      <td>358.057212</td>\n",
       "      <td>215.015310</td>\n",
       "      <td>178.496374</td>\n",
       "      <td>43.941982</td>\n",
       "      <td>25.617244</td>\n",
       "      <td>49.991942</td>\n",
       "      <td>13.162530</td>\n",
       "      <td>215.799355</td>\n",
       "      <td>92.170024</td>\n",
       "      <td>26.223207</td>\n",
       "      <td>0.398517</td>\n",
       "      <td>0.528606</td>\n",
       "      <td>39.525147</td>\n",
       "    </tr>\n",
       "    <tr>\n",
       "      <th>std</th>\n",
       "      <td>0.399608</td>\n",
       "      <td>536.819062</td>\n",
       "      <td>280.979343</td>\n",
       "      <td>156.787273</td>\n",
       "      <td>104.932014</td>\n",
       "      <td>30.612192</td>\n",
       "      <td>25.835135</td>\n",
       "      <td>61.033544</td>\n",
       "      <td>29.670994</td>\n",
       "      <td>126.507379</td>\n",
       "      <td>127.144334</td>\n",
       "      <td>30.662012</td>\n",
       "      <td>0.419844</td>\n",
       "      <td>0.499382</td>\n",
       "      <td>30.856464</td>\n",
       "    </tr>\n",
       "    <tr>\n",
       "      <th>min</th>\n",
       "      <td>6.460000</td>\n",
       "      <td>7.150000</td>\n",
       "      <td>30.000000</td>\n",
       "      <td>20.000000</td>\n",
       "      <td>15.000000</td>\n",
       "      <td>0.000000</td>\n",
       "      <td>-4.000000</td>\n",
       "      <td>0.000000</td>\n",
       "      <td>0.000000</td>\n",
       "      <td>18.000000</td>\n",
       "      <td>0.000000</td>\n",
       "      <td>-3.000000</td>\n",
       "      <td>0.020000</td>\n",
       "      <td>0.000000</td>\n",
       "      <td>2.920809</td>\n",
       "    </tr>\n",
       "    <tr>\n",
       "      <th>25%</th>\n",
       "      <td>7.580000</td>\n",
       "      <td>360.000000</td>\n",
       "      <td>186.000000</td>\n",
       "      <td>123.000000</td>\n",
       "      <td>105.000000</td>\n",
       "      <td>26.000000</td>\n",
       "      <td>10.000000</td>\n",
       "      <td>17.000000</td>\n",
       "      <td>1.600000</td>\n",
       "      <td>128.000000</td>\n",
       "      <td>26.000000</td>\n",
       "      <td>4.000000</td>\n",
       "      <td>0.160000</td>\n",
       "      <td>0.000000</td>\n",
       "      <td>20.472506</td>\n",
       "    </tr>\n",
       "    <tr>\n",
       "      <th>50%</th>\n",
       "      <td>7.900000</td>\n",
       "      <td>550.000000</td>\n",
       "      <td>277.000000</td>\n",
       "      <td>184.000000</td>\n",
       "      <td>158.000000</td>\n",
       "      <td>39.000000</td>\n",
       "      <td>19.000000</td>\n",
       "      <td>30.000000</td>\n",
       "      <td>3.800000</td>\n",
       "      <td>192.000000</td>\n",
       "      <td>55.000000</td>\n",
       "      <td>17.000000</td>\n",
       "      <td>0.270000</td>\n",
       "      <td>1.000000</td>\n",
       "      <td>30.772091</td>\n",
       "    </tr>\n",
       "    <tr>\n",
       "      <th>75%</th>\n",
       "      <td>8.120000</td>\n",
       "      <td>900.000000</td>\n",
       "      <td>456.000000</td>\n",
       "      <td>267.000000</td>\n",
       "      <td>228.000000</td>\n",
       "      <td>53.000000</td>\n",
       "      <td>34.000000</td>\n",
       "      <td>65.000000</td>\n",
       "      <td>10.100000</td>\n",
       "      <td>275.000000</td>\n",
       "      <td>110.000000</td>\n",
       "      <td>38.000000</td>\n",
       "      <td>0.470000</td>\n",
       "      <td>1.000000</td>\n",
       "      <td>47.567048</td>\n",
       "    </tr>\n",
       "    <tr>\n",
       "      <th>max</th>\n",
       "      <td>8.780000</td>\n",
       "      <td>5770.000000</td>\n",
       "      <td>2766.000000</td>\n",
       "      <td>1945.000000</td>\n",
       "      <td>765.000000</td>\n",
       "      <td>497.000000</td>\n",
       "      <td>345.000000</td>\n",
       "      <td>820.000000</td>\n",
       "      <td>332.000000</td>\n",
       "      <td>933.000000</td>\n",
       "      <td>1753.000000</td>\n",
       "      <td>434.000000</td>\n",
       "      <td>3.940000</td>\n",
       "      <td>1.000000</td>\n",
       "      <td>271.422875</td>\n",
       "    </tr>\n",
       "  </tbody>\n",
       "</table>\n",
       "</div>\n",
       "      <button class=\"colab-df-convert\" onclick=\"convertToInteractive('df-d74ab3e4-2267-4f1c-807b-dd8834fd143e')\"\n",
       "              title=\"Convert this dataframe to an interactive table.\"\n",
       "              style=\"display:none;\">\n",
       "        \n",
       "  <svg xmlns=\"http://www.w3.org/2000/svg\" height=\"24px\"viewBox=\"0 0 24 24\"\n",
       "       width=\"24px\">\n",
       "    <path d=\"M0 0h24v24H0V0z\" fill=\"none\"/>\n",
       "    <path d=\"M18.56 5.44l.94 2.06.94-2.06 2.06-.94-2.06-.94-.94-2.06-.94 2.06-2.06.94zm-11 1L8.5 8.5l.94-2.06 2.06-.94-2.06-.94L8.5 2.5l-.94 2.06-2.06.94zm10 10l.94 2.06.94-2.06 2.06-.94-2.06-.94-.94-2.06-.94 2.06-2.06.94z\"/><path d=\"M17.41 7.96l-1.37-1.37c-.4-.4-.92-.59-1.43-.59-.52 0-1.04.2-1.43.59L10.3 9.45l-7.72 7.72c-.78.78-.78 2.05 0 2.83L4 21.41c.39.39.9.59 1.41.59.51 0 1.02-.2 1.41-.59l7.78-7.78 2.81-2.81c.8-.78.8-2.07 0-2.86zM5.41 20L4 18.59l7.72-7.72 1.47 1.35L5.41 20z\"/>\n",
       "  </svg>\n",
       "      </button>\n",
       "      \n",
       "  <style>\n",
       "    .colab-df-container {\n",
       "      display:flex;\n",
       "      flex-wrap:wrap;\n",
       "      gap: 12px;\n",
       "    }\n",
       "\n",
       "    .colab-df-convert {\n",
       "      background-color: #E8F0FE;\n",
       "      border: none;\n",
       "      border-radius: 50%;\n",
       "      cursor: pointer;\n",
       "      display: none;\n",
       "      fill: #1967D2;\n",
       "      height: 32px;\n",
       "      padding: 0 0 0 0;\n",
       "      width: 32px;\n",
       "    }\n",
       "\n",
       "    .colab-df-convert:hover {\n",
       "      background-color: #E2EBFA;\n",
       "      box-shadow: 0px 1px 2px rgba(60, 64, 67, 0.3), 0px 1px 3px 1px rgba(60, 64, 67, 0.15);\n",
       "      fill: #174EA6;\n",
       "    }\n",
       "\n",
       "    [theme=dark] .colab-df-convert {\n",
       "      background-color: #3B4455;\n",
       "      fill: #D2E3FC;\n",
       "    }\n",
       "\n",
       "    [theme=dark] .colab-df-convert:hover {\n",
       "      background-color: #434B5C;\n",
       "      box-shadow: 0px 1px 3px 1px rgba(0, 0, 0, 0.15);\n",
       "      filter: drop-shadow(0px 1px 2px rgba(0, 0, 0, 0.3));\n",
       "      fill: #FFFFFF;\n",
       "    }\n",
       "  </style>\n",
       "\n",
       "      <script>\n",
       "        const buttonEl =\n",
       "          document.querySelector('#df-d74ab3e4-2267-4f1c-807b-dd8834fd143e button.colab-df-convert');\n",
       "        buttonEl.style.display =\n",
       "          google.colab.kernel.accessAllowed ? 'block' : 'none';\n",
       "\n",
       "        async function convertToInteractive(key) {\n",
       "          const element = document.querySelector('#df-d74ab3e4-2267-4f1c-807b-dd8834fd143e');\n",
       "          const dataTable =\n",
       "            await google.colab.kernel.invokeFunction('convertToInteractive',\n",
       "                                                     [key], {});\n",
       "          if (!dataTable) return;\n",
       "\n",
       "          const docLinkHtml = 'Like what you see? Visit the ' +\n",
       "            '<a target=\"_blank\" href=https://colab.research.google.com/notebooks/data_table.ipynb>data table notebook</a>'\n",
       "            + ' to learn more about interactive tables.';\n",
       "          element.innerHTML = '';\n",
       "          dataTable['output_type'] = 'display_data';\n",
       "          await google.colab.output.renderOutput(dataTable, element);\n",
       "          const docLink = document.createElement('div');\n",
       "          docLink.innerHTML = docLinkHtml;\n",
       "          element.appendChild(docLink);\n",
       "        }\n",
       "      </script>\n",
       "    </div>\n",
       "  </div>\n",
       "  "
      ],
      "text/plain": [
       "                pH           EC          TDS           TH   Alkalinity  \\\n",
       "count  1241.000000  1241.000000  1241.000000  1241.000000  1241.000000   \n",
       "mean      7.828622   695.439283   358.057212   215.015310   178.496374   \n",
       "std       0.399608   536.819062   280.979343   156.787273   104.932014   \n",
       "min       6.460000     7.150000    30.000000    20.000000    15.000000   \n",
       "25%       7.580000   360.000000   186.000000   123.000000   105.000000   \n",
       "50%       7.900000   550.000000   277.000000   184.000000   158.000000   \n",
       "75%       8.120000   900.000000   456.000000   267.000000   228.000000   \n",
       "max       8.780000  5770.000000  2766.000000  1945.000000   765.000000   \n",
       "\n",
       "           Calcium    Magnesium       Sodium    Potassium  Bicarbonate  \\\n",
       "count  1241.000000  1241.000000  1241.000000  1241.000000  1241.000000   \n",
       "mean     43.941982    25.617244    49.991942    13.162530   215.799355   \n",
       "std      30.612192    25.835135    61.033544    29.670994   126.507379   \n",
       "min       0.000000    -4.000000     0.000000     0.000000    18.000000   \n",
       "25%      26.000000    10.000000    17.000000     1.600000   128.000000   \n",
       "50%      39.000000    19.000000    30.000000     3.800000   192.000000   \n",
       "75%      53.000000    34.000000    65.000000    10.100000   275.000000   \n",
       "max     497.000000   345.000000   820.000000   332.000000   933.000000   \n",
       "\n",
       "          Chloride     Sulphate     Fluoride  is_drinkable          WQI  \n",
       "count  1241.000000  1241.000000  1241.000000   1241.000000  1241.000000  \n",
       "mean     92.170024    26.223207     0.398517      0.528606    39.525147  \n",
       "std     127.144334    30.662012     0.419844      0.499382    30.856464  \n",
       "min       0.000000    -3.000000     0.020000      0.000000     2.920809  \n",
       "25%      26.000000     4.000000     0.160000      0.000000    20.472506  \n",
       "50%      55.000000    17.000000     0.270000      1.000000    30.772091  \n",
       "75%     110.000000    38.000000     0.470000      1.000000    47.567048  \n",
       "max    1753.000000   434.000000     3.940000      1.000000   271.422875  "
      ]
     },
     "execution_count": 123,
     "metadata": {},
     "output_type": "execute_result"
    }
   ],
   "source": [
    "df.describe()"
   ]
  },
  {
   "cell_type": "code",
   "execution_count": 126,
   "metadata": {
    "colab": {
     "base_uri": "https://localhost:8080/"
    },
    "id": "RxSzsW6GGXO2",
    "outputId": "a13e1643-ccb0-4587-88f0-a80c60d04aea"
   },
   "outputs": [
    {
     "data": {
      "text/plain": [
       "Good         41.337631\n",
       "Excellent    35.132957\n",
       "Poor         13.940371\n",
       "Very Poor     9.589041\n",
       "Name: WQC, dtype: float64"
      ]
     },
     "execution_count": 126,
     "metadata": {},
     "output_type": "execute_result"
    }
   ],
   "source": [
    "df['WQC'].value_counts()/1241*100"
   ]
  },
  {
   "cell_type": "markdown",
   "metadata": {
    "id": "N-W3njqBG78Q"
   },
   "source": [
    "# Distribution of each class in percent\n",
    "\n",
    "1.   Good     -    **41.337631**  (ie- 41% datapoint have good water)\n",
    "2.   Excellent -   **35.132957**\n",
    "3.   Poor       -  **13.940371**\n",
    "4.   Very Poor   -  **9.589041**\n",
    "\n",
    "\n"
   ]
  },
  {
   "cell_type": "markdown",
   "metadata": {
    "id": "BPebIB0WmrB3"
   },
   "source": [
    "# Support Vector Machine"
   ]
  },
  {
   "cell_type": "code",
   "execution_count": 85,
   "metadata": {
    "id": "hh8X3iD9mrB3"
   },
   "outputs": [],
   "source": []
  },
  {
   "cell_type": "code",
   "execution_count": 86,
   "metadata": {
    "id": "t1Rn_9VRmrB3"
   },
   "outputs": [],
   "source": [
    "from sklearn.metrics import confusion_matrix\n",
    "from sklearn.model_selection import train_test_split\n",
    "from sklearn import svm, datasets\n",
    "import matplotlib.pyplot as plt\n",
    "import numpy as np"
   ]
  },
  {
   "cell_type": "markdown",
   "metadata": {
    "id": "Fng_t5WymrB4"
   },
   "source": [
    "### SCALING THE DATA ( Pre Processing)"
   ]
  },
  {
   "attachments": {},
   "cell_type": "markdown",
   "metadata": {},
   "source": [
    "- Min Max Scaler is used here but.. better to use Zscore as Zscore is capable in handling outliers "
   ]
  },
  {
   "cell_type": "code",
   "execution_count": 87,
   "metadata": {
    "id": "NJGKy_ErmrB4"
   },
   "outputs": [],
   "source": [
    "import numpy as np\n",
    "from sklearn.preprocessing import MinMaxScaler\n",
    "scaler=MinMaxScaler()\n",
    "numeric=[\"pH\",\"EC\",\"TDS\",\"TH\",\"Alkalinity\",\"Calcium\",\"Magnesium\",\"Sodium\",\"Potassium\",\"Bicarbonate\",\"Chloride\",\"Sulphate\",\"Fluoride\"]\n",
    "for column in numeric:\n",
    "    scaler.fit(df3[column].values.reshape(-1,1))\n",
    "    df3[column]=scaler.transform(df3[column].values.reshape(-1,1))\n",
    "        "
   ]
  },
  {
   "cell_type": "code",
   "execution_count": 88,
   "metadata": {
    "colab": {
     "base_uri": "https://localhost:8080/",
     "height": 176
    },
    "id": "Q1OpNweEmrB4",
    "outputId": "a2e11bea-42a3-49d2-d5a1-ff3ea2dc4e73",
    "scrolled": true
   },
   "outputs": [
    {
     "data": {
      "text/html": [
       "\n",
       "  <div id=\"df-ee1d4038-f6f0-4a72-bdee-044445d7036b\">\n",
       "    <div class=\"colab-df-container\">\n",
       "      <div>\n",
       "<style scoped>\n",
       "    .dataframe tbody tr th:only-of-type {\n",
       "        vertical-align: middle;\n",
       "    }\n",
       "\n",
       "    .dataframe tbody tr th {\n",
       "        vertical-align: top;\n",
       "    }\n",
       "\n",
       "    .dataframe thead th {\n",
       "        text-align: right;\n",
       "    }\n",
       "</style>\n",
       "<table border=\"1\" class=\"dataframe\">\n",
       "  <thead>\n",
       "    <tr style=\"text-align: right;\">\n",
       "      <th></th>\n",
       "      <th>pH</th>\n",
       "      <th>EC</th>\n",
       "      <th>TDS</th>\n",
       "      <th>TH</th>\n",
       "      <th>Alkalinity</th>\n",
       "      <th>Calcium</th>\n",
       "      <th>Magnesium</th>\n",
       "      <th>Sodium</th>\n",
       "      <th>Potassium</th>\n",
       "      <th>Bicarbonate</th>\n",
       "      <th>Chloride</th>\n",
       "      <th>Sulphate</th>\n",
       "      <th>Fluoride</th>\n",
       "      <th>WQI</th>\n",
       "    </tr>\n",
       "  </thead>\n",
       "  <tbody>\n",
       "    <tr>\n",
       "      <th>0</th>\n",
       "      <td>0.327586</td>\n",
       "      <td>0.035200</td>\n",
       "      <td>0.027412</td>\n",
       "      <td>0.033766</td>\n",
       "      <td>0.060000</td>\n",
       "      <td>0.044266</td>\n",
       "      <td>0.031519</td>\n",
       "      <td>0.006098</td>\n",
       "      <td>0.012651</td>\n",
       "      <td>0.060109</td>\n",
       "      <td>0.011979</td>\n",
       "      <td>0.029748</td>\n",
       "      <td>0.063776</td>\n",
       "      <td>19.032351</td>\n",
       "    </tr>\n",
       "    <tr>\n",
       "      <th>1</th>\n",
       "      <td>0.465517</td>\n",
       "      <td>0.052552</td>\n",
       "      <td>0.046418</td>\n",
       "      <td>0.041558</td>\n",
       "      <td>0.093333</td>\n",
       "      <td>0.040241</td>\n",
       "      <td>0.045845</td>\n",
       "      <td>0.025610</td>\n",
       "      <td>0.014458</td>\n",
       "      <td>0.093989</td>\n",
       "      <td>0.024529</td>\n",
       "      <td>0.018307</td>\n",
       "      <td>0.025510</td>\n",
       "      <td>15.589984</td>\n",
       "    </tr>\n",
       "  </tbody>\n",
       "</table>\n",
       "</div>\n",
       "      <button class=\"colab-df-convert\" onclick=\"convertToInteractive('df-ee1d4038-f6f0-4a72-bdee-044445d7036b')\"\n",
       "              title=\"Convert this dataframe to an interactive table.\"\n",
       "              style=\"display:none;\">\n",
       "        \n",
       "  <svg xmlns=\"http://www.w3.org/2000/svg\" height=\"24px\"viewBox=\"0 0 24 24\"\n",
       "       width=\"24px\">\n",
       "    <path d=\"M0 0h24v24H0V0z\" fill=\"none\"/>\n",
       "    <path d=\"M18.56 5.44l.94 2.06.94-2.06 2.06-.94-2.06-.94-.94-2.06-.94 2.06-2.06.94zm-11 1L8.5 8.5l.94-2.06 2.06-.94-2.06-.94L8.5 2.5l-.94 2.06-2.06.94zm10 10l.94 2.06.94-2.06 2.06-.94-2.06-.94-.94-2.06-.94 2.06-2.06.94z\"/><path d=\"M17.41 7.96l-1.37-1.37c-.4-.4-.92-.59-1.43-.59-.52 0-1.04.2-1.43.59L10.3 9.45l-7.72 7.72c-.78.78-.78 2.05 0 2.83L4 21.41c.39.39.9.59 1.41.59.51 0 1.02-.2 1.41-.59l7.78-7.78 2.81-2.81c.8-.78.8-2.07 0-2.86zM5.41 20L4 18.59l7.72-7.72 1.47 1.35L5.41 20z\"/>\n",
       "  </svg>\n",
       "      </button>\n",
       "      \n",
       "  <style>\n",
       "    .colab-df-container {\n",
       "      display:flex;\n",
       "      flex-wrap:wrap;\n",
       "      gap: 12px;\n",
       "    }\n",
       "\n",
       "    .colab-df-convert {\n",
       "      background-color: #E8F0FE;\n",
       "      border: none;\n",
       "      border-radius: 50%;\n",
       "      cursor: pointer;\n",
       "      display: none;\n",
       "      fill: #1967D2;\n",
       "      height: 32px;\n",
       "      padding: 0 0 0 0;\n",
       "      width: 32px;\n",
       "    }\n",
       "\n",
       "    .colab-df-convert:hover {\n",
       "      background-color: #E2EBFA;\n",
       "      box-shadow: 0px 1px 2px rgba(60, 64, 67, 0.3), 0px 1px 3px 1px rgba(60, 64, 67, 0.15);\n",
       "      fill: #174EA6;\n",
       "    }\n",
       "\n",
       "    [theme=dark] .colab-df-convert {\n",
       "      background-color: #3B4455;\n",
       "      fill: #D2E3FC;\n",
       "    }\n",
       "\n",
       "    [theme=dark] .colab-df-convert:hover {\n",
       "      background-color: #434B5C;\n",
       "      box-shadow: 0px 1px 3px 1px rgba(0, 0, 0, 0.15);\n",
       "      filter: drop-shadow(0px 1px 2px rgba(0, 0, 0, 0.3));\n",
       "      fill: #FFFFFF;\n",
       "    }\n",
       "  </style>\n",
       "\n",
       "      <script>\n",
       "        const buttonEl =\n",
       "          document.querySelector('#df-ee1d4038-f6f0-4a72-bdee-044445d7036b button.colab-df-convert');\n",
       "        buttonEl.style.display =\n",
       "          google.colab.kernel.accessAllowed ? 'block' : 'none';\n",
       "\n",
       "        async function convertToInteractive(key) {\n",
       "          const element = document.querySelector('#df-ee1d4038-f6f0-4a72-bdee-044445d7036b');\n",
       "          const dataTable =\n",
       "            await google.colab.kernel.invokeFunction('convertToInteractive',\n",
       "                                                     [key], {});\n",
       "          if (!dataTable) return;\n",
       "\n",
       "          const docLinkHtml = 'Like what you see? Visit the ' +\n",
       "            '<a target=\"_blank\" href=https://colab.research.google.com/notebooks/data_table.ipynb>data table notebook</a>'\n",
       "            + ' to learn more about interactive tables.';\n",
       "          element.innerHTML = '';\n",
       "          dataTable['output_type'] = 'display_data';\n",
       "          await google.colab.output.renderOutput(dataTable, element);\n",
       "          const docLink = document.createElement('div');\n",
       "          docLink.innerHTML = docLinkHtml;\n",
       "          element.appendChild(docLink);\n",
       "        }\n",
       "      </script>\n",
       "    </div>\n",
       "  </div>\n",
       "  "
      ],
      "text/plain": [
       "         pH        EC       TDS        TH  Alkalinity   Calcium  Magnesium  \\\n",
       "0  0.327586  0.035200  0.027412  0.033766    0.060000  0.044266   0.031519   \n",
       "1  0.465517  0.052552  0.046418  0.041558    0.093333  0.040241   0.045845   \n",
       "\n",
       "     Sodium  Potassium  Bicarbonate  Chloride  Sulphate  Fluoride        WQI  \n",
       "0  0.006098   0.012651     0.060109  0.011979  0.029748  0.063776  19.032351  \n",
       "1  0.025610   0.014458     0.093989  0.024529  0.018307  0.025510  15.589984  "
      ]
     },
     "execution_count": 88,
     "metadata": {},
     "output_type": "execute_result"
    }
   ],
   "source": [
    "df3.head(2)     # Normalized Data"
   ]
  },
  {
   "cell_type": "code",
   "execution_count": 89,
   "metadata": {
    "id": "2epmcMCsmrB4"
   },
   "outputs": [],
   "source": [
    "X = df3.iloc[:,0:13]\n",
    "y = df.iloc[:,17:18]"
   ]
  },
  {
   "cell_type": "code",
   "execution_count": 90,
   "metadata": {
    "colab": {
     "base_uri": "https://localhost:8080/",
     "height": 112
    },
    "id": "q5UjUqoTmrB5",
    "outputId": "f272d798-b289-4375-e4dd-a88d6c8af533"
   },
   "outputs": [
    {
     "data": {
      "text/html": [
       "\n",
       "  <div id=\"df-7e8b0ef0-5ce5-4b0e-a358-457fbdcce6bb\">\n",
       "    <div class=\"colab-df-container\">\n",
       "      <div>\n",
       "<style scoped>\n",
       "    .dataframe tbody tr th:only-of-type {\n",
       "        vertical-align: middle;\n",
       "    }\n",
       "\n",
       "    .dataframe tbody tr th {\n",
       "        vertical-align: top;\n",
       "    }\n",
       "\n",
       "    .dataframe thead th {\n",
       "        text-align: right;\n",
       "    }\n",
       "</style>\n",
       "<table border=\"1\" class=\"dataframe\">\n",
       "  <thead>\n",
       "    <tr style=\"text-align: right;\">\n",
       "      <th></th>\n",
       "      <th>pH</th>\n",
       "      <th>EC</th>\n",
       "      <th>TDS</th>\n",
       "      <th>TH</th>\n",
       "      <th>Alkalinity</th>\n",
       "      <th>Calcium</th>\n",
       "      <th>Magnesium</th>\n",
       "      <th>Sodium</th>\n",
       "      <th>Potassium</th>\n",
       "      <th>Bicarbonate</th>\n",
       "      <th>Chloride</th>\n",
       "      <th>Sulphate</th>\n",
       "      <th>Fluoride</th>\n",
       "    </tr>\n",
       "  </thead>\n",
       "  <tbody>\n",
       "    <tr>\n",
       "      <th>0</th>\n",
       "      <td>0.327586</td>\n",
       "      <td>0.035200</td>\n",
       "      <td>0.027412</td>\n",
       "      <td>0.033766</td>\n",
       "      <td>0.060000</td>\n",
       "      <td>0.044266</td>\n",
       "      <td>0.031519</td>\n",
       "      <td>0.006098</td>\n",
       "      <td>0.012651</td>\n",
       "      <td>0.060109</td>\n",
       "      <td>0.011979</td>\n",
       "      <td>0.029748</td>\n",
       "      <td>0.063776</td>\n",
       "    </tr>\n",
       "    <tr>\n",
       "      <th>1</th>\n",
       "      <td>0.465517</td>\n",
       "      <td>0.052552</td>\n",
       "      <td>0.046418</td>\n",
       "      <td>0.041558</td>\n",
       "      <td>0.093333</td>\n",
       "      <td>0.040241</td>\n",
       "      <td>0.045845</td>\n",
       "      <td>0.025610</td>\n",
       "      <td>0.014458</td>\n",
       "      <td>0.093989</td>\n",
       "      <td>0.024529</td>\n",
       "      <td>0.018307</td>\n",
       "      <td>0.025510</td>\n",
       "    </tr>\n",
       "  </tbody>\n",
       "</table>\n",
       "</div>\n",
       "      <button class=\"colab-df-convert\" onclick=\"convertToInteractive('df-7e8b0ef0-5ce5-4b0e-a358-457fbdcce6bb')\"\n",
       "              title=\"Convert this dataframe to an interactive table.\"\n",
       "              style=\"display:none;\">\n",
       "        \n",
       "  <svg xmlns=\"http://www.w3.org/2000/svg\" height=\"24px\"viewBox=\"0 0 24 24\"\n",
       "       width=\"24px\">\n",
       "    <path d=\"M0 0h24v24H0V0z\" fill=\"none\"/>\n",
       "    <path d=\"M18.56 5.44l.94 2.06.94-2.06 2.06-.94-2.06-.94-.94-2.06-.94 2.06-2.06.94zm-11 1L8.5 8.5l.94-2.06 2.06-.94-2.06-.94L8.5 2.5l-.94 2.06-2.06.94zm10 10l.94 2.06.94-2.06 2.06-.94-2.06-.94-.94-2.06-.94 2.06-2.06.94z\"/><path d=\"M17.41 7.96l-1.37-1.37c-.4-.4-.92-.59-1.43-.59-.52 0-1.04.2-1.43.59L10.3 9.45l-7.72 7.72c-.78.78-.78 2.05 0 2.83L4 21.41c.39.39.9.59 1.41.59.51 0 1.02-.2 1.41-.59l7.78-7.78 2.81-2.81c.8-.78.8-2.07 0-2.86zM5.41 20L4 18.59l7.72-7.72 1.47 1.35L5.41 20z\"/>\n",
       "  </svg>\n",
       "      </button>\n",
       "      \n",
       "  <style>\n",
       "    .colab-df-container {\n",
       "      display:flex;\n",
       "      flex-wrap:wrap;\n",
       "      gap: 12px;\n",
       "    }\n",
       "\n",
       "    .colab-df-convert {\n",
       "      background-color: #E8F0FE;\n",
       "      border: none;\n",
       "      border-radius: 50%;\n",
       "      cursor: pointer;\n",
       "      display: none;\n",
       "      fill: #1967D2;\n",
       "      height: 32px;\n",
       "      padding: 0 0 0 0;\n",
       "      width: 32px;\n",
       "    }\n",
       "\n",
       "    .colab-df-convert:hover {\n",
       "      background-color: #E2EBFA;\n",
       "      box-shadow: 0px 1px 2px rgba(60, 64, 67, 0.3), 0px 1px 3px 1px rgba(60, 64, 67, 0.15);\n",
       "      fill: #174EA6;\n",
       "    }\n",
       "\n",
       "    [theme=dark] .colab-df-convert {\n",
       "      background-color: #3B4455;\n",
       "      fill: #D2E3FC;\n",
       "    }\n",
       "\n",
       "    [theme=dark] .colab-df-convert:hover {\n",
       "      background-color: #434B5C;\n",
       "      box-shadow: 0px 1px 3px 1px rgba(0, 0, 0, 0.15);\n",
       "      filter: drop-shadow(0px 1px 2px rgba(0, 0, 0, 0.3));\n",
       "      fill: #FFFFFF;\n",
       "    }\n",
       "  </style>\n",
       "\n",
       "      <script>\n",
       "        const buttonEl =\n",
       "          document.querySelector('#df-7e8b0ef0-5ce5-4b0e-a358-457fbdcce6bb button.colab-df-convert');\n",
       "        buttonEl.style.display =\n",
       "          google.colab.kernel.accessAllowed ? 'block' : 'none';\n",
       "\n",
       "        async function convertToInteractive(key) {\n",
       "          const element = document.querySelector('#df-7e8b0ef0-5ce5-4b0e-a358-457fbdcce6bb');\n",
       "          const dataTable =\n",
       "            await google.colab.kernel.invokeFunction('convertToInteractive',\n",
       "                                                     [key], {});\n",
       "          if (!dataTable) return;\n",
       "\n",
       "          const docLinkHtml = 'Like what you see? Visit the ' +\n",
       "            '<a target=\"_blank\" href=https://colab.research.google.com/notebooks/data_table.ipynb>data table notebook</a>'\n",
       "            + ' to learn more about interactive tables.';\n",
       "          element.innerHTML = '';\n",
       "          dataTable['output_type'] = 'display_data';\n",
       "          await google.colab.output.renderOutput(dataTable, element);\n",
       "          const docLink = document.createElement('div');\n",
       "          docLink.innerHTML = docLinkHtml;\n",
       "          element.appendChild(docLink);\n",
       "        }\n",
       "      </script>\n",
       "    </div>\n",
       "  </div>\n",
       "  "
      ],
      "text/plain": [
       "         pH        EC       TDS        TH  Alkalinity   Calcium  Magnesium  \\\n",
       "0  0.327586  0.035200  0.027412  0.033766    0.060000  0.044266   0.031519   \n",
       "1  0.465517  0.052552  0.046418  0.041558    0.093333  0.040241   0.045845   \n",
       "\n",
       "     Sodium  Potassium  Bicarbonate  Chloride  Sulphate  Fluoride  \n",
       "0  0.006098   0.012651     0.060109  0.011979  0.029748  0.063776  \n",
       "1  0.025610   0.014458     0.093989  0.024529  0.018307  0.025510  "
      ]
     },
     "execution_count": 90,
     "metadata": {},
     "output_type": "execute_result"
    }
   ],
   "source": [
    "X.head(2)"
   ]
  },
  {
   "cell_type": "code",
   "execution_count": 91,
   "metadata": {
    "colab": {
     "base_uri": "https://localhost:8080/",
     "height": 112
    },
    "id": "IcQy7ottmrB5",
    "outputId": "dbed0758-007e-4ad8-9545-174793e687af"
   },
   "outputs": [
    {
     "data": {
      "text/html": [
       "\n",
       "  <div id=\"df-6eecab25-399c-4f5a-9519-cd4bdc9b96ac\">\n",
       "    <div class=\"colab-df-container\">\n",
       "      <div>\n",
       "<style scoped>\n",
       "    .dataframe tbody tr th:only-of-type {\n",
       "        vertical-align: middle;\n",
       "    }\n",
       "\n",
       "    .dataframe tbody tr th {\n",
       "        vertical-align: top;\n",
       "    }\n",
       "\n",
       "    .dataframe thead th {\n",
       "        text-align: right;\n",
       "    }\n",
       "</style>\n",
       "<table border=\"1\" class=\"dataframe\">\n",
       "  <thead>\n",
       "    <tr style=\"text-align: right;\">\n",
       "      <th></th>\n",
       "      <th>WQC</th>\n",
       "    </tr>\n",
       "  </thead>\n",
       "  <tbody>\n",
       "    <tr>\n",
       "      <th>0</th>\n",
       "      <td>Excellent</td>\n",
       "    </tr>\n",
       "    <tr>\n",
       "      <th>1</th>\n",
       "      <td>Excellent</td>\n",
       "    </tr>\n",
       "  </tbody>\n",
       "</table>\n",
       "</div>\n",
       "      <button class=\"colab-df-convert\" onclick=\"convertToInteractive('df-6eecab25-399c-4f5a-9519-cd4bdc9b96ac')\"\n",
       "              title=\"Convert this dataframe to an interactive table.\"\n",
       "              style=\"display:none;\">\n",
       "        \n",
       "  <svg xmlns=\"http://www.w3.org/2000/svg\" height=\"24px\"viewBox=\"0 0 24 24\"\n",
       "       width=\"24px\">\n",
       "    <path d=\"M0 0h24v24H0V0z\" fill=\"none\"/>\n",
       "    <path d=\"M18.56 5.44l.94 2.06.94-2.06 2.06-.94-2.06-.94-.94-2.06-.94 2.06-2.06.94zm-11 1L8.5 8.5l.94-2.06 2.06-.94-2.06-.94L8.5 2.5l-.94 2.06-2.06.94zm10 10l.94 2.06.94-2.06 2.06-.94-2.06-.94-.94-2.06-.94 2.06-2.06.94z\"/><path d=\"M17.41 7.96l-1.37-1.37c-.4-.4-.92-.59-1.43-.59-.52 0-1.04.2-1.43.59L10.3 9.45l-7.72 7.72c-.78.78-.78 2.05 0 2.83L4 21.41c.39.39.9.59 1.41.59.51 0 1.02-.2 1.41-.59l7.78-7.78 2.81-2.81c.8-.78.8-2.07 0-2.86zM5.41 20L4 18.59l7.72-7.72 1.47 1.35L5.41 20z\"/>\n",
       "  </svg>\n",
       "      </button>\n",
       "      \n",
       "  <style>\n",
       "    .colab-df-container {\n",
       "      display:flex;\n",
       "      flex-wrap:wrap;\n",
       "      gap: 12px;\n",
       "    }\n",
       "\n",
       "    .colab-df-convert {\n",
       "      background-color: #E8F0FE;\n",
       "      border: none;\n",
       "      border-radius: 50%;\n",
       "      cursor: pointer;\n",
       "      display: none;\n",
       "      fill: #1967D2;\n",
       "      height: 32px;\n",
       "      padding: 0 0 0 0;\n",
       "      width: 32px;\n",
       "    }\n",
       "\n",
       "    .colab-df-convert:hover {\n",
       "      background-color: #E2EBFA;\n",
       "      box-shadow: 0px 1px 2px rgba(60, 64, 67, 0.3), 0px 1px 3px 1px rgba(60, 64, 67, 0.15);\n",
       "      fill: #174EA6;\n",
       "    }\n",
       "\n",
       "    [theme=dark] .colab-df-convert {\n",
       "      background-color: #3B4455;\n",
       "      fill: #D2E3FC;\n",
       "    }\n",
       "\n",
       "    [theme=dark] .colab-df-convert:hover {\n",
       "      background-color: #434B5C;\n",
       "      box-shadow: 0px 1px 3px 1px rgba(0, 0, 0, 0.15);\n",
       "      filter: drop-shadow(0px 1px 2px rgba(0, 0, 0, 0.3));\n",
       "      fill: #FFFFFF;\n",
       "    }\n",
       "  </style>\n",
       "\n",
       "      <script>\n",
       "        const buttonEl =\n",
       "          document.querySelector('#df-6eecab25-399c-4f5a-9519-cd4bdc9b96ac button.colab-df-convert');\n",
       "        buttonEl.style.display =\n",
       "          google.colab.kernel.accessAllowed ? 'block' : 'none';\n",
       "\n",
       "        async function convertToInteractive(key) {\n",
       "          const element = document.querySelector('#df-6eecab25-399c-4f5a-9519-cd4bdc9b96ac');\n",
       "          const dataTable =\n",
       "            await google.colab.kernel.invokeFunction('convertToInteractive',\n",
       "                                                     [key], {});\n",
       "          if (!dataTable) return;\n",
       "\n",
       "          const docLinkHtml = 'Like what you see? Visit the ' +\n",
       "            '<a target=\"_blank\" href=https://colab.research.google.com/notebooks/data_table.ipynb>data table notebook</a>'\n",
       "            + ' to learn more about interactive tables.';\n",
       "          element.innerHTML = '';\n",
       "          dataTable['output_type'] = 'display_data';\n",
       "          await google.colab.output.renderOutput(dataTable, element);\n",
       "          const docLink = document.createElement('div');\n",
       "          docLink.innerHTML = docLinkHtml;\n",
       "          element.appendChild(docLink);\n",
       "        }\n",
       "      </script>\n",
       "    </div>\n",
       "  </div>\n",
       "  "
      ],
      "text/plain": [
       "         WQC\n",
       "0  Excellent\n",
       "1  Excellent"
      ]
     },
     "execution_count": 91,
     "metadata": {},
     "output_type": "execute_result"
    }
   ],
   "source": [
    "y.head(2)"
   ]
  },
  {
   "cell_type": "markdown",
   "metadata": {
    "id": "WOIPwP-SmrB5"
   },
   "source": [
    "# MODEL TRAINING"
   ]
  },
  {
   "cell_type": "code",
   "execution_count": 91,
   "metadata": {
    "id": "ceqmSFeKmrB5"
   },
   "outputs": [],
   "source": []
  },
  {
   "cell_type": "code",
   "execution_count": 92,
   "metadata": {
    "id": "8FSbXVFsmrB6"
   },
   "outputs": [],
   "source": [
    "X_train, X_test, y_train, y_test = train_test_split(X, y, train_size=0.8, random_state = 1)"
   ]
  },
  {
   "cell_type": "code",
   "execution_count": 92,
   "metadata": {
    "id": "RwpRlb_zmrB6"
   },
   "outputs": [],
   "source": []
  },
  {
   "cell_type": "markdown",
   "metadata": {
    "id": "f6rfjVqqmrB6"
   },
   "source": [
    "# 1. SVM (4)"
   ]
  },
  {
   "cell_type": "code",
   "execution_count": 93,
   "metadata": {
    "colab": {
     "base_uri": "https://localhost:8080/"
    },
    "id": "I7JkLM1ImrB6",
    "outputId": "4525789b-effe-4990-fa9b-773955825cd8"
   },
   "outputs": [
    {
     "name": "stderr",
     "output_type": "stream",
     "text": [
      "/usr/local/lib/python3.7/dist-packages/sklearn/utils/validation.py:993: DataConversionWarning: A column-vector y was passed when a 1d array was expected. Please change the shape of y to (n_samples, ), for example using ravel().\n",
      "  y = column_or_1d(y, warn=True)\n",
      "/usr/local/lib/python3.7/dist-packages/sklearn/utils/validation.py:993: DataConversionWarning: A column-vector y was passed when a 1d array was expected. Please change the shape of y to (n_samples, ), for example using ravel().\n",
      "  y = column_or_1d(y, warn=True)\n",
      "/usr/local/lib/python3.7/dist-packages/sklearn/utils/validation.py:993: DataConversionWarning: A column-vector y was passed when a 1d array was expected. Please change the shape of y to (n_samples, ), for example using ravel().\n",
      "  y = column_or_1d(y, warn=True)\n",
      "/usr/local/lib/python3.7/dist-packages/sklearn/utils/validation.py:993: DataConversionWarning: A column-vector y was passed when a 1d array was expected. Please change the shape of y to (n_samples, ), for example using ravel().\n",
      "  y = column_or_1d(y, warn=True)\n"
     ]
    }
   ],
   "source": [
    "linear = svm.SVC(kernel='linear', C=1, decision_function_shape='ovo').fit(X_train, y_train)\n",
    "rbf = svm.SVC(kernel='rbf', gamma=1, C=1, decision_function_shape='ovo').fit(X_train, y_train)\n",
    "poly = svm.SVC(kernel='poly', degree=3, C=1, decision_function_shape='ovo').fit(X_train, y_train)\n",
    "sig = svm.SVC(kernel='sigmoid', C=1, decision_function_shape='ovo').fit(X_train, y_train)"
   ]
  },
  {
   "cell_type": "code",
   "execution_count": 94,
   "metadata": {
    "id": "GUHzhj8HmrB6"
   },
   "outputs": [],
   "source": [
    "linear_pred = linear.predict(X_test)\n",
    "poly_pred = poly.predict(X_test)\n",
    "rbf_pred = rbf.predict(X_test)\n",
    "sig_pred = sig.predict(X_test)"
   ]
  },
  {
   "cell_type": "code",
   "execution_count": 95,
   "metadata": {
    "id": "22J-5BDtmrB7"
   },
   "outputs": [],
   "source": [
    "accuracy_lin = linear.score(X_test, y_test)\n",
    "accuracy_poly = poly.score(X_test, y_test)\n",
    "accuracy_rbf = rbf.score(X_test, y_test)\n",
    "accuracy_sig = sig.score(X_test, y_test)"
   ]
  },
  {
   "cell_type": "code",
   "execution_count": 96,
   "metadata": {
    "colab": {
     "base_uri": "https://localhost:8080/"
    },
    "id": "2tzXTIchmrB7",
    "outputId": "635fbd55-fb66-4677-ce9b-24740b3a12f6"
   },
   "outputs": [
    {
     "data": {
      "text/plain": [
       "0.7550200803212851"
      ]
     },
     "execution_count": 96,
     "metadata": {},
     "output_type": "execute_result"
    }
   ],
   "source": [
    "accuracy_lin"
   ]
  },
  {
   "cell_type": "code",
   "execution_count": 97,
   "metadata": {
    "colab": {
     "base_uri": "https://localhost:8080/"
    },
    "id": "s0e_NI78mrB8",
    "outputId": "8ee71dcd-df69-411b-bb80-d38e7380d46d"
   },
   "outputs": [
    {
     "data": {
      "text/plain": [
       "0.9036144578313253"
      ]
     },
     "execution_count": 97,
     "metadata": {},
     "output_type": "execute_result"
    }
   ],
   "source": [
    "accuracy_poly "
   ]
  },
  {
   "cell_type": "code",
   "execution_count": 98,
   "metadata": {
    "colab": {
     "base_uri": "https://localhost:8080/"
    },
    "id": "MpSJ_nb_mrB8",
    "outputId": "bbf76840-6dd8-43fe-f558-7a5e3aa3c7df"
   },
   "outputs": [
    {
     "data": {
      "text/plain": [
       "0.7791164658634538"
      ]
     },
     "execution_count": 98,
     "metadata": {},
     "output_type": "execute_result"
    }
   ],
   "source": [
    "accuracy_rbf"
   ]
  },
  {
   "cell_type": "code",
   "execution_count": 99,
   "metadata": {
    "colab": {
     "base_uri": "https://localhost:8080/"
    },
    "id": "6jkbsPwCmrB8",
    "outputId": "ae5f5d44-d750-4d09-dd01-a300ca55526c"
   },
   "outputs": [
    {
     "data": {
      "text/plain": [
       "0.27309236947791166"
      ]
     },
     "execution_count": 99,
     "metadata": {},
     "output_type": "execute_result"
    }
   ],
   "source": [
    "accuracy_sig "
   ]
  },
  {
   "cell_type": "code",
   "execution_count": 99,
   "metadata": {
    "id": "E7V1-NcTmrB8"
   },
   "outputs": [],
   "source": []
  },
  {
   "cell_type": "code",
   "execution_count": 100,
   "metadata": {
    "id": "Q9pUTV1dmrB8"
   },
   "outputs": [],
   "source": [
    "cm_lin = confusion_matrix(y_test, linear_pred)\n",
    "cm_poly = confusion_matrix(y_test, poly_pred)\n",
    "cm_rbf = confusion_matrix(y_test, rbf_pred)\n",
    "cm_sig = confusion_matrix(y_test, sig_pred)"
   ]
  },
  {
   "cell_type": "code",
   "execution_count": 101,
   "metadata": {
    "colab": {
     "base_uri": "https://localhost:8080/",
     "height": 473
    },
    "id": "EtUKoxGcmrB9",
    "outputId": "50cf6847-d05f-41a5-d61d-ccad4f490805"
   },
   "outputs": [
    {
     "name": "stdout",
     "output_type": "stream",
     "text": [
      "0.7550200803212851\n",
      "              precision    recall  f1-score   support\n",
      "\n",
      "   Excellent       0.89      0.82      0.86        90\n",
      "        Good       0.70      0.90      0.79        97\n",
      "        Poor       0.46      0.37      0.41        35\n",
      "   Very Poor       1.00      0.52      0.68        27\n",
      "\n",
      "    accuracy                           0.76       249\n",
      "   macro avg       0.76      0.65      0.68       249\n",
      "weighted avg       0.77      0.76      0.75       249\n",
      "\n"
     ]
    },
    {
     "data": {
      "image/png": "[encoded data removed]",
      "text/plain": [
       "<Figure size 432x288 with 2 Axes>"
      ]
     },
     "metadata": {
      "needs_background": "light"
     },
     "output_type": "display_data"
    }
   ],
   "source": [
    "from sklearn.metrics import classification_report, confusion_matrix, accuracy_score\n",
    "\n",
    "sns.heatmap(cm_lin, annot=True)\n",
    "\n",
    "result2 = accuracy_score(y_test, linear_pred)\n",
    "print(result2)\n",
    "\n",
    "result1 = classification_report(y_test, linear_pred)\n",
    "print (result1)"
   ]
  },
  {
   "cell_type": "code",
   "execution_count": 102,
   "metadata": {
    "colab": {
     "base_uri": "https://localhost:8080/",
     "height": 473
    },
    "id": "zE68y8qJmrB9",
    "outputId": "043cc4fc-775b-4bd2-8653-906760a50565"
   },
   "outputs": [
    {
     "name": "stdout",
     "output_type": "stream",
     "text": [
      "0.9036144578313253\n",
      "              precision    recall  f1-score   support\n",
      "\n",
      "   Excellent       0.89      0.92      0.91        90\n",
      "        Good       0.91      0.90      0.90        97\n",
      "        Poor       0.87      0.94      0.90        35\n",
      "   Very Poor       1.00      0.81      0.90        27\n",
      "\n",
      "    accuracy                           0.90       249\n",
      "   macro avg       0.92      0.89      0.90       249\n",
      "weighted avg       0.91      0.90      0.90       249\n",
      "\n"
     ]
    },
    {
     "data": {
      "image/png": "[encoded data removed]",
      "text/plain": [
       "<Figure size 432x288 with 2 Axes>"
      ]
     },
     "metadata": {
      "needs_background": "light"
     },
     "output_type": "display_data"
    }
   ],
   "source": [
    "from sklearn.metrics import classification_report, confusion_matrix, accuracy_score\n",
    "\n",
    "sns.heatmap(cm_poly, annot=True)\n",
    "\n",
    "result2 = accuracy_score(y_test, poly_pred)\n",
    "print(result2)\n",
    "\n",
    "result1 = classification_report(y_test, poly_pred)\n",
    "print (result1)"
   ]
  },
  {
   "cell_type": "code",
   "execution_count": 103,
   "metadata": {
    "colab": {
     "base_uri": "https://localhost:8080/",
     "height": 473
    },
    "id": "cHtx1zynmrB9",
    "outputId": "d91d966f-70e8-40c5-e529-3d858c5df31b"
   },
   "outputs": [
    {
     "name": "stdout",
     "output_type": "stream",
     "text": [
      "0.7791164658634538\n",
      "              precision    recall  f1-score   support\n",
      "\n",
      "   Excellent       0.86      0.83      0.85        90\n",
      "        Good       0.73      0.87      0.79        97\n",
      "        Poor       0.61      0.49      0.54        35\n",
      "   Very Poor       0.95      0.67      0.78        27\n",
      "\n",
      "    accuracy                           0.78       249\n",
      "   macro avg       0.79      0.71      0.74       249\n",
      "weighted avg       0.78      0.78      0.78       249\n",
      "\n"
     ]
    },
    {
     "data": {
      "image/png": "[encoded data removed]",
      "text/plain": [
       "<Figure size 432x288 with 2 Axes>"
      ]
     },
     "metadata": {
      "needs_background": "light"
     },
     "output_type": "display_data"
    }
   ],
   "source": [
    "from sklearn.metrics import classification_report, confusion_matrix, accuracy_score\n",
    "\n",
    "sns.heatmap(cm_rbf, annot=True)\n",
    "\n",
    "result2 = accuracy_score(y_test, rbf_pred)\n",
    "print(result2)\n",
    "\n",
    "result1 = classification_report(y_test, rbf_pred)\n",
    "print (result1)"
   ]
  },
  {
   "cell_type": "code",
   "execution_count": 104,
   "metadata": {
    "colab": {
     "base_uri": "https://localhost:8080/",
     "height": 473
    },
    "id": "p9d6XF-rmrB9",
    "outputId": "81e4d00b-261f-4785-c470-161fee508d78"
   },
   "outputs": [
    {
     "name": "stdout",
     "output_type": "stream",
     "text": [
      "0.27309236947791166\n",
      "              precision    recall  f1-score   support\n",
      "\n",
      "   Excellent       0.31      0.64      0.42        90\n",
      "        Good       0.41      0.09      0.15        97\n",
      "        Poor       0.06      0.03      0.04        35\n",
      "   Very Poor       0.00      0.00      0.00        27\n",
      "\n",
      "    accuracy                           0.27       249\n",
      "   macro avg       0.19      0.19      0.15       249\n",
      "weighted avg       0.28      0.27      0.22       249\n",
      "\n"
     ]
    },
    {
     "data": {
      "image/png": "[encoded data removed]",
      "text/plain": [
       "<Figure size 432x288 with 2 Axes>"
      ]
     },
     "metadata": {
      "needs_background": "light"
     },
     "output_type": "display_data"
    }
   ],
   "source": [
    "from sklearn.metrics import classification_report, confusion_matrix, accuracy_score\n",
    "\n",
    "sns.heatmap(cm_sig, annot=True)\n",
    "\n",
    "result2 = accuracy_score(y_test,sig_pred)\n",
    "print(result2)\n",
    "\n",
    "result1 = classification_report(y_test, sig_pred)\n",
    "print (result1)"
   ]
  },
  {
   "cell_type": "markdown",
   "metadata": {
    "id": "W7TfmwFWmrB-"
   },
   "source": [
    "# 2. KNN"
   ]
  },
  {
   "cell_type": "code",
   "execution_count": 105,
   "metadata": {
    "id": "OCJ7tBOemrB-"
   },
   "outputs": [],
   "source": [
    "from sklearn.model_selection import train_test_split\n",
    "from sklearn.neighbors import KNeighborsClassifier"
   ]
  },
  {
   "cell_type": "code",
   "execution_count": 106,
   "metadata": {
    "colab": {
     "base_uri": "https://localhost:8080/"
    },
    "id": "Aci9p_GzmrB-",
    "outputId": "935961a8-c5ad-44f0-cd13-7f334103ccc1"
   },
   "outputs": [
    {
     "name": "stderr",
     "output_type": "stream",
     "text": [
      "/usr/local/lib/python3.7/dist-packages/sklearn/neighbors/_classification.py:198: DataConversionWarning: A column-vector y was passed when a 1d array was expected. Please change the shape of y to (n_samples,), for example using ravel().\n",
      "  return self._fit(X, y)\n"
     ]
    }
   ],
   "source": [
    "knn_clf=KNeighborsClassifier()\n",
    "knn_clf.fit(X_train,y_train)\n",
    "ypred=knn_clf.predict(X_test) #These are the predicted output value"
   ]
  },
  {
   "cell_type": "code",
   "execution_count": 107,
   "metadata": {
    "id": "Wnzqv3lBmrB-"
   },
   "outputs": [],
   "source": [
    "ypred=knn_clf.predict(X_test)"
   ]
  },
  {
   "cell_type": "code",
   "execution_count": 108,
   "metadata": {
    "colab": {
     "base_uri": "https://localhost:8080/",
     "height": 473
    },
    "id": "S2TD-MzqmrB_",
    "outputId": "dcb7e44a-8034-4a71-8065-a151cf3400f3"
   },
   "outputs": [
    {
     "name": "stdout",
     "output_type": "stream",
     "text": [
      "0.7590361445783133\n",
      "              precision    recall  f1-score   support\n",
      "\n",
      "   Excellent       0.88      0.83      0.86        90\n",
      "        Good       0.69      0.88      0.77        97\n",
      "        Poor       0.57      0.37      0.45        35\n",
      "   Very Poor       0.89      0.59      0.71        27\n",
      "\n",
      "    accuracy                           0.76       249\n",
      "   macro avg       0.76      0.67      0.70       249\n",
      "weighted avg       0.76      0.76      0.75       249\n",
      "\n"
     ]
    },
    {
     "data": {
      "image/png": "[encoded data removed]",
      "text/plain": [
       "<Figure size 432x288 with 2 Axes>"
      ]
     },
     "metadata": {
      "needs_background": "light"
     },
     "output_type": "display_data"
    }
   ],
   "source": [
    "from sklearn.metrics import classification_report, confusion_matrix, accuracy_score\n",
    "result = confusion_matrix(y_test, ypred)\n",
    "\n",
    "sns.heatmap(result, annot=True)\n",
    "\n",
    "result2 = accuracy_score(y_test,ypred)\n",
    "print(result2)\n",
    "\n",
    "result1 = classification_report(y_test, ypred)\n",
    "print (result1)"
   ]
  },
  {
   "cell_type": "markdown",
   "metadata": {
    "id": "rLstdhkHmrB_"
   },
   "source": [
    "# 3. Logistic Regression"
   ]
  },
  {
   "cell_type": "code",
   "execution_count": 109,
   "metadata": {
    "colab": {
     "base_uri": "https://localhost:8080/"
    },
    "id": "zkzFFRvAmrB_",
    "outputId": "0cd66725-4abd-4bac-b0f2-ff04dcabc947"
   },
   "outputs": [
    {
     "name": "stderr",
     "output_type": "stream",
     "text": [
      "/usr/local/lib/python3.7/dist-packages/sklearn/utils/validation.py:993: DataConversionWarning: A column-vector y was passed when a 1d array was expected. Please change the shape of y to (n_samples, ), for example using ravel().\n",
      "  y = column_or_1d(y, warn=True)\n"
     ]
    }
   ],
   "source": [
    "from sklearn.linear_model import LogisticRegression\n",
    "lr_clf = LogisticRegression(random_state=0).fit(X_train, y_train)\n",
    "\n"
   ]
  },
  {
   "cell_type": "code",
   "execution_count": 110,
   "metadata": {
    "colab": {
     "base_uri": "https://localhost:8080/"
    },
    "id": "4cU2-T6ymrB_",
    "outputId": "16e36963-7cec-446d-d328-d1bd3101d9ff"
   },
   "outputs": [
    {
     "name": "stderr",
     "output_type": "stream",
     "text": [
      "/usr/local/lib/python3.7/dist-packages/sklearn/utils/validation.py:993: DataConversionWarning: A column-vector y was passed when a 1d array was expected. Please change the shape of y to (n_samples, ), for example using ravel().\n",
      "  y = column_or_1d(y, warn=True)\n"
     ]
    }
   ],
   "source": [
    "lr_clf.fit(X_train,y_train)\n",
    "ypred=lr_clf.predict(X_test)"
   ]
  },
  {
   "cell_type": "code",
   "execution_count": 111,
   "metadata": {
    "id": "WZGKti3jmrB_"
   },
   "outputs": [],
   "source": [
    "ypred=lr_clf.predict(X_test)"
   ]
  },
  {
   "cell_type": "code",
   "execution_count": 112,
   "metadata": {
    "colab": {
     "base_uri": "https://localhost:8080/",
     "height": 475
    },
    "id": "5QzwlBSwmrCA",
    "outputId": "5940d49f-b966-4e4a-a64c-6109866aa892"
   },
   "outputs": [
    {
     "name": "stdout",
     "output_type": "stream",
     "text": [
      "0.6987951807228916\n",
      "              precision    recall  f1-score   support\n",
      "\n",
      "   Excellent       0.83      0.78      0.80        90\n",
      "        Good       0.61      0.84      0.70        97\n",
      "        Poor       0.50      0.23      0.31        35\n",
      "   Very Poor       0.94      0.56      0.70        27\n",
      "\n",
      "    accuracy                           0.70       249\n",
      "   macro avg       0.72      0.60      0.63       249\n",
      "weighted avg       0.71      0.70      0.68       249\n",
      "\n"
     ]
    },
    {
     "data": {
      "image/png": "[encoded data removed]",
      "text/plain": [
       "<Figure size 432x288 with 2 Axes>"
      ]
     },
     "metadata": {
      "needs_background": "light"
     },
     "output_type": "display_data"
    }
   ],
   "source": [
    "from sklearn.metrics import classification_report, confusion_matrix, accuracy_score\n",
    "result = confusion_matrix(y_test, ypred)\n",
    "\n",
    "sns.heatmap(result, annot=True)\n",
    "\n",
    "result2 = accuracy_score(y_test,ypred)\n",
    "print(result2)\n",
    "\n",
    "result1 = classification_report(y_test, ypred)\n",
    "print (result1)"
   ]
  },
  {
   "cell_type": "markdown",
   "metadata": {
    "id": "KIWSoWwHmrCA"
   },
   "source": [
    "# 4. Decision tree"
   ]
  },
  {
   "cell_type": "code",
   "execution_count": 112,
   "metadata": {
    "id": "8qu8rTW1mrCA"
   },
   "outputs": [],
   "source": []
  },
  {
   "cell_type": "code",
   "execution_count": 113,
   "metadata": {
    "colab": {
     "base_uri": "https://localhost:8080/"
    },
    "id": "DWApiijFmrCA",
    "outputId": "6adf3d73-282b-415c-eb16-09026e924b63"
   },
   "outputs": [
    {
     "name": "stdout",
     "output_type": "stream",
     "text": [
      "accuracy score is\n"
     ]
    },
    {
     "data": {
      "text/plain": [
       "0.9076305220883534"
      ]
     },
     "execution_count": 113,
     "metadata": {},
     "output_type": "execute_result"
    }
   ],
   "source": [
    "from sklearn.tree import DecisionTreeClassifier\n",
    "model = DecisionTreeClassifier()\n",
    "model.fit(X_train,y_train)\n",
    "predictions = model.predict(X_test)\n",
    "print('accuracy score is')\n",
    "accuracy_score(y_test, predictions)"
   ]
  },
  {
   "cell_type": "code",
   "execution_count": 114,
   "metadata": {
    "colab": {
     "base_uri": "https://localhost:8080/"
    },
    "id": "TeH16x7RmrCA",
    "outputId": "cfe7105b-e88c-44ee-afe3-fcce186542cb"
   },
   "outputs": [
    {
     "name": "stdout",
     "output_type": "stream",
     "text": [
      "Looking in indexes: https://pypi.org/simple, https://us-python.pkg.dev/colab-wheels/public/simple/\n",
      "Collecting dtreeviz\n",
      "  Downloading dtreeviz-1.3.7.tar.gz (62 kB)\n",
      "\u001b[K     |████████████████████████████████| 62 kB 842 kB/s \n",
      "\u001b[?25hRequirement already satisfied: graphviz>=0.9 in /usr/local/lib/python3.7/dist-packages (from dtreeviz) (0.10.1)\n",
      "Requirement already satisfied: pandas in /usr/local/lib/python3.7/dist-packages (from dtreeviz) (1.3.5)\n",
      "Requirement already satisfied: numpy in /usr/local/lib/python3.7/dist-packages (from dtreeviz) (1.21.6)\n",
      "Requirement already satisfied: scikit-learn in /usr/local/lib/python3.7/dist-packages (from dtreeviz) (1.0.2)\n",
      "Requirement already satisfied: matplotlib in /usr/local/lib/python3.7/dist-packages (from dtreeviz) (3.2.2)\n",
      "Collecting colour\n",
      "  Downloading colour-0.1.5-py2.py3-none-any.whl (23 kB)\n",
      "Requirement already satisfied: pytest in /usr/local/lib/python3.7/dist-packages (from dtreeviz) (3.6.4)\n",
      "Requirement already satisfied: pyparsing!=2.0.4,!=2.1.2,!=2.1.6,>=2.0.1 in /usr/local/lib/python3.7/dist-packages (from matplotlib->dtreeviz) (3.0.9)\n",
      "Requirement already satisfied: cycler>=0.10 in /usr/local/lib/python3.7/dist-packages (from matplotlib->dtreeviz) (0.11.0)\n",
      "Requirement already satisfied: python-dateutil>=2.1 in /usr/local/lib/python3.7/dist-packages (from matplotlib->dtreeviz) (2.8.2)\n",
      "Requirement already satisfied: kiwisolver>=1.0.1 in /usr/local/lib/python3.7/dist-packages (from matplotlib->dtreeviz) (1.4.4)\n",
      "Requirement already satisfied: typing-extensions in /usr/local/lib/python3.7/dist-packages (from kiwisolver>=1.0.1->matplotlib->dtreeviz) (4.1.1)\n",
      "Requirement already satisfied: six>=1.5 in /usr/local/lib/python3.7/dist-packages (from python-dateutil>=2.1->matplotlib->dtreeviz) (1.15.0)\n",
      "Requirement already satisfied: pytz>=2017.3 in /usr/local/lib/python3.7/dist-packages (from pandas->dtreeviz) (2022.4)\n",
      "Requirement already satisfied: attrs>=17.4.0 in /usr/local/lib/python3.7/dist-packages (from pytest->dtreeviz) (22.1.0)\n",
      "Requirement already satisfied: atomicwrites>=1.0 in /usr/local/lib/python3.7/dist-packages (from pytest->dtreeviz) (1.4.1)\n",
      "Requirement already satisfied: setuptools in /usr/local/lib/python3.7/dist-packages (from pytest->dtreeviz) (57.4.0)\n",
      "Requirement already satisfied: more-itertools>=4.0.0 in /usr/local/lib/python3.7/dist-packages (from pytest->dtreeviz) (8.14.0)\n",
      "Requirement already satisfied: pluggy<0.8,>=0.5 in /usr/local/lib/python3.7/dist-packages (from pytest->dtreeviz) (0.7.1)\n",
      "Requirement already satisfied: py>=1.5.0 in /usr/local/lib/python3.7/dist-packages (from pytest->dtreeviz) (1.11.0)\n",
      "Requirement already satisfied: threadpoolctl>=2.0.0 in /usr/local/lib/python3.7/dist-packages (from scikit-learn->dtreeviz) (3.1.0)\n",
      "Requirement already satisfied: joblib>=0.11 in /usr/local/lib/python3.7/dist-packages (from scikit-learn->dtreeviz) (1.2.0)\n",
      "Requirement already satisfied: scipy>=1.1.0 in /usr/local/lib/python3.7/dist-packages (from scikit-learn->dtreeviz) (1.7.3)\n",
      "Building wheels for collected packages: dtreeviz\n",
      "  Building wheel for dtreeviz (setup.py) ... \u001b[?25l\u001b[?25hdone\n",
      "  Created wheel for dtreeviz: filename=dtreeviz-1.3.7-py3-none-any.whl size=68151 sha256=47c14382790c0750e8d1afa4cd96111e9014c5846aca589feb2cea22537d637d\n",
      "  Stored in directory: /root/.cache/pip/wheels/bf/ba/9f/87c689d8d3c2916793f2dccc57d3dc3b283e0ccf8cb4ca4cad\n",
      "Successfully built dtreeviz\n",
      "Installing collected packages: colour, dtreeviz\n",
      "Successfully installed colour-0.1.5 dtreeviz-1.3.7\n"
     ]
    }
   ],
   "source": [
    "#pip install dtreeviz"
   ]
  },
  {
   "cell_type": "code",
   "execution_count": 115,
   "metadata": {
    "id": "q5UihjApmrCB"
   },
   "outputs": [],
   "source": [
    "m='''from dtreeviz.trees import dtreeviz # remember to load the package\n",
    "viz = dtreeviz(model, X, df2,\n",
    "                target_name=\"WQC\",\n",
    "                feature_names=df.columns,\n",
    "                title=\"Wine data set classification\",\n",
    "                class_names=['1', '2', '3', '4',],\n",
    "                histtype='barstacked', # default \n",
    "                scale=1.2)\n",
    "viz'''"
   ]
  },
  {
   "cell_type": "code",
   "execution_count": 116,
   "metadata": {
    "colab": {
     "base_uri": "https://localhost:8080/",
     "height": 473
    },
    "id": "MRwmw4DimrCD",
    "outputId": "4908fb3d-0111-44d5-a15b-c547f6715646"
   },
   "outputs": [
    {
     "name": "stdout",
     "output_type": "stream",
     "text": [
      "0.9076305220883534\n",
      "              precision    recall  f1-score   support\n",
      "\n",
      "   Excellent       0.94      0.94      0.94        90\n",
      "        Good       0.88      0.92      0.90        97\n",
      "        Poor       0.84      0.77      0.81        35\n",
      "   Very Poor       0.96      0.93      0.94        27\n",
      "\n",
      "    accuracy                           0.91       249\n",
      "   macro avg       0.91      0.89      0.90       249\n",
      "weighted avg       0.91      0.91      0.91       249\n",
      "\n"
     ]
    },
    {
     "data": {
      "image/png": "[encoded data removed]",
      "text/plain": [
       "<Figure size 432x288 with 2 Axes>"
      ]
     },
     "metadata": {
      "needs_background": "light"
     },
     "output_type": "display_data"
    }
   ],
   "source": [
    "from sklearn.metrics import classification_report, confusion_matrix, accuracy_score\n",
    "result = confusion_matrix(y_test, predictions)\n",
    "\n",
    "sns.heatmap(result, annot=True)\n",
    "\n",
    "result2 = accuracy_score(y_test,predictions)\n",
    "print(result2)\n",
    "\n",
    "result1 = classification_report(y_test, predictions)\n",
    "print (result1)"
   ]
  },
  {
   "cell_type": "markdown",
   "metadata": {
    "id": "vQNhP_zVmrCE"
   },
   "source": [
    "# Using Boosting Algorithms"
   ]
  },
  {
   "cell_type": "code",
   "execution_count": 116,
   "metadata": {
    "id": "fm9Z7Wu9mrCE"
   },
   "outputs": [],
   "source": []
  },
  {
   "cell_type": "markdown",
   "metadata": {
    "id": "i-sNjDCamrCE"
   },
   "source": [
    "### 1. ADABOOST"
   ]
  },
  {
   "cell_type": "code",
   "execution_count": 117,
   "metadata": {
    "colab": {
     "base_uri": "https://localhost:8080/"
    },
    "id": "F0vWztrZmrCE",
    "outputId": "a8a6d0c6-71dc-43fb-95e6-78ccfc586668"
   },
   "outputs": [
    {
     "name": "stderr",
     "output_type": "stream",
     "text": [
      "/usr/local/lib/python3.7/dist-packages/sklearn/utils/validation.py:993: DataConversionWarning: A column-vector y was passed when a 1d array was expected. Please change the shape of y to (n_samples, ), for example using ravel().\n",
      "  y = column_or_1d(y, warn=True)\n"
     ]
    }
   ],
   "source": [
    "from sklearn.ensemble import AdaBoostClassifier\n",
    "adaboost = AdaBoostClassifier(n_estimators=100, base_estimator= None,learning_rate=1, random_state = 1)\n",
    "adaboost.fit(X_train,y_train)\n",
    "\n",
    "Y_pred = adaboost.predict(X_test)"
   ]
  },
  {
   "cell_type": "code",
   "execution_count": 118,
   "metadata": {
    "colab": {
     "base_uri": "https://localhost:8080/"
    },
    "id": "bTHyeEjtmrCF",
    "outputId": "0b2e783d-9b17-48e5-ff66-bd482ae970b0"
   },
   "outputs": [
    {
     "name": "stdout",
     "output_type": "stream",
     "text": [
      "\n",
      "Accuracy Of AdaBoost For The Given Dataset :  0.5461847389558233\n"
     ]
    }
   ],
   "source": [
    "from sklearn.metrics import confusion_matrix\n",
    "cm = confusion_matrix(y_test,Y_pred)\n",
    "accuracy = float(cm.diagonal().sum())/len(y_test)\n",
    "print(\"\\nAccuracy Of AdaBoost For The Given Dataset : \", accuracy)"
   ]
  },
  {
   "cell_type": "code",
   "execution_count": 119,
   "metadata": {
    "colab": {
     "base_uri": "https://localhost:8080/",
     "height": 477
    },
    "id": "jyEZH9OqmrCF",
    "outputId": "f2a124a9-fa5a-4589-d692-133785fe1df9"
   },
   "outputs": [
    {
     "name": "stdout",
     "output_type": "stream",
     "text": [
      "0.5461847389558233\n",
      "              precision    recall  f1-score   support\n",
      "\n",
      "   Excellent       0.65      0.40      0.50        90\n",
      "        Good       0.51      0.82      0.63        97\n",
      "        Poor       0.39      0.31      0.35        35\n",
      "   Very Poor       1.00      0.33      0.50        27\n",
      "\n",
      "    accuracy                           0.55       249\n",
      "   macro avg       0.64      0.47      0.49       249\n",
      "weighted avg       0.60      0.55      0.53       249\n",
      "\n"
     ]
    },
    {
     "data": {
      "image/png": "[encoded data removed]",
      "text/plain": [
       "<Figure size 432x288 with 2 Axes>"
      ]
     },
     "metadata": {
      "needs_background": "light"
     },
     "output_type": "display_data"
    }
   ],
   "source": [
    "from sklearn.metrics import classification_report, confusion_matrix, accuracy_score\n",
    "result = confusion_matrix(y_test, Y_pred)\n",
    "\n",
    "sns.heatmap(result, annot=True)\n",
    "\n",
    "result2 = accuracy_score(y_test,Y_pred)\n",
    "print(result2)\n",
    "\n",
    "result1 = classification_report(y_test, Y_pred)\n",
    "print (result1)"
   ]
  },
  {
   "cell_type": "code",
   "execution_count": 120,
   "metadata": {
    "colab": {
     "base_uri": "https://localhost:8080/"
    },
    "id": "Cg8hpe5ymrCF",
    "outputId": "1adef10b-42b5-4fba-9b50-05eca0812d73"
   },
   "outputs": [
    {
     "name": "stdout",
     "output_type": "stream",
     "text": [
      "Looking in indexes: https://pypi.org/simple, https://us-python.pkg.dev/colab-wheels/public/simple/\n",
      "Requirement already satisfied: xgboost in /usr/local/lib/python3.7/dist-packages (0.90)\n",
      "Requirement already satisfied: scipy in /usr/local/lib/python3.7/dist-packages (from xgboost) (1.7.3)\n",
      "Requirement already satisfied: numpy in /usr/local/lib/python3.7/dist-packages (from xgboost) (1.21.6)\n"
     ]
    }
   ],
   "source": [
    "#pip install xgboost"
   ]
  },
  {
   "cell_type": "markdown",
   "metadata": {
    "id": "g9Se8R5jmrCG"
   },
   "source": [
    "## 2. XgBoost"
   ]
  },
  {
   "cell_type": "code",
   "execution_count": 121,
   "metadata": {
    "colab": {
     "base_uri": "https://localhost:8080/"
    },
    "id": "7wyg54rNmrCG",
    "outputId": "990822db-3b6c-4509-801d-b2a84ecaaad0"
   },
   "outputs": [
    {
     "name": "stderr",
     "output_type": "stream",
     "text": [
      "/usr/local/lib/python3.7/dist-packages/sklearn/preprocessing/_label.py:98: DataConversionWarning: A column-vector y was passed when a 1d array was expected. Please change the shape of y to (n_samples, ), for example using ravel().\n",
      "  y = column_or_1d(y, warn=True)\n",
      "/usr/local/lib/python3.7/dist-packages/sklearn/preprocessing/_label.py:133: DataConversionWarning: A column-vector y was passed when a 1d array was expected. Please change the shape of y to (n_samples, ), for example using ravel().\n",
      "  y = column_or_1d(y, warn=True)\n"
     ]
    },
    {
     "name": "stdout",
     "output_type": "stream",
     "text": [
      "0.9357429718875502\n"
     ]
    }
   ],
   "source": [
    "import xgboost as xgb\n",
    "\n",
    "xgb_cl = xgb.XGBClassifier()\n",
    "\n",
    "from sklearn.metrics import accuracy_score\n",
    "\n",
    "# Init classifier\n",
    "xgb_cl = xgb.XGBClassifier()\n",
    "\n",
    "# Fit\n",
    "xgb_cl.fit(X_train, y_train)\n",
    "\n",
    "# Predict\n",
    "preds = xgb_cl.predict(X_test)\n",
    "\n",
    "# Score\n",
    "print(accuracy_score(y_test, preds))\n"
   ]
  },
  {
   "cell_type": "code",
   "execution_count": 122,
   "metadata": {
    "colab": {
     "base_uri": "https://localhost:8080/",
     "height": 477
    },
    "id": "jABBeBVmmrCG",
    "outputId": "92727488-ba7d-439f-c3d3-20b08d5d49ad"
   },
   "outputs": [
    {
     "name": "stdout",
     "output_type": "stream",
     "text": [
      "accuracy is  0.9357429718875502\n",
      "              precision    recall  f1-score   support\n",
      "\n",
      "   Excellent       0.95      0.97      0.96        90\n",
      "        Good       0.93      0.93      0.93        97\n",
      "        Poor       0.89      0.89      0.89        35\n",
      "   Very Poor       1.00      0.93      0.96        27\n",
      "\n",
      "    accuracy                           0.94       249\n",
      "   macro avg       0.94      0.93      0.93       249\n",
      "weighted avg       0.94      0.94      0.94       249\n",
      "\n"
     ]
    },
    {
     "data": {
      "image/png": "[encoded data removed]",
      "text/plain": [
       "<Figure size 432x288 with 2 Axes>"
      ]
     },
     "metadata": {
      "needs_background": "light"
     },
     "output_type": "display_data"
    }
   ],
   "source": [
    "from sklearn.metrics import classification_report, confusion_matrix, accuracy_score\n",
    "result = confusion_matrix(y_test, preds)\n",
    "#print(confusion_matrix(y_test, preds))\n",
    "\n",
    "sns.heatmap(result, annot=True)\n",
    "\n",
    "result2 = accuracy_score(y_test,preds)\n",
    "print(\"accuracy is \",result2)\n",
    "result1 = classification_report(y_test, preds)\n",
    "print (result1)\n"
   ]
  },
  {
   "cell_type": "code",
   "execution_count": 122,
   "metadata": {
    "id": "moRdTSG0mrCH"
   },
   "outputs": [],
   "source": []
  },
  {
   "cell_type": "code",
   "execution_count": 122,
   "metadata": {
    "id": "lpZHEwrgmrCH"
   },
   "outputs": [],
   "source": []
  }
 ],
 "metadata": {
  "colab": {
   "collapsed_sections": [],
   "provenance": []
  },
  "kernelspec": {
   "display_name": "Python 3 (ipykernel)",
   "language": "python",
   "name": "python3"
  },
  "language_info": {
   "codemirror_mode": {
    "name": "ipython",
    "version": 3
   },
   "file_extension": ".py",
   "mimetype": "text/x-python",
   "name": "python",
   "nbconvert_exporter": "python",
   "pygments_lexer": "ipython3",
   "version": "3.11.2"
  }
 },
 "nbformat": 4,
 "nbformat_minor": 1
}
